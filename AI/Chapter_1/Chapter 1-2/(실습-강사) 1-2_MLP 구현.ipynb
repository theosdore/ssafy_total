{
 "cells": [
  {
   "cell_type": "markdown",
   "metadata": {
    "id": "4O_zgP34Gt0K"
   },
   "source": [
    "### **Content License Agreement**\n",
    "\n",
    "<font color='red'><b>**WARNING**</b></font> : 본 자료는 삼성청년SW·AI아카데미의 컨텐츠 자산으로, 보안서약서에 의거하여 어떠한 사유로도 임의로 복사, 촬영, 녹음, 복제, 보관, 전송하거나 허가 받지 않은 저장매체를 이용한 보관, 제3자에게 누설, 공개 또는 사용하는 등의 무단 사용 및 불법 배포 시 법적 조치를 받을 수 있습니다."
   ]
  },
  {
   "cell_type": "markdown",
   "metadata": {
    "id": "wBMRC-8eG2Fh"
   },
   "source": [
    "### **Objectives**\n",
    "\n",
    "1. **실습명**: MLP 구현\n",
    "\n",
    "2. **핵심 주제**\n",
    "  - PyTorch nn.Sequential을 이용한 MLP 아키텍처 설계\n",
    "  - forward와 \\_\\_call\\_\\_ 매직 메서드의 역할 이해\n",
    "  - 학습/검증 루프 구성 및 Early Stopping을 활용한 모델 평가\n",
    "\n",
    "3. **학습 목표**\n",
    "  - MLP 모델 구조를 설계하고 구현할 수 있다.\n",
    "  - PyTorch의 `forward` 호출 메커니즘을 설명할 수 있다.\n",
    "  - `DataLoader`와 `Dataset`을 활용해 데이터 배치 처리 코드를 작성할 수 있다.\n",
    "  - 학습 중 `train()`/`eval()` 모드 전환과 Dropout 동작을 검증할 수 있다.\n",
    "  - 검증 손실 기준으로 Early Stopping을 적용해 최적의 모델을 저장·불러올 수 있다.\n",
    "\n",
    "4. **학습 개념**\n",
    "  - **`nn.Module`**: PyTorch 모델 클래스의 기본 인터페이스로, `forward`와 매직 메서드를 지원한다.\n",
    "  - **`__call__`**: 객체에 () 연산을 걸면 내부에서 `forward` 호출 흐름을 관리하는 매직 메서드다.\n",
    "  - **`DataLoader`**: `Dataset`을 배치 단위로 읽어오고, shuffle·병렬 로딩을 지원하는 헬퍼 클래스다.\n",
    "\n",
    "5. **학습 방향**\n",
    "  - 실습은 PyTorch 기반의 MLP 모델을 순차적으로 설계·구현합니다.\n",
    "  - 먼저 `nn.Sequential`을 사용해 3계층 MLP를 정의한 뒤, `forward`와 `__call__` 매커니즘을 검토합니다.\n",
    "  - `sklearn.datasets.load_digits`로 손글씨 숫자 데이터를 로드하고, `train_test_split`으로 80/10/10 분할 후 `StandardScaler`로 정규화합니다.\n",
    "  - 변환된 NumPy 배열을 `TensorDataset`과 `DataLoader`로 감싸 배치 처리를 구현하고, 학습/검증 루프를 작성합니다.\n",
    "  - `train()`/`eval()` 모드를 전환하며 Dropout 동작을 확인하고, 검증 손실 기반 Early Stopping으로 최적 체크포인트를 저장합니다.\n",
    "\n",
    "6. **데이터셋 개요 및 저작권 정보**\n",
    "  - 데이터셋 명: sklearn `load_digits`\n",
    "  - 데이터셋 개요: 8×8 화소로 축소된 손글씨 숫자 이미지 1,797개와 레이블(0–9)로 구성된 분류용 데이터셋\n",
    "  - 데이터셋 저작권: 원본은 UCI Machine Learning Repository 공개 도메인 데이터이며, scikit-learn에서 재배포 및 가공하여 제공됩니다.\n"
   ]
  },
  {
   "cell_type": "markdown",
   "metadata": {},
   "source": [
    "### **Prerequisites**\n",
    "```\n",
    "numpy>=1.26\n",
    "pandas>=2.0\n",
    "scikit-learn>=1.4\n",
    "seaborn>=0.12\n",
    "torch>=2.2\n",
    "matplotlib>=3.8\n",
    "```\n"
   ]
  },
  {
   "cell_type": "markdown",
   "metadata": {
    "id": "8-_D1uG2G67l"
   },
   "source": [
    "# 🔥 PyTorch를 활용한 MLP 구현하기\n",
    "**학습 목표**\n",
    "  - PyTorch nn.Module에서 `forward`가 어떻게 연동되어 함수 호출처럼 동작하는지 이해한다.\n",
    "  - 모델 객체를 호출할 때 실행되는 전처리(pre-forward hook), 순전파(forward), 후처리(post-forward hook), 자동미분 그래프 등록 과정을 단계별로 파악할 수 있다.\n",
    "\n",
    "**학습 개념**\n",
    "  - `forward` : 사용자가 구현하는 순전파 로직 메서드로, `__call__`에 의해 자동 실행됨\n",
    "  - Hook : 모듈 실행 전(pre-forward)·후(post-forward) 시점에 추가 로직을 삽입할 때 사용하는 함수\n",
    "  - Autograd : 연산 그래프를 동적으로 구성하고 역전파(backpropagation)를 수행하는 PyTorch 자동 미분 엔진\n",
    "  - nn.Module : 파라미터 관리, hook 등록 기능을 제공하는 PyTorch 모델의 기본 클래스\n",
    "\n",
    "**진행하는 실습 요약**\n",
    "  - 간단한 `nn.Module` 서브클래스를 정의하고 `forward` 메서드를 구현한다.\n",
    "  - 자동미분을 위한 그래프 노드 등록 순서로 동작하는 것을 코드로 직접 확인한다.\n",
    "  - 손수 hook 함수를 등록해 실행 순서를 출력해 보고, 실제 `criterion(y_pred, y_true)`도 동일한 `forward` 흐름을 사용함을 실습한다.\n",
    "  - 이 과정을 통해 PyTorch 모듈이 함수처럼 호출되는 메커니즘을 명확히 이해하고, 커스텀 레이어 설계 를 학습한다."
   ]
  },
  {
   "cell_type": "markdown",
   "metadata": {
    "id": "ZWJsjcOtCqNc"
   },
   "source": [
    "오늘은 드디어 가장 기초적인 딥러닝 실습을 진행할 예정입니다. PyTorch 라이브러리를 통해 기본적인 Multi-layer Perceptron을 구현하여 학습하는 방법에 대해서 배워볼 예정입니다! 이번 실습은모델을 성공적으로 학습시키는 것보다, PyTorch와 친해지는 것에 초점을 둡니다.\n",
    "\n",
    "**런타임 변경**\n",
    "- 본 실습을 시작하기 전에 설정할 것이 있습니다. 바로 해당 Colaboratory 세션의 런타임을 변경하는 것입니다. 딥러닝은 행렬곱을 많이 사용하기 때문에 단순한 병렬계산이 많이 사용됩니다. 여기에 유리한 것이 바로 GPU입니다. 우측 상단의 ▾ 모양의 드롭다운을 눌러 Change Runtime Type ➡️ T4 GPU 선택 ➡️ Disconnect and delet runtime 팝업이 뜨면 OK 선택 ➡️ Save 를 통해 Runtime을 변경해줍니다.\n",
    "\n",
    "- 이를 먼저 수행하는 이유는 런타임이 변경되면 현재 작업 중인 변수들이 초기화되기 때문입니다. 그래서 시작 전에 변경해주어야 합니다.\n",
    "\n",
    "- ⚠️ GPU는 비싼 리소스입니다. 한정된 자원을 여러 사용자가 나눠 사용하기 때문에, GPU를 할당 받은 후 활동이 없거나, 일정시간 이상 사용하게 되면 자동으로 리소스가 반환되는 점 유의해주세요. 따라서 당장 학습을 진행하는 것이 아니라 이런 저런 테스트를 진행해보는 중이라면 굳이 런타임을 GPU로 변경하지 않는 것을 추천합니다!\n",
    "- 참고: [Colab FAQ](https://research.google.com/colaboratory/faq.html)\n"
   ]
  },
  {
   "cell_type": "markdown",
   "metadata": {
    "id": "mfwJlPWJFRDM"
   },
   "source": [
    "**🔥 PyTorch**     \n",
    "본격적으로 PyTorch를 사용해봅시다. Colab에는 기본적으로 torch가 설치되어 있기 때문에 Colab 환경 사용시 별도의 설치가 필요하지 않습니다. 하지만 만약 추가로 설치해야한다면 홈페이지에 방문하여 본인의 환경에 맞춰 설치를 진행해주세요.\n",
    "- https://pytorch.org/get-started/locally/\n",
    "\n",
    "\n",
    "PyTorch는 NumPy와 사용이 유사합니다. 실제로 사용자들의 혼란을 줄이기 위해 NumPy에 존재하는 같은 기능의 함수를 같은 이름으로 구현해둔 것이 대부분입니다. 하지만 일부 차이가 존재할 수 있기 때문에 정확한 동작을 이해하기 위해서는 API Reference를 항상 참고해주세요.\n",
    "\n",
    "NumPy의 시작이 np.array였다면 PyTorch의 시작은 torch.Tensor입니다. 모든 것은 텐서를 기반으로 동작합니다."
   ]
  },
  {
   "cell_type": "code",
   "execution_count": null,
   "metadata": {
    "colab": {
     "base_uri": "https://localhost:8080/"
    },
    "executionInfo": {
     "elapsed": 2761,
     "status": "ok",
     "timestamp": 1755341600582,
     "user": {
      "displayName": "Daehyun Cho",
      "userId": "17899950084767957204"
     },
     "user_tz": -540
    },
    "id": "jY7v8GKTGvJG",
    "outputId": "57634f7c-1a61-4107-a68c-62df8561e9bd"
   },
   "outputs": [
    {
     "name": "stdout",
     "output_type": "stream",
     "text": [
      "x:\n",
      " tensor([[0.5059, 0.1961, 0.7272],\n",
      "        [0.6410, 0.9498, 0.2621],\n",
      "        [0.7317, 0.1435, 0.6068]])\n",
      "y:\n",
      " tensor([[1., 1., 1.],\n",
      "        [1., 1., 1.],\n",
      "        [1., 1., 1.]])\n",
      "x + y:\n",
      " tensor([[1.5059, 1.1961, 1.7272],\n",
      "        [1.6410, 1.9498, 1.2621],\n",
      "        [1.7317, 1.1435, 1.6068]])\n",
      "x @ y.T:\n",
      " tensor([[1.4292, 1.4292, 1.4292],\n",
      "        [1.8529, 1.8529, 1.8529],\n",
      "        [1.4820, 1.4820, 1.4820]])\n"
     ]
    }
   ],
   "source": [
    "import torch\n",
    "\n",
    "x = torch.rand(3, 3)   # 0~1 사이 랜덤 값\n",
    "y = torch.ones(3, 3)   # 모두 1인 텐서\n",
    "print(\"x:\\n\", x)\n",
    "print(\"y:\\n\", y)\n",
    "print(\"x + y:\\n\", x + y)\n",
    "print(\"x @ y.T:\\n\", x @ y.T)  # 행렬곱"
   ]
  },
  {
   "cell_type": "markdown",
   "metadata": {
    "id": "FJQljVruGzSC"
   },
   "source": [
    "가속화가 필수라면... 굳이 PyTorch를 쓰지 않고 NumPy를 CUDA에서 사용할 수 있게 만든 CuPy를 쓰는게 낫지 않았을까요? PyTorch를 사용해야하는 가장 큰 이유는 바로 AutoGrad 기능 때문입니다.\n",
    "\n",
    "**Pytorch Autograd**   \n",
    "Autograd는 PyTorch에서 자동으로 미분을 계산해주는 엔진입니다.\n",
    "우리가 텐서 연산을 수행하면, PyTorch는 연산 그래프(computational graph) 를 만들고,\n",
    ".backward() 호출 시 그 그래프를 따라 역전파(Backpropagation) 를 실행하여 기울기를 구합니다.\n",
    "\n",
    "1. 기본 동작 원리\n",
    "  -\t`requires_grad=True` 로 설정된 텐서에 대해 모든 연산 과정을 추적합니다.\n",
    "  -\t연산이 일어날 때마다 `grad_fn` 이라는 연산 노드가 연결되어 그래프가 확장됩니다.\n",
    "  -\t`.backward()`를 호출하면, 스칼라 값에서 시작하여 그래프를 따라 거꾸로 기울기를 전파합니다.\n",
    "  -\t계산된 기울기는 `.grad` 속성에 저장됩니다.\n",
    "\n",
    "2. 예시:\n",
    "$$ y = x^2 + 3x + 1, x, y \\in R^2 $$\n",
    "$$ z = y_1 + y_2 $$\n",
    "\n",
    "여기서 어떤 하나의 스칼라 출력값 $z$는 $x$의 변화에 어떻게 반응할까요? 우리는 이를 $\\frac{\\partial z}{\\partial x}$라고 표기되는 미분이라 표현하고 우리는 역전파를 위해 이 값이 늘 필요합니다. 수식을 조금 더 구체적으로 살펴볼까요? $z$라는 변수는 $x$라는 벡터에 의해서 변하기 때문에 다음과 같이 표기합니다.\n",
    "$$\n",
    "\\frac{\\partial z}{\\partial x}=[ \\frac{\\partial z}{\\partial x_1} , \\frac{\\partial z}{\\partial x_2} ]\n",
    "$$\n",
    "\n",
    "$$\n",
    "= [ \\frac{\\partial z}{\\partial y_1} \\frac{\\partial y_1}{\\partial x_1} ,  \\frac{\\partial z}{\\partial y_2} \\frac{\\partial y_2}{\\partial x_2} ]\n",
    "$$\n",
    "\n",
    "$\\frac{\\partial z}{\\partial y}$는 모두 1이기 대문에 실질적으로 $\\frac{\\partial y}{\\partial x}$만 계산해주면 됩니다. $x$에 대한 $y$의 미분은 손쉽게 $2x+3$이 되는 것을 알기 때문에 최종적으로 미분은 다음과 같이 계산됩니다.\n",
    "\n",
    "$$\n",
    "\\frac{\\partial z}{\\partial x}=[2x_1+3, 2x_2+3]\n",
    "$$\n",
    "\n",
    "실제로 이렇게 계산되는지 확인해볼까요? 아래 코드를 살펴봅시다. 현재 $x=[2, 3]$인 벡터를 가정하고 연산을 해봅시다. 수식에 따르면 $\\frac{\\partial z}{\\partial x}=[7, 9]$가 계산되어야 합니다."
   ]
  },
  {
   "cell_type": "code",
   "execution_count": null,
   "metadata": {
    "colab": {
     "base_uri": "https://localhost:8080/"
    },
    "executionInfo": {
     "elapsed": 58,
     "status": "ok",
     "timestamp": 1755341600636,
     "user": {
      "displayName": "Daehyun Cho",
      "userId": "17899950084767957204"
     },
     "user_tz": -540
    },
    "id": "5bW8gpftGyI6",
    "outputId": "927466ce-8d14-4d94-a479-6a9da9d932e1"
   },
   "outputs": [
    {
     "name": "stdout",
     "output_type": "stream",
     "text": [
      "tensor([7., 9.])\n"
     ]
    }
   ],
   "source": [
    "x = torch.tensor([2.0, 3.0], requires_grad=True)\n",
    "y = x ** 2 + 3 * x + 1\n",
    "z = y.sum()        # 스칼라\n",
    "\n",
    "z.backward()       # 역전파 시작\n",
    "print(x.grad)      # dz/dx 값 출력: [7., 9.]"
   ]
  },
  {
   "cell_type": "markdown",
   "metadata": {
    "id": "ANDoMr6LMTMr"
   },
   "source": [
    "실제로 잘 계산되었나요? 이를 어떻게 응용해볼 수 있을까요? 선형회귀 모델을 다시 떠올려봅시다. 아주 간단한 모델을 생각해보겠습니다.\n",
    "\n",
    "$$ y = \\theta x + b $$\n",
    "\n",
    "여기서 $\\theta$와 $b$는 학습해야하는 매개변수이고, 실제로 예측해야하는 회귀 타겟변수 $y$, 그리고 독립변수 $x$가 존재한다고 해봅시다. 어떻게 경사하강법을 진행했었는지 다시 떠올려봅시다.\n",
    "\n",
    "데이터가 `x=2`, `y=4`인 상황이라고 가정합시다.\n",
    "1. 초기 매개변수값 설정 (e.g. $\\theta=3$, $b=1$)\n",
    "2. 현재 매개변수를 통한 예측값 출력 (e.g. $\\hat{y}=3\\times2+1=7$)\n",
    "3. MSE 계산 (e.g. $L=(\\hat{y}-y)^2=(7-4)^2=3$)\n",
    "4. MSE를 기반으로 미분 후 업데이트\n",
    "  - $\\frac{\\partial L}{\\partial \\theta}=\\frac{1}{n}\\sum{2(\\hat{y}-y})x=2\\times3\\times2=12$\n",
    "  - $\\frac{\\partial L}{\\partial \\theta}=\\frac{1}{n}\\sum{2(\\hat{y}-y})=2\\times3=6$\n",
    "\n",
    "복습해보니 기억이 나시나요? 아래 수식으로 실제로 계산이 되는지 확인해봅시다."
   ]
  },
  {
   "cell_type": "code",
   "execution_count": null,
   "metadata": {
    "colab": {
     "base_uri": "https://localhost:8080/"
    },
    "executionInfo": {
     "elapsed": 47,
     "status": "ok",
     "timestamp": 1755341600701,
     "user": {
      "displayName": "Daehyun Cho",
      "userId": "17899950084767957204"
     },
     "user_tz": -540
    },
    "id": "88nNRYTrOz2C",
    "outputId": "2069e426-7a84-4892-8924-63e4459e4134"
   },
   "outputs": [
    {
     "data": {
      "text/plain": [
       "(tensor([[12.]]), tensor([[6.]]))"
      ]
     },
     "execution_count": 3,
     "metadata": {},
     "output_type": "execute_result"
    }
   ],
   "source": [
    "# 파라미터 정의 (requires_grad=True)\n",
    "weight = torch.tensor([[3.0]], requires_grad=True)\n",
    "bias   = torch.tensor([[1.0]], requires_grad=True)\n",
    "\n",
    "# 입력과 목표값\n",
    "x = torch.tensor([[2.0]])\n",
    "y_true = torch.tensor([[4.0]])\n",
    "\n",
    "# 순전파 → 손실 계산\n",
    "y_pred = x @ weight + bias              # 선형 모델\n",
    "loss = torch.mean((y_pred - y_true) ** 2)\n",
    "\n",
    "# 역전파\n",
    "loss.backward()\n",
    "\n",
    "weight.grad, bias.grad"
   ]
  },
  {
   "cell_type": "markdown",
   "metadata": {
    "id": "_A-qaIDKO5mh"
   },
   "source": [
    "오 실제로 미분값이 잘 나오네요. 여기서 우리가 업데이트를 진행해주는 방식은 현재 매개변수에서 학습률만큼 곱한 미분을 빼주는 것이었습니다. 코드를 마저 마무리해보면"
   ]
  },
  {
   "cell_type": "code",
   "execution_count": null,
   "metadata": {
    "colab": {
     "base_uri": "https://localhost:8080/"
    },
    "executionInfo": {
     "elapsed": 6,
     "status": "ok",
     "timestamp": 1755341600741,
     "user": {
      "displayName": "Daehyun Cho",
      "userId": "17899950084767957204"
     },
     "user_tz": -540
    },
    "id": "kTDD3yuCMrSQ",
    "outputId": "7ef5f101-e1e5-4acf-88f2-71d5c96ff7be"
   },
   "outputs": [
    {
     "name": "stdout",
     "output_type": "stream",
     "text": [
      "tensor([[1.8000]], requires_grad=True) tensor([[0.4000]], requires_grad=True)\n"
     ]
    }
   ],
   "source": [
    "# 파라미터 업데이트\n",
    "with torch.no_grad():\n",
    "    # requires_grad=True인 텐서는 inplace operation (+=, -=와 같은)이 불가합니다.\n",
    "    # 이런 경우 torch.no_grad context를 켜서 작업해주면\n",
    "    weight -= 0.1 * weight.grad\n",
    "    bias   -= 0.1 * bias.grad\n",
    "\n",
    "    # 미분은 덮어쓰는게 아니라 누적 되기 때문에 없애줘야함.\n",
    "    # weight / bias의 미분을 중간중간 없애줘야함\n",
    "    weight.grad.zero_()\n",
    "    bias.grad.zero_()\n",
    "\n",
    "print(weight, bias)"
   ]
  },
  {
   "cell_type": "markdown",
   "metadata": {
    "id": "Z8lnJfdDnQlO"
   },
   "source": [
    "잘 업데이트된걸 확인할 수 있습니다 :)   \n",
    "하지만 아직은 PyTorch의 장점을 모두 사용하지는 않았습니다. 아무래도 학습에서 제일 중요한 부분은 미분을 계산하는 부분이지만, 그 밖에 많은 부분들은 여전히 수동적으로 업데이트합니다. 위의 코드에서 몇 가지를 자동화해볼 수 있습니다.\n",
    "\n",
    "1. **Parameter 선언**: 선형모델에서 Feature마다 곱해지는 선형계수를 간단하게 처리할 수 있습니다. 편향항까지 따로 정의하지않고 계산할 수 있습니다.\n",
    "2. **손실함수 정의**: MSE와 같이 단순한 수식은 함수로 정의하면 좋지만, 새로운 프로젝트가 생기면 거기에 또다시 MSE를 작성해야 합니다. 이는 코드 관리를 하는데 있어 불리한 면이 작용합니다. PyTorch에는 우리가 자주 쓰는 MSELoss 같은 손실함수들이 구현되어 있습니다. import 후 사용하면 됩니다 :)\n",
    "2. **Parameter 업데이트**: torch.optim 모듈은 우리가 학습해야하는 파라미터를 등록하면, 미분값에 따라 자동으로 업데이트해주는 기능을 가지고 있습니다.\n",
    "\n",
    "설명만 듣고는 이해가 어렵습니다. 다음 코드를 확인해봅시다."
   ]
  },
  {
   "cell_type": "code",
   "execution_count": null,
   "metadata": {
    "colab": {
     "base_uri": "https://localhost:8080/"
    },
    "executionInfo": {
     "elapsed": 10702,
     "status": "ok",
     "timestamp": 1755341611444,
     "user": {
      "displayName": "Daehyun Cho",
      "userId": "17899950084767957204"
     },
     "user_tz": -540
    },
    "id": "rECcDJf7nM71",
    "outputId": "b00c3a50-b53d-48e1-aa63-902a5bc8a109"
   },
   "outputs": [
    {
     "name": "stdout",
     "output_type": "stream",
     "text": [
      "Epoch [20/200], Loss: 0.2310\n",
      "Epoch [40/200], Loss: 0.2307\n",
      "Epoch [60/200], Loss: 0.2305\n",
      "Epoch [80/200], Loss: 0.2303\n",
      "Epoch [100/200], Loss: 0.2301\n",
      "Epoch [120/200], Loss: 0.2300\n",
      "Epoch [140/200], Loss: 0.2299\n",
      "Epoch [160/200], Loss: 0.2298\n",
      "Epoch [180/200], Loss: 0.2297\n",
      "Epoch [200/200], Loss: 0.2297\n",
      "\n",
      "학습된 가중치와 편향:\n",
      "weight: tensor([[2.0010]])\n",
      "bias: tensor([0.9972])\n"
     ]
    }
   ],
   "source": [
    "from torch import nn\n",
    "from torch import optim\n",
    "\n",
    "# 더미 데이터 준비: y = 2x + 1\n",
    "X = torch.linspace(0, 10, 100).unsqueeze(1)  # shape: (100, 1)\n",
    "y_true = 2 * X + 1 + 0.5 * torch.randn_like(X)  # 약간의 노이즈 추가\n",
    "\n",
    "# 1. Paramter 선언\n",
    "# 이렇게 하면 weight, bias가 자동으로 준비됩니다.\n",
    "# 우리는 1차원 변수 x로 1차원 변수 y를 예측하기 때문에 아래와 같이 선언하면 됩니다.\n",
    "model = nn.Linear(in_features=1, out_features=1)  # 입력 1차원, 출력 1차원\n",
    "\n",
    "# 2. 손실 함수 정의\n",
    "# torch.nn에서 불러올 수 있습니다.\n",
    "criterion = nn.MSELoss()\n",
    "\n",
    "# 3. Parameter 업데이트\n",
    "# 현재 사용하고 있는 업데이트 방식은 Mini-batch Gradient Descent입니다.\n",
    "# 정확한 정의는 batch_size=1일때 Stochastic Gradient Descent, 줄여서 SGD라고 부르는데\n",
    "# PyTorch에서는 가장 기본적인 미분 기반의 업데이트 방식을 SGD를 선언하여 진행할 수 있습니다.\n",
    "# 선언할 떄는 업데이트 대상인 매개변수와 학습률을 입력해야합니다.\n",
    "optimizer = optim.SGD(model.parameters(), lr=0.01)\n",
    "\n",
    "# 4. 학습 루프\n",
    "epochs = 200\n",
    "for epoch in range(epochs):\n",
    "    # 기울기 초기화: 위에서 진행한 weight.grad.zero_()를 자동으로 수행해줍니다.\n",
    "    # 수행대상은 선언할 때 등록한 모델의 매개변수입니다.\n",
    "    optimizer.zero_grad()\n",
    "\n",
    "    # 예측값 만들어주기: model(X)로 가능합니다\n",
    "    # 이에 대한 자세한 작동방식은 후에 살펴보겠습니다.\n",
    "    y_pred = model(X)\n",
    "\n",
    "    # Loss 계산도 마찬가지로 위에서 선언한 손실함수를 활용합니다.\n",
    "    loss = criterion(y_pred, y_true)\n",
    "\n",
    "    # Loss를 계산하고 미분을 계산해줍니다.\n",
    "    loss.backward()\n",
    "\n",
    "    # 매개변수를 업데이트해줍니다.\n",
    "    # 위에서 진행한 weight -= lr * weight.grad 부분입니다.\n",
    "    # 모든 매개변수가 optimizer 안에 등록되어 있기 때문에\n",
    "    # 매개변수 별로 업데이트 코드를 짜주지 않아도 됩니다.\n",
    "    optimizer.step()\n",
    "\n",
    "    if (epoch+1) % 20 == 0:\n",
    "        print(f\"Epoch [{epoch+1}/{epochs}], Loss: {loss.item():.4f}\")\n",
    "\n",
    "# 학습 결과 출력\n",
    "print(\"\\n학습된 가중치와 편향:\")\n",
    "for name, param in model.named_parameters():\n",
    "    print(f\"{name}: {param.data}\")"
   ]
  },
  {
   "cell_type": "markdown",
   "metadata": {
    "id": "UeMG2zpxk-TW"
   },
   "source": [
    "\n",
    "가장 기본적인 PyTorch 학습코드를 완성시켰습니다 🎉. 그 외에 대다수 연산은 `numpy`와 유사한 점이 많기 때문에 크게 어려운 점이 없을겁니다. 추가로 알아야할 사항이 있습니다.\n",
    "\n",
    "1. 가속화 기기 활용하기: torch.Tensor를 CPU가 아닌 GPU 연산을 사용하려면 `.to` 메소드를 활용해야 합니다. 다음 셀에서 예제로 살펴보겠습니다.\n",
    "2. `numpy.array` ↔️ `torch.Tensor`: 두 라이브러리 사이 데이터를 변환하는 것은 자주 등장하기 때문에 알아두어야합니다.\n",
    "3. 복잡한 모델 구성하기: 위에서는 `nn.Linear` 하나로 모델이 완성되었지만, 실제로 수업시간에 배운 Multi-Layer Perceptron 같은 비선형 모델을 구현하기 위해서는 추가적인 모듈이 필요합니다. 이를 하나의 모듈로 결합하는 방법에 대해 배워봅시다."
   ]
  },
  {
   "cell_type": "code",
   "execution_count": null,
   "metadata": {
    "colab": {
     "base_uri": "https://localhost:8080/"
    },
    "executionInfo": {
     "elapsed": 762,
     "status": "ok",
     "timestamp": 1755341612204,
     "user": {
      "displayName": "Daehyun Cho",
      "userId": "17899950084767957204"
     },
     "user_tz": -540
    },
    "id": "SAjp4INkl_Ph",
    "outputId": "14e95ef1-e138-48f0-a295-24a4542112df"
   },
   "outputs": [
    {
     "name": "stdout",
     "output_type": "stream",
     "text": [
      "CUDA가 사용이 가능한가요?: True\n",
      "CPU Tensor: tensor([[1., 0., 0., 0.],\n",
      "        [0., 1., 0., 0.],\n",
      "        [0., 0., 1., 0.],\n",
      "        [0., 0., 0., 1.]])\n",
      "GPU Tensor: tensor([[1., 0., 0., 0.],\n",
      "        [0., 1., 0., 0.],\n",
      "        [0., 0., 1., 0.],\n",
      "        [0., 0., 0., 1.]], device='cuda:0')\n"
     ]
    }
   ],
   "source": [
    "# 1. 가속화기기 활용하기\n",
    "cuda_on = torch.cuda.is_available()\n",
    "print(f\"CUDA가 사용이 가능한가요?: {cuda_on}\")\n",
    "\n",
    "cpu_tensor = torch.eye(4)\n",
    "# 여기서 에러가 동작한다면 런타임을 확인해주세요.\n",
    "gpu_tensor = cpu_tensor.to(\"cuda\")\n",
    "\n",
    "print(f\"CPU Tensor: {cpu_tensor}\")\n",
    "print(f\"GPU Tensor: {gpu_tensor}\")"
   ]
  },
  {
   "cell_type": "code",
   "execution_count": null,
   "metadata": {
    "colab": {
     "base_uri": "https://localhost:8080/"
    },
    "executionInfo": {
     "elapsed": 28,
     "status": "ok",
     "timestamp": 1755341612232,
     "user": {
      "displayName": "Daehyun Cho",
      "userId": "17899950084767957204"
     },
     "user_tz": -540
    },
    "id": "zkne6XWelvFO",
    "outputId": "02bc7293-a964-4243-9094-339b0bc6db01"
   },
   "outputs": [
    {
     "name": "stdout",
     "output_type": "stream",
     "text": [
      "[[1. 0. 0. 0.]\n",
      " [0. 1. 0. 0.]\n",
      " [0. 0. 1. 0.]\n",
      " [0. 0. 0. 1.]] tensor([[1., 0., 0., 0.],\n",
      "        [0., 1., 0., 0.],\n",
      "        [0., 0., 1., 0.],\n",
      "        [0., 0., 0., 1.]], dtype=torch.float64)\n",
      "tensor([[1., 0., 0., 0.],\n",
      "        [0., 1., 0., 0.],\n",
      "        [0., 0., 1., 0.],\n",
      "        [0., 0., 0., 1.]], device='cuda:0') [[1. 0. 0. 0.]\n",
      " [0. 1. 0. 0.]\n",
      " [0. 0. 1. 0.]\n",
      " [0. 0. 0. 1.]]\n"
     ]
    }
   ],
   "source": [
    "# 2. NumPy and Torch\n",
    "import numpy as np\n",
    "\n",
    "# numpy to torch\n",
    "np_array = np.eye(4)\n",
    "t_from_numpy = torch.from_numpy(np_array)\n",
    "print(np_array, t_from_numpy)\n",
    "\n",
    "# torch to numpy\n",
    "# .numpy를 호출하면 쉽게 변환 가능합니다.\n",
    "# 하지만 텐서가 CUDA에 올라가 있다면 CPU로 변환하고 작동시켜줘야합니다.\n",
    "t_tensor = torch.eye(4).to(\"cuda\")\n",
    "np_from_tensor = t_tensor.cpu().numpy()\n",
    "print(t_tensor, np_from_tensor)"
   ]
  },
  {
   "cell_type": "code",
   "execution_count": null,
   "metadata": {
    "colab": {
     "base_uri": "https://localhost:8080/"
    },
    "executionInfo": {
     "elapsed": 22,
     "status": "ok",
     "timestamp": 1755341612257,
     "user": {
      "displayName": "Daehyun Cho",
      "userId": "17899950084767957204"
     },
     "user_tz": -540
    },
    "id": "ff3R713_q3K6",
    "outputId": "5919df0e-8365-4cd1-e403-a6dbd92704e1"
   },
   "outputs": [
    {
     "data": {
      "text/plain": [
       "torch.Size([40, 1])"
      ]
     },
     "execution_count": 8,
     "metadata": {},
     "output_type": "execute_result"
    }
   ],
   "source": [
    "# 3. Multi-Layer Perceptron 구성하기\n",
    "# `nn.Linear`로도 해결이 가능하면 좋겠지만, 일반적으로 인공신경망은 이러한 선형레이어와\n",
    "# 몇 가지 비선형 함수를 추가하여 구성됩니다.\n",
    "# 복잡한 구성들을 하나의 모델로 합쳐서 사용하는 방법을 배워봅시다.\n",
    "\n",
    "import torch\n",
    "import torch.nn as nn\n",
    "\n",
    "\n",
    "class SimpleMLP(nn.Module):\n",
    "    def __init__(self, input_dim, hidden_dim, output_dim):\n",
    "        # 모델의 구성요소를 정의하는 부분입니다.\n",
    "\n",
    "        # 🌟 PyTorch 모델을 구성할 때 항상 넣어줘야하는 코드입니다.\n",
    "        super().__init__()\n",
    "\n",
    "        # 여기에 Layer를 정의합니다.\n",
    "        self.fc1 = nn.Linear(input_dim, hidden_dim)\n",
    "        self.relu = nn.ReLU()\n",
    "        self.fc2 = nn.Linear(hidden_dim, output_dim)\n",
    "\n",
    "    def forward(self, x):\n",
    "        # 실제 데이터를 입력으로 받았을 때 __init__에서 정의한 레이어 순서대로 입력을 보내주는 코드입니다.\n",
    "        x = self.fc1(x)\n",
    "        x = self.relu(x)\n",
    "        x = self.fc2(x)\n",
    "        return x\n",
    "\n",
    "\n",
    "class SequentialMLP(nn.Module):\n",
    "    def __init__(self, input_dim, hidden_dim, output_dim):\n",
    "        super().__init__()\n",
    "\n",
    "        # 위에서 제작한 코드가 기본적인 형태입니다.\n",
    "        # 하지만 매번 forward에서 정의한 layer들을 쓰면서 넘기기는 귀찮네요.\n",
    "        # nn.Sequential을 이용하면 귀찮음을 해결할 수 있습니다.\n",
    "        self.layers = nn.Sequential(\n",
    "            nn.Linear(input_dim, hidden_dim),\n",
    "            nn.ReLU(),\n",
    "            nn.Linear(hidden_dim, output_dim)\n",
    "        )\n",
    "\n",
    "    def forward(self, x):\n",
    "        # 귀찮음 해결 ☝️\n",
    "        return self.layers(x)\n",
    "\n",
    "\n",
    "# 실제로 작동하는 모델을 선언하려면 위에서 정의한 클래스를 객체로 만들어줘야합니다.\n",
    "model = SequentialMLP(input_dim=20, hidden_dim=10, output_dim=1)\n",
    "\n",
    "# 더미데이터를 만들어서 의도한대로 작동하는지 확인하는 작업입니다.\n",
    "# 위에서 모델을 정의할 때 input_dim=20으로 만들었기 때문에 특성이 20개인 데이터를 만들어줍니다.\n",
    "# 예시로 전체 데이터의 수는 40건이 있다고 가정합시다.\n",
    "# 그렇다면 X는 다음과 같이 정의됩니다.\n",
    "X = torch.ones(size=(40, 20))\n",
    "y_pred = model(X)\n",
    "y_pred.size()"
   ]
  },
  {
   "cell_type": "markdown",
   "metadata": {
    "id": "CtJuFdhctldE"
   },
   "source": [
    "지금 위에서 더미데이터를 생성할 때 텐서의 모양이 (40, 20)이었습니다. `nn.Linear`의 입력은 항상 (데이터의수, 입력차원수)로 받아줘야합니다. 왜냐하면 PyTorch는 데이터 학습을 배치처리하는데 효율적인 방법을 구현했기 때문입니다 :) 그래서 출력값 또한 (데이터수, 1)이 됩니다. `SequentialMLP`의 마지막 레이어가 `nn.Linear(hidden_dim, 1)`이기 떄문에 출력 특성수가 하나이기 때문입니다."
   ]
  },
  {
   "cell_type": "markdown",
   "metadata": {
    "id": "MJgCGfge1983"
   },
   "source": [
    "### 📝 참고: 객체에 `()`를 걸면 어떻게 될까?\n",
    "\n",
    "위에서 조금 독특한 연산이 있습니다. 바로 `model(X)`와 `criterion(y_pred, y_true)`입니다. 단순 객체인데 왜 함수처럼 작동이 가능할까요? 정답은 예전에 설명한 magic method에 있습니다. 클래스에 `__call__`이 구현되어 있으면 생성한 객체를 함수처럼 사용할 수 있습니다.   \n",
    "\n",
    "그렇다면 PyTorch 모듈도 `__call__`를 커스텀하면 될까요? 위에 코드를 보셔서 아시겠지만 우리는 `forward`를 구현하였습니다. 실제로 `model(X)`를 수행하면 `forward`가 호출하는데, 이것은 PyTorch 구현에서 필요한 모든 동작이 `__call__`에 이미 정의되어 있기 때문입니다.\n",
    "\n",
    "`nn.Module`의 `__call__` 내부는 대략 다음 순서로 동작합니다:\n",
    "  1. 입력 텐서에 대한 전처리(등록된 pre-forward hook 실행)\n",
    "  2. 실제 forward 메서드 호출\n",
    "  3. 출력 텐서에 대한 후처리(등록된 post-forward hook 실행)\n",
    "  4. 자동미분을 위한 그래프 연결 및 backward hook 등록\n",
    "\n",
    "따라서 사용자는 오직 `forward`만 구현하면 되고, 모델을 호출할 때마다 PyTorch가 알아서 `__call__` ↔ `forward` 흐름을 관리해 줍니다. 결론적으로, 커스텀 레이어를 만들 때는 `__call__`이 아니라 `forward`만 정의하면 충분합니다.\n"
   ]
  },
  {
   "cell_type": "markdown",
   "metadata": {
    "id": "7vLDoHB1t-od"
   },
   "source": [
    "### 🧑‍💻 **실습**: 숫자 판독기 만들기\n",
    "\n",
    "이번에는 숫자 판독기를 만들어봅시다. `sklearn.datasets.load_digits`는 사람 손으로 쓰여진 0-9까지의 흑백필기 사진이 담겨져있습니다. 이미지이지만 (8, 8) 사이즈 밖에 되지 않아서 이를 일렬로 펴서 Multi-Layer Perceptron에 통과시켜 숫자를 예측해봅시다.\n",
    "\n",
    "아래 코드는 데이터에 대한 샘플입니다.\n"
   ]
  },
  {
   "cell_type": "code",
   "execution_count": null,
   "metadata": {
    "colab": {
     "base_uri": "https://localhost:8080/",
     "height": 507
    },
    "executionInfo": {
     "elapsed": 2402,
     "status": "ok",
     "timestamp": 1755341614678,
     "user": {
      "displayName": "Daehyun Cho",
      "userId": "17899950084767957204"
     },
     "user_tz": -540
    },
    "id": "6yx3XTgwvl5V",
    "outputId": "a85be1c5-878a-4de3-dc5f-3992d3583402"
   },
   "outputs": [
    {
     "data": {
      "image/png": "[encoded data removed]",
      "text/plain": [
       "<Figure size 1300x500 with 10 Axes>"
      ]
     },
     "metadata": {},
     "output_type": "display_data"
    }
   ],
   "source": [
    "import matplotlib.pyplot as plt\n",
    "from sklearn.datasets import load_digits\n",
    "\n",
    "digits = load_digits()\n",
    "X = digits.data.astype(np.float32)  # (n_samples, 64)\n",
    "y = digits.target.astype(np.int64)\n",
    "\n",
    "# 데이터를 한 번 살펴봅시다.\n",
    "fig, ax = plt.subplots(figsize=(13, 5), nrows=2, ncols=5)\n",
    "for i in range(10):\n",
    "    ax[i // 5, i % 5].imshow(X[i].reshape(8, 8), cmap=\"gray\")\n",
    "    ax[i // 5, i % 5].set_title(f\"Label: {y[i]}\")\n",
    "    ax[i // 5, i % 5].axis(\"off\")\n",
    "fig.tight_layout()"
   ]
  },
  {
   "cell_type": "code",
   "execution_count": null,
   "metadata": {
    "id": "WfPzKKKTuuxl"
   },
   "outputs": [],
   "source": [
    "# 아래는 난수를 고정하는 함수입니다.\n",
    "# 재현성을 위해 구현되어 있습니다.\n",
    "import random\n",
    "def set_seed(seed: int = 42):\n",
    "    random.seed(seed)\n",
    "    np.random.seed(seed)\n",
    "    torch.manual_seed(seed)\n",
    "    torch.cuda.manual_seed_all(seed)\n",
    "    torch.backends.cudnn.deterministic = True\n",
    "    torch.backends.cudnn.benchmark = False\n",
    "\n",
    "SEED = 42\n",
    "set_seed(seed=42)"
   ]
  },
  {
   "cell_type": "code",
   "execution_count": null,
   "metadata": {
    "id": "-tbs4h_gu3_L"
   },
   "outputs": [],
   "source": [
    "# 정답코드\n",
    "# 1. 데이터를 분할하고 표준화해줍니다.\n",
    "# 이번에는 검증데이터 (X_val)과 테스트데이터 (X_test)까지 만들어줍시다.\n",
    "# X_test는 실제로 정답이 없는 처음 보는 데이터로 최종 성능을 확인해야할 데이터,\n",
    "# X_val은 중간중간 모델의 검증결과를 확인하기 위한 데이터입니다.\n",
    "# 학습데이터는 전체의 80%, 나머지 검증과 테스트데이터는 각각 10%씩 할당해주세요.\n",
    "# 난수는 위에서 정의된 `SEED`를 활용해주세요.\n",
    "# stratify 하는것도 잊지 마시구요.\n",
    "from sklearn.model_selection import train_test_split\n",
    "X_train, X_temp, y_train, y_temp = train_test_split(\n",
    "    X, y, test_size=0.2, random_state=SEED, stratify=y\n",
    ")\n",
    "\n",
    "X_valid, X_test, y_valid, y_test = train_test_split(\n",
    "    X_temp, y_temp, test_size=0.5, random_state=SEED, stratify=y_temp\n",
    ")\n",
    "\n",
    "from sklearn.preprocessing import StandardScaler\n",
    "scaler = StandardScaler().fit(X_train)\n",
    "X_train = scaler.transform(X_train)\n",
    "X_valid = scaler.transform(X_valid)\n",
    "X_test  = scaler.transform(X_test)"
   ]
  },
  {
   "cell_type": "code",
   "execution_count": null,
   "metadata": {
    "id": "1l81WYhKwntp"
   },
   "outputs": [],
   "source": [
    "# 정답코드\n",
    "# 2. PyTorch Dataset을 만들어줍니다\n",
    "# batch 처리방식을 기억하시나요?\n",
    "# 매번 X에서 인덱싱을 통해 데이터를 배치로 뽑아냈습니다.\n",
    "# 여간 귀찮은게 아니었는데요, 이를 간편하게 만들어주는 방식이 PyTorch에 존재합니다.\n",
    "\n",
    "# TODO:\n",
    "# 모든 데이터를 텐서로 변환해주세요\n",
    "X_train_t = torch.from_numpy(X_train)\n",
    "y_train_t = torch.from_numpy(y_train)\n",
    "X_valid_t = torch.from_numpy(X_valid)\n",
    "y_valid_t = torch.from_numpy(y_valid)\n",
    "X_test_t  = torch.from_numpy(X_test)\n",
    "y_test_t  = torch.from_numpy(y_test)\n",
    "\n",
    "# TODO:\n",
    "# Pytorch TensorDataset에 넣어줍시다.\n",
    "# https://docs.pytorch.org/docs/stable/data.html#torch.utils.data.TensorDataset\n",
    "from torch.utils.data import TensorDataset\n",
    "train_ds = TensorDataset(X_train_t, y_train_t)\n",
    "valid_ds = TensorDataset(X_valid_t, y_valid_t)\n",
    "test_ds  = TensorDataset(X_test_t,  y_test_t)\n",
    "\n",
    "# TODO:\n",
    "# 위에서 만든 TensorDataset을 DataLoader로 변환시켜줍니다.\n",
    "# 둘의 차이를 간단하게 설명하자면\n",
    "#   - Dataset: 데이터 하나를 어떻게 읽어올지 정의\n",
    "#   - DataLoader: 배치처리를 어떻게할지 정의\n",
    "# 따라서 DataLoader는 batch_size를 정의해줘야합니다.\n",
    "from torch.utils.data import DataLoader\n",
    "BATCH_SIZE = 32\n",
    "\n",
    "train_loader = DataLoader(train_ds, batch_size=BATCH_SIZE, shuffle=True)\n",
    "valid_loader = DataLoader(valid_ds, batch_size=BATCH_SIZE, shuffle=False)\n",
    "test_loader  = DataLoader(test_ds,  batch_size=BATCH_SIZE, shuffle=False)"
   ]
  },
  {
   "cell_type": "code",
   "execution_count": null,
   "metadata": {
    "colab": {
     "base_uri": "https://localhost:8080/"
    },
    "executionInfo": {
     "elapsed": 19,
     "status": "ok",
     "timestamp": 1755341614887,
     "user": {
      "displayName": "Daehyun Cho",
      "userId": "17899950084767957204"
     },
     "user_tz": -540
    },
    "id": "6m0PUBlVxzQN",
    "outputId": "31b3c3b1-06e5-4b6e-c180-17bbac079084"
   },
   "outputs": [
    {
     "data": {
      "text/plain": [
       "(tensor([ 0.0000, -0.3305,  1.2379, -0.4274,  0.0231,  1.4301,  2.8413, -0.1258,\n",
       "         -0.0610, -0.6226,  1.0317,  1.0094,  1.1938,  1.2650,  1.3998, -0.1343,\n",
       "         -0.0373, -0.4417,  1.0597,  1.5556,  1.4434,  0.6599, -0.5538, -0.1186,\n",
       "         -0.0264, -0.4668, -0.6766, -1.1465,  0.1848,  1.2609, -0.6283, -0.0528,\n",
       "          0.0000, -0.6675, -1.0558, -1.4520, -1.4168,  1.2493, -0.8177,  0.0000,\n",
       "         -0.0660,  0.4702,  0.7857, -1.1315, -0.7497,  1.2015, -0.8098, -0.0822,\n",
       "         -0.0368,  2.9620,  1.3273, -0.3076,  0.6769,  0.3702, -0.7626, -0.2008,\n",
       "         -0.0264, -0.2954,  0.6870,  0.4241, -0.5724, -0.8197, -0.5045, -0.1936]),\n",
       " tensor(5))"
      ]
     },
     "execution_count": 13,
     "metadata": {},
     "output_type": "execute_result"
    }
   ],
   "source": [
    "# 위에서 만든 Dataset과 DataLoader의 차이를 살펴봅시다.\n",
    "# Dataset: 한 개를 정의한 것이기 때문에 단일 인덱싱이 가능합니다.\n",
    "# Return 값은 TensorDataset에서 넣어준 데이터의 순서입니다.\n",
    "# 즉 다음 코드는 (X_train_t[0], y_train_t[0])을 불러온 것이 됩니다.\n",
    "train_ds[0]"
   ]
  },
  {
   "cell_type": "code",
   "execution_count": null,
   "metadata": {
    "colab": {
     "base_uri": "https://localhost:8080/"
    },
    "executionInfo": {
     "elapsed": 42,
     "status": "ok",
     "timestamp": 1755341614939,
     "user": {
      "displayName": "Daehyun Cho",
      "userId": "17899950084767957204"
     },
     "user_tz": -540
    },
    "id": "A0AqWuwQyp5P",
    "outputId": "69a57040-8856-4fbb-d436-0fb5f1ad774b"
   },
   "outputs": [
    {
     "data": {
      "text/plain": [
       "1437"
      ]
     },
     "execution_count": 14,
     "metadata": {},
     "output_type": "execute_result"
    }
   ],
   "source": [
    "# 또한 TensorDataset에 몇 개의 데이터가 들어있는지도 알 수 있습니다\n",
    "len(train_ds)"
   ]
  },
  {
   "cell_type": "code",
   "execution_count": null,
   "metadata": {
    "colab": {
     "base_uri": "https://localhost:8080/",
     "height": 176
    },
    "executionInfo": {
     "elapsed": 40,
     "status": "error",
     "timestamp": 1755341614980,
     "user": {
      "displayName": "Daehyun Cho",
      "userId": "17899950084767957204"
     },
     "user_tz": -540
    },
    "id": "FbCKVBdnyz7X",
    "outputId": "2c1e3b09-a4ee-4a20-c454-294f3ff58695"
   },
   "outputs": [
    {
     "ename": "TypeError",
     "evalue": "'DataLoader' object is not subscriptable",
     "output_type": "error",
     "traceback": [
      "\u001b[0;31m---------------------------------------------------------------------------\u001b[0m",
      "\u001b[0;31mTypeError\u001b[0m                                 Traceback (most recent call last)",
      "\u001b[0;32m/tmp/ipython-input-1654169992.py\u001b[0m in \u001b[0;36m<cell line: 0>\u001b[0;34m()\u001b[0m\n\u001b[1;32m      1\u001b[0m \u001b[0;31m# 반면 DataLoader는 단일데이터 처리용이 아니기 때문에 인덱싱이 불가능합니다.\u001b[0m\u001b[0;34m\u001b[0m\u001b[0;34m\u001b[0m\u001b[0m\n\u001b[1;32m      2\u001b[0m \u001b[0;31m# 따라서 다음 코드는 에러가 나타납니다.\u001b[0m\u001b[0;34m\u001b[0m\u001b[0;34m\u001b[0m\u001b[0m\n\u001b[0;32m----> 3\u001b[0;31m \u001b[0mtrain_loader\u001b[0m\u001b[0;34m[\u001b[0m\u001b[0;36m0\u001b[0m\u001b[0;34m]\u001b[0m\u001b[0;34m\u001b[0m\u001b[0;34m\u001b[0m\u001b[0m\n\u001b[0m",
      "\u001b[0;31mTypeError\u001b[0m: 'DataLoader' object is not subscriptable"
     ]
    }
   ],
   "source": [
    "# 반면 DataLoader는 단일데이터 처리용이 아니기 때문에 인덱싱이 불가능합니다.\n",
    "# 따라서 다음 코드는 에러가 나타납니다.\n",
    "train_loader[0]"
   ]
  },
  {
   "cell_type": "code",
   "execution_count": null,
   "metadata": {
    "colab": {
     "base_uri": "https://localhost:8080/"
    },
    "executionInfo": {
     "elapsed": 23,
     "status": "ok",
     "timestamp": 1755341621128,
     "user": {
      "displayName": "Daehyun Cho",
      "userId": "17899950084767957204"
     },
     "user_tz": -540
    },
    "id": "eOWrfR-Ey6Ia",
    "outputId": "d9ca5fec-06b1-4531-cf93-bd42766d275b"
   },
   "outputs": [
    {
     "data": {
      "text/plain": [
       "[tensor([[ 0.0000, -0.3305,  0.3895,  ..., -1.1588, -0.5045, -0.1936],\n",
       "         [ 0.0000, -0.3305, -1.0952,  ...,  0.5366, -0.0152, -0.1936],\n",
       "         [ 0.0000, -0.3305, -1.0952,  ..., -0.9893, -0.5045, -0.1936],\n",
       "         ...,\n",
       "         [ 0.0000, -0.3305, -0.6710,  ...,  1.3843, -0.2599, -0.1936],\n",
       "         [ 0.0000, -0.3305, -1.0952,  ..., -1.1588, -0.5045, -0.1936],\n",
       "         [ 0.0000, -0.3305, -0.8831,  ...,  0.3670, -0.5045, -0.1936]]),\n",
       " tensor([7, 6, 7, 8, 4, 6, 3, 1, 2, 1, 4, 2, 6, 0, 1, 0, 8, 6, 1, 8, 4, 4, 3, 5,\n",
       "         5, 5, 3, 7, 8, 6, 4, 6])]"
      ]
     },
     "execution_count": 16,
     "metadata": {},
     "output_type": "execute_result"
    }
   ],
   "source": [
    "# 그러면 단일 배치가 잘 불러졌는지 확인하는 방법에는 뭐가 있을까요?\n",
    "# 힌트는 위에서 난 에러메시지에 있습니다. DataLoader를 Iterable 객체로 변환시켜주면 됩니다.\n",
    "next(iter(train_loader))"
   ]
  },
  {
   "cell_type": "code",
   "execution_count": null,
   "metadata": {
    "colab": {
     "base_uri": "https://localhost:8080/"
    },
    "executionInfo": {
     "elapsed": 4,
     "status": "ok",
     "timestamp": 1755341621619,
     "user": {
      "displayName": "Daehyun Cho",
      "userId": "17899950084767957204"
     },
     "user_tz": -540
    },
    "id": "oZ8-lJxgzYgI",
    "outputId": "2a7bac9b-ea19-4dfc-bf97-45689cac5ce4"
   },
   "outputs": [
    {
     "name": "stdout",
     "output_type": "stream",
     "text": [
      "0 [tensor([[ 0.0000, -0.3305, -0.4589,  ...,  0.8757,  0.9636, -0.1936],\n",
      "        [ 0.0000, -0.3305, -0.6710,  ..., -0.4807, -0.5045, -0.1936],\n",
      "        [ 0.0000, -0.3305,  1.0258,  ..., -1.1588, -0.5045, -0.1936],\n",
      "        ...,\n",
      "        [ 0.0000, -0.3305, -1.0952,  ..., -1.1588, -0.5045, -0.1936],\n",
      "        [ 0.0000, -0.3305, -0.6710,  ..., -0.8197, -0.5045, -0.1936],\n",
      "        [ 0.0000, -0.3305, -0.4589,  ..., -1.1588, -0.5045, -0.1936]]), tensor([6, 0, 5, 7, 3, 1, 5, 4, 0, 6, 8, 4, 1, 1, 9, 3, 9, 6, 8, 8, 2, 2, 4, 3,\n",
      "        2, 7, 5, 3, 7, 4, 8, 7])]\n"
     ]
    }
   ],
   "source": [
    "# 실제로 학습에서 활용할 때는 for loop에 넣어서 꺼내줍니다.\n",
    "for idx, batch in enumerate(train_loader):\n",
    "    print(idx, batch)\n",
    "    break"
   ]
  },
  {
   "cell_type": "code",
   "execution_count": null,
   "metadata": {
    "colab": {
     "base_uri": "https://localhost:8080/"
    },
    "executionInfo": {
     "elapsed": 50,
     "status": "ok",
     "timestamp": 1755341621723,
     "user": {
      "displayName": "Daehyun Cho",
      "userId": "17899950084767957204"
     },
     "user_tz": -540
    },
    "id": "rEfeYMq5zNH1",
    "outputId": "9aa2afe1-73ab-4db4-f907-c425b6239ef5"
   },
   "outputs": [
    {
     "data": {
      "text/plain": [
       "45"
      ]
     },
     "execution_count": 18,
     "metadata": {},
     "output_type": "execute_result"
    }
   ],
   "source": [
    "# DataLoader도 __len__ 함수가 있습니다.\n",
    "# 전체 데이터수가 아닌, batch의 개수라는 점 기억하세요!\n",
    "len(train_loader)"
   ]
  },
  {
   "cell_type": "markdown",
   "metadata": {
    "id": "LUBBNpB_zmip"
   },
   "source": [
    "데이터를 불러오는 것까지 잘 성공했네요. 이제는 학습 부분으로 넘어갑시다. 모델을 정의해주고 파라미터를 업데이트 하는 부분까지 정리해주면 마무리됩니다 :) 다음 세 가지를 하나씩 달성해주세요.\n",
    "\n",
    "1. 모델 정의: 기본적인 MLP 모델을 지시사항에 따라 구현해주세요.\n",
    "2. 배치처리 정의: 하나의 DataLoader와 모델이 주어졌을 때 처리하는 함수를 정의합니다.\n",
    "3. 1, 2를 결합하여 학습파이프라인을 구축합니다."
   ]
  },
  {
   "cell_type": "code",
   "execution_count": null,
   "metadata": {
    "id": "-NjUJ6Xg0FI6"
   },
   "outputs": [],
   "source": [
    "# 정답코드\n",
    "# 3. Multi-Layer Perceptron 구현하기\n",
    "# 가장 기본적인 MultiLayer Perceptron을 구현해주세요.\n",
    "# 계층은 총 3개입니다.\n",
    "# 입력표현 -> 은닉표현1 -> 은닉표현2 -> 출력표현\n",
    "# 입력값들은 `nn.Linear`를 통과한 뒤 ReLU를 거치고 Dropout을 거치도록 설계해주세요.\n",
    "# 제가 정의해준 `__init__` 안의 인자에 맞춰서 작업해주세요 :)\n",
    "\n",
    "class MLP(nn.Module):\n",
    "    def __init__(self,\n",
    "                 input_dim: int,\n",
    "                 num_classes: int,\n",
    "                 hidden_dims=(128, 64),\n",
    "                 dropout=0.2):\n",
    "        super().__init__()\n",
    "        h1, h2 = hidden_dims\n",
    "        self.net = nn.Sequential(\n",
    "            nn.Linear(input_dim, h1),\n",
    "            nn.ReLU(),\n",
    "            nn.Dropout(p=dropout),\n",
    "\n",
    "            nn.Linear(h1, h2),\n",
    "            nn.ReLU(),\n",
    "            nn.Dropout(p=dropout),\n",
    "\n",
    "            nn.Linear(h2, num_classes)\n",
    "        )\n",
    "\n",
    "    def forward(self, x):\n",
    "        return self.net(x)"
   ]
  },
  {
   "cell_type": "code",
   "execution_count": null,
   "metadata": {
    "id": "wLq9LhMi0vM0"
   },
   "outputs": [],
   "source": [
    "# 정답코드\n",
    "# 4. DataLoader, Model, Optimizer가 주어졌을 때\n",
    "# 학습데이터에 대해 model을 업데이트하는 코드를 작성해주세요.\n",
    "def train_one_epoch(model, loader, optimizer, device):\n",
    "    # 모델이 학습모드로 들어가게 설정해야합니다.\n",
    "    model.train()\n",
    "    running_loss = 0.0\n",
    "    correct = 0\n",
    "    total = 0\n",
    "    for xb, yb in loader:\n",
    "        # 데이터를 가속화기기로 보내주세요.\n",
    "        xb, yb = xb.to(device), yb.to(device)\n",
    "\n",
    "        # 위에서 배운 파라미터 업데이트 방식을 구현해주세요.\n",
    "        # 1. 모델의 출력 만들어주기\n",
    "        # 2. 미분값 지워주기 (zero_grad)\n",
    "        # 3. Loss 계산해주기: loss는 cross_entropy를 사용해주세요\n",
    "        #   - https://docs.pytorch.org/docs/stable/generated/torch.nn.functional.cross_entropy.html\n",
    "        # 4. 3에서 계산한 Loss를 기준으로 역전파를 수행합니다.\n",
    "        # 5. 파라미터 업데이트를 진행해주세요\n",
    "        optimizer.zero_grad()\n",
    "        logits = model(xb)\n",
    "        loss = torch.nn.functional.cross_entropy(logits, yb)\n",
    "        loss.backward()\n",
    "        optimizer.step()\n",
    "\n",
    "        # 파라미터 업데이트가 끝났으면 몇 가지를 기록해줍니다.\n",
    "        # 1. batch당 로스 계산 (running_loss에 업데이트)\n",
    "        # 2. 예측된 클래스 계산 (`preds`)\n",
    "        # 3. batch 내 정확도 계산 (batch 내에서 정답개수를 correct에 추가)\n",
    "        running_loss += loss.item() * xb.size(0)\n",
    "        preds = logits.argmax(dim=1)\n",
    "        correct += (preds == yb).sum().item()\n",
    "        total += yb.size(0)\n",
    "\n",
    "    # 위에서 잘 계산된 값들을 정리해서 반환합니다.\n",
    "    avg_loss = running_loss / total\n",
    "    acc = correct / total\n",
    "    return avg_loss, acc\n",
    "\n",
    "# 정답코드\n",
    "# 5. 이번에는 모델과 검증/테스트데이터가 입력으로 들어왔을 때 정확도를 계산해주는 코드를 작성해주세요.\n",
    "def evaluate(model, loader, device):\n",
    "    # 모델이 추론할 때는 추론모드로 설정해주어야합니다.\n",
    "    model.eval()\n",
    "    running_loss = 0.0\n",
    "    correct = 0\n",
    "    total = 0\n",
    "    all_preds = []\n",
    "    all_targets = []\n",
    "\n",
    "    # 미분그래프를 생성하지 않도록 컨텍스트를 생성해주셔야합니다.\n",
    "    with torch.no_grad():\n",
    "        for xb, yb in loader:\n",
    "            # 데이터로더에서 나온 배치를 `device`로 보내주세요.\n",
    "            xb, yb = xb.to(device), yb.to(device)\n",
    "\n",
    "            # 위에서 한 것과 비슷하게\n",
    "            # 모델의 출력값을 만들어 `logits`에 담고\n",
    "            # 현재 출력값 `logits`와 `yb` 사이의 Cross Entropy를 계산해주세요.\n",
    "            logits = model(xb)\n",
    "            loss = torch.nn.functional.cross_entropy(logits, yb)\n",
    "\n",
    "            # 이번에도 다음을 기록해줍니다.\n",
    "            # 1. batch당 로스 계산 (running_loss에 update)\n",
    "            # 2. 예측된 클래스 계산 (`preds`)\n",
    "            # 3. batch 내 정확도 계산 (batch 내에서 정답개수를 correct에 추가)\n",
    "            # 4. 후에 정확한 분류성능을 보기 위해 prediction 값들도 전부 기록해줍니다.\n",
    "            #  - all_preds, all_targets에 append해줍니다.\n",
    "            running_loss += loss.item() * xb.size(0)\n",
    "            preds = logits.argmax(dim=1)\n",
    "            correct += (preds == yb).sum().item()\n",
    "            total += yb.size(0)\n",
    "\n",
    "            all_preds.append(preds.cpu())\n",
    "            all_targets.append(yb.cpu())\n",
    "\n",
    "    # 위에서 잘 계산된 값들을 정리해서 반환합니다.\n",
    "    avg_loss = running_loss / total\n",
    "    acc = correct / total\n",
    "    preds_cat = torch.cat(all_preds).numpy()\n",
    "    targets_cat = torch.cat(all_targets).numpy()\n",
    "    return avg_loss, acc, preds_cat, targets_cat"
   ]
  },
  {
   "cell_type": "markdown",
   "metadata": {
    "id": "1WIzyXYa15z2"
   },
   "source": [
    "### 📝 참고: `model.train()` vs `model.eval()`\n",
    "\n",
    "PyTorch에서 model.train()과 model.eval()은 모델의 “학습/평가 모드”를 전환하는 메서드입니다.\n",
    "이 메서드는 파라미터 값을 바꾸는 것이 아니라, 레이어 동작 방식을 바꾸는 역할을 합니다.\n",
    "\n",
    "주로 영향을 받는 레이어\n",
    "- **Dropout**: 학습 중에만 일부 뉴런을 확률적으로 0으로 만듭니다. 추론모드에서는 모든 뉴런을 사용합니다.\n",
    "- **BatchNorm**: 학습 중에는 현재 배치의 평균과 분산으로 정규화합니다. 추론모드에서는 학습된 running mean/variance를 사용합니다.\n",
    "\n",
    "\n",
    "정확한 모델의 추론결과를 보려면 추론 시작 전에 `model.eval()`을 호출해야합니다."
   ]
  },
  {
   "cell_type": "code",
   "execution_count": null,
   "metadata": {
    "colab": {
     "base_uri": "https://localhost:8080/"
    },
    "executionInfo": {
     "elapsed": 6367,
     "status": "ok",
     "timestamp": 1755341922931,
     "user": {
      "displayName": "Daehyun Cho",
      "userId": "17899950084767957204"
     },
     "user_tz": -540
    },
    "id": "HvYfZAKD2sjE",
    "outputId": "8225fefd-f809-46ed-9897-6377a042c587"
   },
   "outputs": [
    {
     "name": "stdout",
     "output_type": "stream",
     "text": [
      "Epoch 001 | train loss 1.9786 acc 51.77% | val loss 1.3950 acc 80.56% | 0.3s\n",
      "Epoch 002 | train loss 0.8337 acc 84.62% | val loss 0.3882 acc 91.11% | 0.4s\n",
      "Epoch 003 | train loss 0.3459 acc 91.58% | val loss 0.2106 acc 93.89% | 0.4s\n",
      "Epoch 004 | train loss 0.2218 acc 93.88% | val loss 0.1709 acc 95.56% | 0.3s\n",
      "Epoch 005 | train loss 0.1482 acc 96.24% | val loss 0.1352 acc 95.00% | 0.2s\n",
      "Epoch 006 | train loss 0.1391 acc 95.69% | val loss 0.1283 acc 95.56% | 0.5s\n",
      "Epoch 007 | train loss 0.1068 acc 97.01% | val loss 0.1135 acc 95.56% | 0.1s\n",
      "Epoch 008 | train loss 0.0813 acc 97.63% | val loss 0.1099 acc 95.00% | 0.1s\n",
      "Epoch 009 | train loss 0.0736 acc 98.40% | val loss 0.0984 acc 95.56% | 0.1s\n",
      "Epoch 010 | train loss 0.0644 acc 98.12% | val loss 0.0837 acc 96.67% | 0.1s\n",
      "Epoch 011 | train loss 0.0556 acc 98.68% | val loss 0.0864 acc 96.11% | 0.2s\n",
      "Epoch 012 | train loss 0.0509 acc 98.68% | val loss 0.0846 acc 96.67% | 0.2s\n",
      "Epoch 013 | train loss 0.0531 acc 98.68% | val loss 0.0726 acc 97.78% | 0.3s\n",
      "Epoch 014 | train loss 0.0408 acc 99.16% | val loss 0.0874 acc 95.56% | 0.2s\n",
      "Epoch 015 | train loss 0.0361 acc 99.23% | val loss 0.0783 acc 96.67% | 0.3s\n",
      "Epoch 016 | train loss 0.0305 acc 99.23% | val loss 0.0731 acc 97.22% | 0.2s\n",
      "Epoch 017 | train loss 0.0368 acc 98.89% | val loss 0.0698 acc 97.22% | 0.1s\n",
      "Epoch 018 | train loss 0.0243 acc 99.44% | val loss 0.0686 acc 97.22% | 0.2s\n",
      "Epoch 019 | train loss 0.0216 acc 99.65% | val loss 0.0755 acc 96.67% | 0.1s\n",
      "Epoch 020 | train loss 0.0221 acc 99.51% | val loss 0.0652 acc 97.78% | 0.1s\n",
      "Epoch 021 | train loss 0.0216 acc 99.44% | val loss 0.0693 acc 97.22% | 0.1s\n",
      "Epoch 022 | train loss 0.0189 acc 99.51% | val loss 0.0630 acc 97.78% | 0.1s\n",
      "Epoch 023 | train loss 0.0153 acc 99.79% | val loss 0.0696 acc 96.67% | 0.1s\n",
      "Epoch 024 | train loss 0.0181 acc 99.51% | val loss 0.0644 acc 97.22% | 0.1s\n",
      "Epoch 025 | train loss 0.0134 acc 99.79% | val loss 0.0661 acc 96.67% | 0.1s\n",
      "Epoch 026 | train loss 0.0151 acc 99.72% | val loss 0.0671 acc 97.22% | 0.1s\n",
      "Epoch 027 | train loss 0.0141 acc 99.65% | val loss 0.0574 acc 97.22% | 0.1s\n",
      "Epoch 028 | train loss 0.0095 acc 99.93% | val loss 0.0572 acc 97.22% | 0.1s\n",
      "Epoch 029 | train loss 0.0153 acc 99.79% | val loss 0.0607 acc 97.78% | 0.1s\n",
      "Epoch 030 | train loss 0.0140 acc 99.79% | val loss 0.0662 acc 96.67% | 0.1s\n",
      "Epoch 031 | train loss 0.0122 acc 99.79% | val loss 0.0565 acc 97.22% | 0.1s\n",
      "Epoch 032 | train loss 0.0124 acc 99.58% | val loss 0.0485 acc 97.78% | 0.1s\n",
      "Epoch 033 | train loss 0.0079 acc 100.00% | val loss 0.0542 acc 98.33% | 0.1s\n",
      "Epoch 034 | train loss 0.0117 acc 99.72% | val loss 0.0568 acc 98.33% | 0.1s\n",
      "Epoch 035 | train loss 0.0113 acc 99.65% | val loss 0.0613 acc 96.67% | 0.1s\n",
      "Epoch 036 | train loss 0.0100 acc 99.86% | val loss 0.0614 acc 96.67% | 0.1s\n",
      "Epoch 037 | train loss 0.0087 acc 99.86% | val loss 0.0557 acc 98.33% | 0.1s\n",
      "Epoch 038 | train loss 0.0076 acc 99.93% | val loss 0.0656 acc 97.22% | 0.1s\n",
      "Early stopping at epoch 38 (no improve 5)\n",
      "Loaded best checkpoint: val_best_acc=98.33% val_best_loss=0.0485\n",
      "\n",
      "==== Test Result ====\n",
      "Test loss: 0.1547\n",
      "Test acc : 98.33%\n",
      "\n",
      "Classification report:\n",
      "              precision    recall  f1-score   support\n",
      "\n",
      "           0     1.0000    1.0000    1.0000        18\n",
      "           1     0.8947    0.9444    0.9189        18\n",
      "           2     1.0000    1.0000    1.0000        18\n",
      "           3     1.0000    1.0000    1.0000        18\n",
      "           4     0.9474    1.0000    0.9730        18\n",
      "           5     1.0000    1.0000    1.0000        19\n",
      "           6     1.0000    1.0000    1.0000        18\n",
      "           7     1.0000    1.0000    1.0000        18\n",
      "           8     1.0000    0.8824    0.9375        17\n",
      "           9     1.0000    1.0000    1.0000        18\n",
      "\n",
      "    accuracy                         0.9833       180\n",
      "   macro avg     0.9842    0.9827    0.9829       180\n",
      "weighted avg     0.9842    0.9833    0.9833       180\n",
      "\n",
      "Confusion matrix:\n",
      "[[18  0  0  0  0  0  0  0  0  0]\n",
      " [ 0 17  0  0  1  0  0  0  0  0]\n",
      " [ 0  0 18  0  0  0  0  0  0  0]\n",
      " [ 0  0  0 18  0  0  0  0  0  0]\n",
      " [ 0  0  0  0 18  0  0  0  0  0]\n",
      " [ 0  0  0  0  0 19  0  0  0  0]\n",
      " [ 0  0  0  0  0  0 18  0  0  0]\n",
      " [ 0  0  0  0  0  0  0 18  0  0]\n",
      " [ 0  2  0  0  0  0  0  0 15  0]\n",
      " [ 0  0  0  0  0  0  0  0  0 18]]\n"
     ]
    }
   ],
   "source": [
    "# 모든 것을 하나로!\n",
    "# 여러분이 코드를 잘 짰다면 아래 코드가 잘 작동할겁니다!\n",
    "# 에러가 뜬다면 에러메시지를 확인해서 잘 구현되도록 맞춰주세요.\n",
    "import os\n",
    "import math\n",
    "import time\n",
    "\n",
    "from sklearn.metrics import classification_report, confusion_matrix\n",
    "\n",
    "device = torch.device(\"cuda\")\n",
    "model = MLP(\n",
    "    input_dim=64,\n",
    "    num_classes=10,\n",
    "    hidden_dims=(128, 64),\n",
    "    dropout=0.2\n",
    ").to(device)\n",
    "\n",
    "# 이번에는 지난 과제2에서 배웠던 Adam을 사용해봅시다.\n",
    "optimizer = torch.optim.Adam(model.parameters(), lr=1e-3, weight_decay=1e-4)\n",
    "\n",
    "best_val_loss = math.inf\n",
    "best_val_acc = -1.0\n",
    "epochs_no_improve = 0\n",
    "\n",
    "checkpoint_path = \"model.ckpt\"\n",
    "earlystop_patience = 5\n",
    "\n",
    "train_losses, train_accs = [], []\n",
    "valid_losses, valid_accs = [], []\n",
    "for epoch in range(1, 201):\n",
    "    t0 = time.time()\n",
    "    # 여러분이 정의한 `train_one_epoch`와 `evaluate`입니다.\n",
    "    train_loss, train_acc = train_one_epoch(model, train_loader, optimizer, device)\n",
    "    train_losses.append(train_loss)\n",
    "    train_accs.append(train_acc)\n",
    "\n",
    "    val_loss, val_acc, _, _ = evaluate(model, valid_loader, device)\n",
    "    valid_losses.append(val_loss)\n",
    "    valid_accs.append(val_acc)\n",
    "\n",
    "    dt = time.time() - t0\n",
    "    print(\n",
    "        f\"Epoch {epoch:03d} | \"\n",
    "        f\"train loss {train_loss:.4f} acc {train_acc*100:5.2f}% | \"\n",
    "        f\"val loss {val_loss:.4f} acc {val_acc*100:5.2f}% | \"\n",
    "        f\"{dt:.1f}s\"\n",
    "    )\n",
    "\n",
    "    # 🌟 개선 시 체크포인트 저장\n",
    "    improved = (val_loss < best_val_loss) or (val_acc > best_val_acc)\n",
    "    if improved:\n",
    "        best_val_loss = min(best_val_loss, val_loss)\n",
    "        best_val_acc = max(best_val_acc, val_acc)\n",
    "        torch.save({\n",
    "            'model_state_dict': model.state_dict(),\n",
    "            'input_dim': 64,\n",
    "            'num_classes': 10,\n",
    "        }, checkpoint_path)\n",
    "        epochs_no_improve = 0\n",
    "    else:\n",
    "        epochs_no_improve += 1\n",
    "\n",
    "    # 조기 종료\n",
    "    if epochs_no_improve >= earlystop_patience:\n",
    "        print(f\"Early stopping at epoch {epoch} (no improve {earlystop_patience})\")\n",
    "        break\n",
    "\n",
    "# 베스트 모델 로드 후 테스트 평가\n",
    "if os.path.exists(checkpoint_path):\n",
    "    ckpt = torch.load(checkpoint_path, map_location=device)\n",
    "    model.load_state_dict(ckpt['model_state_dict'])\n",
    "    print(f\"Loaded best checkpoint: val_best_acc={best_val_acc*100:.2f}% val_best_loss={best_val_loss:.4f}\")\n",
    "\n",
    "test_loss, test_acc, y_pred, y_true = evaluate(model, test_loader, device)\n",
    "print(\"\\n==== Test Result ====\")\n",
    "print(f\"Test loss: {test_loss:.4f}\")\n",
    "print(f\"Test acc : {test_acc*100:.2f}%\")\n",
    "\n",
    "# 분류 리포트 / 혼동행렬\n",
    "print(\"\\nClassification report:\")\n",
    "print(classification_report(y_true, y_pred, digits=4))\n",
    "\n",
    "print(\"Confusion matrix:\")\n",
    "print(confusion_matrix(y_true, y_pred))"
   ]
  },
  {
   "cell_type": "code",
   "execution_count": null,
   "metadata": {
    "colab": {
     "base_uri": "https://localhost:8080/",
     "height": 501
    },
    "executionInfo": {
     "elapsed": 464,
     "status": "ok",
     "timestamp": 1755341943373,
     "user": {
      "displayName": "Daehyun Cho",
      "userId": "17899950084767957204"
     },
     "user_tz": -540
    },
    "id": "JBYf7WWUCZxX",
    "outputId": "daf560f2-c375-4d3e-963c-967d5ad3772b"
   },
   "outputs": [
    {
     "data": {
      "image/png": "[encoded data removed]",
      "text/plain": [
       "<Figure size 800x500 with 2 Axes>"
      ]
     },
     "metadata": {},
     "output_type": "display_data"
    }
   ],
   "source": [
    "import matplotlib.pyplot as plt\n",
    "import seaborn as sns\n",
    "\n",
    "sns.set_theme()\n",
    "\n",
    "fig, ax1 = plt.subplots(figsize=(8, 5))\n",
    "\n",
    "# 첫 번째 y축: Loss\n",
    "color1 = \"tab:red\"\n",
    "ax1.set_xlabel(\"Epoch\")\n",
    "ax1.set_ylabel(\"Loss\")\n",
    "sns.lineplot(data=train_losses, label=\"Train BCE\", ax=ax1, color=\"red\")\n",
    "sns.lineplot(data=valid_losses, label=\"Valid BCE\", ax=ax1, color=\"orange\")\n",
    "ax1.tick_params(axis='y')\n",
    "\n",
    "# 두 번째 y축: Accuracy\n",
    "ax2 = ax1.twinx()\n",
    "color2 = \"tab:blue\"\n",
    "ax2.set_ylabel(\"Accuracy\")\n",
    "sns.lineplot(data=train_accs, label=\"Train Accuracy\", ax=ax2, color=\"blue\")\n",
    "sns.lineplot(data=valid_accs, label=\"Validation Accuracy\", ax=ax2, color=\"skyblue\")\n",
    "ax2.tick_params(axis='y')\n",
    "\n",
    "# 범례 통합\n",
    "lines_1, labels_1 = ax1.get_legend_handles_labels()\n",
    "lines_2, labels_2 = ax2.get_legend_handles_labels()\n",
    "ax1.legend(lines_1 + lines_2, labels_1 + labels_2, loc=\"center right\")\n",
    "if ax2.legend_:\n",
    "    ax2.legend_.remove()\n",
    "\n",
    "plt.title(\"Training Progress\", size=\"large\")\n",
    "plt.tight_layout()\n",
    "plt.show()"
   ]
  },
  {
   "cell_type": "markdown",
   "metadata": {
    "id": "_VjpkIk_BTa0"
   },
   "source": [
    "### 📝 참고: 학습이 길어지면...?\n",
    "\n",
    "현재 제작한 코드는 loss를 중간중간 계산하긴 하지만, 전체 학습과정에서 산출된 loss를 보관하고 있는 `train_losses` 와 같은 변수들은 오류가 발생하면 저장되지 않습니다. 그리고 시각화를 중간중간 가능하게 하는 코드가 있기는 하지만 많이 번거롭습니다. 이런 경우를 방지하기 위해 `wandb`라는 라이브러리들이 존재합니다. 이는 서버에 중간중간 기록을 보내 플롯을 그려주는 라이브러리입니다. 한 번 살펴보시고 도입해보세요 :)\n",
    "- [Weight and Biases Colaboratory Tutorial](https://colab.research.google.com/github/wandb/examples/blob/master/colabs/intro/Intro_to_Weights_%26_Biases.ipynb?_gl=1*1cyn3uu*_ga*MTQ5NjIyMTUxNy4xNzQ4Mzk2MDgw*_ga_JH1SJHJQXJ*czE3NTUyNjYzNzYkbzEwMiRnMSR0MTc1NTI2NjM5OCRqNjAkbDAkaDA.*_ga_GMYDGNGKDT*czE3NTUyNjYzODUkbzUkZzAkdDE3NTUyNjYzOTgkajYwJGwwJGgw)"
   ]
  },
  {
   "cell_type": "markdown",
   "metadata": {
    "id": "eqoQ5DlciI3Z"
   },
   "source": [
    "### 📝 참고: `sklearn.classification`에 있는 모듈로도 계산이 될까요?\n",
    "\n",
    "우리가 지금 파리 잡는데 도끼를 든 격이 아닌가 생각해볼 필요가 있습니다. 8*8 사이즈의 이미지 정도면 사실 머신러닝 모델로도 어느 정도 성능을 달성할 수 있습니다. 한 번 시도해보세요 :)"
   ]
  },
  {
   "cell_type": "markdown",
   "metadata": {
    "id": "QNguKHl31gAx"
   },
   "source": [
    "# 마치며\n",
    "최종 검증데이터 결과와 테스트데이터 결과가 크게 차이나지 않고 성능이 좋으면 학습이 잘 마무리된 것입니다. 하지만 둘 사이의 갭이 너무 크거나 학습 중간에 train_loss는 줄고 있는데 valid_loss는 다시 증가하면 오버피팅이 일어나고 있는 것입니다. 주의해서 잘 학습시켜주세요 :)"
   ]
  }
 ],
 "metadata": {
  "accelerator": "GPU",
  "colab": {
   "gpuType": "T4",
   "provenance": [],
   "toc_visible": true
  },
  "kernelspec": {
   "display_name": "Python 3 (ipykernel)",
   "language": "python",
   "name": "python3"
  },
  "language_info": {
   "codemirror_mode": {
    "name": "ipython",
    "version": 3
   },
   "file_extension": ".py",
   "mimetype": "text/x-python",
   "name": "python",
   "nbconvert_exporter": "python",
   "pygments_lexer": "ipython3",
   "version": "3.9.12"
  }
 },
 "nbformat": 4,
 "nbformat_minor": 1
}
