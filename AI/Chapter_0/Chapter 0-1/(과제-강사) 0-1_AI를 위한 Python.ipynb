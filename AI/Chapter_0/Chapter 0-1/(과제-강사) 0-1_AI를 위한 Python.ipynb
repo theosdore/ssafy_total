{
 "cells": [
  {
   "cell_type": "markdown",
   "metadata": {
    "id": "4O_zgP34Gt0K"
   },
   "source": [
    "### **Content License Agreement**\n",
    "\n",
    "<font color='red'><b>**WARNING**</b></font> : 본 자료는 삼성청년SW·AI아카데미의 컨텐츠 자산으로, 보안서약서에 의거하여 어떠한 사유로도 임의로 복사, 촬영, 녹음, 복제, 보관, 전송하거나 허가 받지 않은 저장매체를 이용한 보관, 제3자에게 누설, 공개 또는 사용하는 등의 무단 사용 및 불법 배포 시 법적 조치를 받을 수 있습니다."
   ]
  },
  {
   "cell_type": "markdown",
   "metadata": {
    "id": "wBMRC-8eG2Fh"
   },
   "source": [
    "### **Objectives**\n",
    "\n",
    "1. **과제명**: AI를 위한 Python\n",
    "\n",
    "2. **핵심 주제**\n",
    "  - Python 클래스와 객체 지향 프로그래밍\n",
    "  - `pandas`를 활용한 데이터 분석 및 가공\n",
    "  - 조건문, 반복문, 그룹 연산 등 데이터 처리 로직 구현\n",
    "\n",
    "3. **학습 목표**\n",
    "  - 클래스와 메서드를 정의하고 인스턴스를 생성할 수 있다\n",
    "  - 조건문과 반복문을 통해 데이터 필터링 및 흐름 제어를 구현할 수 있다\n",
    "  - `pandas`의 `groupby`, `pivot`, `melt` 등을 활용해 데이터를 변환할 수 있다\n",
    "  - 사용자 정의 메서드를 통해 객체의 상태를 출력하거나 조작할 수 있다\n",
    "  - 실습 데이터를 기반으로 통계적 요약 및 시각화를 수행할 수 있다\n",
    "\n",
    "4. **학습 개념**\n",
    "  - **클래스(Class)**: 객체의 구조와 동작을 정의하는 Python의 핵심 문법\n",
    "  - **groupby**: 특정 기준에 따라 데이터를 그룹화하여 집계하는 `pandas` 기능\n",
    "  - **melt**: wide-format 데이터를 long-format으로 변환하는 데이터 정리 기법\n",
    "\n",
    "5. **학습 방향**\n",
    "  - 실습 구성 방식: 문제와 정답 코드가 병렬로 제공되며, 각 단계별로 TODO 영역을 채우며 학습자가 직접 구현\n",
    "  - 참고 자료 및 도구: `pandas`, `seaborn` 라이브러리의 tips 데이터셋을 활용하며, Python의 클래스 문법과 데이터 분석 기법을 병행 학습\n",
    "  - 단계별 구조:\n",
    "    1. 클래스 기반 은행 시스템 구현\n",
    "    2. Tips 데이터셋을 활용한 통계 분석\n",
    "    3. `groupby`, `pivot`, `melt`, `apply` 등 다양한 pandas 기능 실습\n",
    "    4. 조건 필터링 및 최고 팁 비율 고객 추출\n",
    "    5. 실습 마무리 및 개념 정리\n",
    "\n",
    "6. **데이터셋 개요 및 저작권 정보**\n",
    "  - 데이터셋 명: Tips 데이터셋\n",
    "  - 데이터셋 개요: 식사 인원, 총 금액(total_bill), 팁(tip), 성별(sex), 요일(day), 시간(time), 흡연 여부(smoker) 등의 정보를 담은 레스토랑 팁 관련 데이터셋\n",
    "  - 데이터셋 저작권: seaborn 라이브러리에서 제공하는 공개 데이터셋으로, BSD 라이선스에 따라 자유롭게 사용 가능\n"
   ]
  },
  {
   "cell_type": "markdown",
   "metadata": {},
   "source": [
    "### **Prerequisites**\n",
    "```\n",
    "pandas>=2.0\n",
    "seaborn==0.13.2\n",
    "```"
   ]
  },
  {
   "cell_type": "markdown",
   "metadata": {
    "id": "8-_D1uG2G67l"
   },
   "source": [
    "# 1. 간단한 은행 시스템 구축하기\n",
    "\n",
    "- **학습 목표**: 실습시간에 배운 기초적인 Python을 복습하는 시간을 가져봅니다.\n",
    "- **학습 개념**:\n",
    "  - 클래스와 인스턴스 생성의 이해\n",
    "  - 메서드 정의 및 호출\n",
    "  - 조건문, 반복문을 활용한 흐름 제어\n",
    "  - 문자열, 정수, 리스트 등 기본 자료형 활용\n",
    "  - Python의 매직 메서드(`__str__`, `__repr__`) 사용\n",
    "- **진행하는 실습 요약**: 사용자는 본인의 계좌를 하나 만들고, 입출금, 잔액 조회, 입출금 내역 조회 등의 기능을 수행할 수 있습니다. 또한 `print(계좌)`를 하면 계좌 정보가 보기 좋게 출력되도록 `__str__` 메서드를 오버라이딩해야 합니다.\n"
   ]
  },
  {
   "cell_type": "code",
   "execution_count": 2,
   "metadata": {},
   "outputs": [],
   "source": [
    "# 정답 코드\n",
    "class BankAccount:\n",
    "    \"\"\"은행 계좌 클래스\n",
    "    Attributes:\n",
    "        owner (str): 계좌 소유자 이름\n",
    "        balance (int): 계좌 잔액\n",
    "        history (list): 거래 내역 리스트\n",
    "    \"\"\"\n",
    "    def __init__(self, owner: str, balance: int = 0):\n",
    "        self.owner = owner\n",
    "        self.balance = balance\n",
    "        self.history = []\n",
    "\n",
    "    def deposit(self, amount: int):\n",
    "        if amount <= 0:\n",
    "            print(\"입금 실패\")\n",
    "        self.balance += amount\n",
    "        self.history.append(f\"입금: {amount}원\")\n",
    "        print(\"입금 완료\")\n",
    "\n",
    "    def withdraw(self, amount: int):\n",
    "        if amount <= 0:\n",
    "            print(\"출금 실패\")\n",
    "            return\n",
    "        if amount > self.balance:\n",
    "            print(\"잔액 부족\")\n",
    "            return\n",
    "        self.balance -= amount\n",
    "        self.history.append(f\"출금: {amount}원\")\n",
    "        print(\"출금 완료\")\n",
    "\n",
    "    def show_balance(self):\n",
    "        print(f\"현재 잔액: {self.balance}원\")\n",
    "\n",
    "    def get_transaction_history(self) -> list:\n",
    "        if not self.history:\n",
    "            print(\"거래 내역이 없습니다.\")\n",
    "        else:\n",
    "            print(*self.history, sep=\"\\n\")\n",
    "        return self.history\n",
    "\n",
    "    def __str__(self):\n",
    "        return f\"[계좌 소유자: {self.owner}, 잔액: {self.balance}원]\""
   ]
  },
  {
   "cell_type": "markdown",
   "metadata": {
    "id": "ElYcbA8hbc6z"
   },
   "source": [
    "아래 코드는 여러분이 코드를 잘 짰는지 확인하는 코드입니다. 수정없이 사용해주세요 :)"
   ]
  },
  {
   "cell_type": "code",
   "execution_count": 4,
   "metadata": {},
   "outputs": [
    {
     "name": "stdout",
     "output_type": "stream",
     "text": [
      "입금 완료\n",
      "출금 완료\n",
      "잔액 부족\n",
      "입금: 5000원\n",
      "출금: 3000원\n",
      "✅ 모든 테스트 통과\n"
     ]
    }
   ],
   "source": [
    "# 테스트용 계좌 생성\n",
    "account = BankAccount(\"TestUser\", 10000)\n",
    "\n",
    "# 입금 테스트\n",
    "account.deposit(5000)\n",
    "assert account.balance == 15000, \"입금 후 잔액이 올바르지 않음\"\n",
    "assert account.history[-1] == \"입금: 5000원\", \"입금 내역이 기록되지 않음\"\n",
    "\n",
    "# 출금 테스트\n",
    "account.withdraw(3000)\n",
    "assert account.balance == 12000, \"출금 후 잔액이 올바르지 않음\"\n",
    "assert account.history[-1] == \"출금: 3000원\", \"출금 내역이 기록되지 않음\"\n",
    "\n",
    "# 출금 초과 테스트\n",
    "account.withdraw(20000)  # 잔액보다 많음\n",
    "assert account.balance == 12000, \"출금 실패 시 잔액이 변하면 안 됨\"\n",
    "\n",
    "# 거래 내역 확인\n",
    "history = account.get_transaction_history()\n",
    "assert len(history) == 2 or \"출금: 20000원\" not in history, \"잘못된 거래 내역 포함됨\"\n",
    "\n",
    "# __str__ 출력 테스트\n",
    "output = str(account)\n",
    "assert \"TestUser\" in output and \"12000\" in output, \"__str__ 출력 형식이 잘못됨\"\n",
    "\n",
    "print(\"✅ 모든 테스트 통과\")"
   ]
  },
  {
   "cell_type": "markdown",
   "metadata": {
    "id": "dJ6KawFJbjyi"
   },
   "source": [
    "# 2. 월별 판매 데이터 분석 및 가공"
   ]
  },
  {
   "cell_type": "code",
   "execution_count": 5,
   "metadata": {
    "colab": {
     "base_uri": "https://localhost:8080/",
     "height": 206
    },
    "executionInfo": {
     "elapsed": 4194,
     "status": "ok",
     "timestamp": 1754828659159,
     "user": {
      "displayName": "‍조대현[ 대학원석·박사통합과정수료연구(재학) / 인공지능학과 ]",
      "userId": "01156684096009482818"
     },
     "user_tz": -540
    },
    "id": "8lJ70l3Xa7xo",
    "outputId": "299a71c8-2d25-4720-8fe9-4b9b9e50bced"
   },
   "outputs": [
    {
     "data": {
      "text/html": [
       "<div>\n",
       "<style scoped>\n",
       "    .dataframe tbody tr th:only-of-type {\n",
       "        vertical-align: middle;\n",
       "    }\n",
       "\n",
       "    .dataframe tbody tr th {\n",
       "        vertical-align: top;\n",
       "    }\n",
       "\n",
       "    .dataframe thead th {\n",
       "        text-align: right;\n",
       "    }\n",
       "</style>\n",
       "<table border=\"1\" class=\"dataframe\">\n",
       "  <thead>\n",
       "    <tr style=\"text-align: right;\">\n",
       "      <th></th>\n",
       "      <th>total_bill</th>\n",
       "      <th>tip</th>\n",
       "      <th>sex</th>\n",
       "      <th>smoker</th>\n",
       "      <th>day</th>\n",
       "      <th>time</th>\n",
       "      <th>size</th>\n",
       "    </tr>\n",
       "  </thead>\n",
       "  <tbody>\n",
       "    <tr>\n",
       "      <th>0</th>\n",
       "      <td>16.99</td>\n",
       "      <td>1.01</td>\n",
       "      <td>Female</td>\n",
       "      <td>No</td>\n",
       "      <td>Sun</td>\n",
       "      <td>Dinner</td>\n",
       "      <td>2</td>\n",
       "    </tr>\n",
       "    <tr>\n",
       "      <th>1</th>\n",
       "      <td>10.34</td>\n",
       "      <td>1.66</td>\n",
       "      <td>Male</td>\n",
       "      <td>No</td>\n",
       "      <td>Sun</td>\n",
       "      <td>Dinner</td>\n",
       "      <td>3</td>\n",
       "    </tr>\n",
       "    <tr>\n",
       "      <th>2</th>\n",
       "      <td>21.01</td>\n",
       "      <td>3.50</td>\n",
       "      <td>Male</td>\n",
       "      <td>No</td>\n",
       "      <td>Sun</td>\n",
       "      <td>Dinner</td>\n",
       "      <td>3</td>\n",
       "    </tr>\n",
       "    <tr>\n",
       "      <th>3</th>\n",
       "      <td>23.68</td>\n",
       "      <td>3.31</td>\n",
       "      <td>Male</td>\n",
       "      <td>No</td>\n",
       "      <td>Sun</td>\n",
       "      <td>Dinner</td>\n",
       "      <td>2</td>\n",
       "    </tr>\n",
       "    <tr>\n",
       "      <th>4</th>\n",
       "      <td>24.59</td>\n",
       "      <td>3.61</td>\n",
       "      <td>Female</td>\n",
       "      <td>No</td>\n",
       "      <td>Sun</td>\n",
       "      <td>Dinner</td>\n",
       "      <td>4</td>\n",
       "    </tr>\n",
       "  </tbody>\n",
       "</table>\n",
       "</div>"
      ],
      "text/plain": [
       "   total_bill   tip     sex smoker  day    time  size\n",
       "0       16.99  1.01  Female     No  Sun  Dinner     2\n",
       "1       10.34  1.66    Male     No  Sun  Dinner     3\n",
       "2       21.01  3.50    Male     No  Sun  Dinner     3\n",
       "3       23.68  3.31    Male     No  Sun  Dinner     2\n",
       "4       24.59  3.61  Female     No  Sun  Dinner     4"
      ]
     },
     "execution_count": 5,
     "metadata": {},
     "output_type": "execute_result"
    }
   ],
   "source": [
    "import seaborn as sns\n",
    "import pandas as pd\n",
    "\n",
    "df = sns.load_dataset('tips')\n",
    "df.head()"
   ]
  },
  {
   "cell_type": "markdown",
   "metadata": {
    "id": "0_S_7e3-dyK1"
   },
   "source": [
    "### 1. 💰 성별 및 요일별 평균 팁 금액을 구하세요 (`groupby`, `pivot` 활용)\n",
    "  - `groupby`를 사용해 성별(sex)과 요일(day)에 따라 팁 평균 계산\n",
    "  - 결과를 `pivot`을 사용해 테이블 형태로 재구성 (행: 성별, 열: 요일)\n",
    "\n",
    "출력예시:\n",
    "```python\n",
    "# pivot_table\n",
    "day\t       Thur\t     Fri     \tSat\t     Sun\n",
    "sex\n",
    "Male\t  2.980333\t2.693000\t3.083898\t3.220345\n",
    "Female\t2.575625\t2.781111\t2.801786\t3.367222\n",
    "```"
   ]
  },
  {
   "cell_type": "code",
   "execution_count": 6,
   "metadata": {
    "colab": {
     "base_uri": "https://localhost:8080/"
    },
    "executionInfo": {
     "elapsed": 14,
     "status": "ok",
     "timestamp": 1754828659175,
     "user": {
      "displayName": "‍조대현[ 대학원석·박사통합과정수료연구(재학) / 인공지능학과 ]",
      "userId": "01156684096009482818"
     },
     "user_tz": -540
    },
    "id": "EKJP9D4NdsnL",
    "outputId": "cab430c5-750d-4097-c238-958a53ef7dcf"
   },
   "outputs": [
    {
     "name": "stdout",
     "output_type": "stream",
     "text": [
      "✅ 모든 테스트 통과\n"
     ]
    }
   ],
   "source": [
    "# 정답 코드\n",
    "pivot_df = df.groupby(['sex', 'day'], observed=False)['tip'].mean().reset_index()\n",
    "pivot_table = pivot_df.pivot(index='sex', columns='day', values='tip')\n",
    "\n",
    "\n",
    "# 테스트 코드\n",
    "assert isinstance(pivot_table, pd.DataFrame), \"pivot_table은 DataFrame이어야 합니다.\"\n",
    "assert 'Sun' in pivot_table.columns, \"요일 열이 포함되어야 합니다.\"\n",
    "assert 'Female' in pivot_table.index, \"성별 인덱스가 포함되어야 합니다.\"\n",
    "print(\"✅ 모든 테스트 통과\")"
   ]
  },
  {
   "cell_type": "markdown",
   "metadata": {
    "id": "rGGE_nwueZcU"
   },
   "source": [
    "### 2. 📉 팁 비율 컬럼 추가 (tip_percent)\n",
    "  - `apply` 또는 단순 연산을 사용하여, `tip_percent = tip / total_bill` 컬럼을 생성하세요"
   ]
  },
  {
   "cell_type": "code",
   "execution_count": 7,
   "metadata": {
    "colab": {
     "base_uri": "https://localhost:8080/"
    },
    "executionInfo": {
     "elapsed": 97,
     "status": "ok",
     "timestamp": 1754828659273,
     "user": {
      "displayName": "‍조대현[ 대학원석·박사통합과정수료연구(재학) / 인공지능학과 ]",
      "userId": "01156684096009482818"
     },
     "user_tz": -540
    },
    "id": "IeD4gFdEev6f",
    "outputId": "9a77f72f-8412-4ef6-ca42-10a5acf5feee"
   },
   "outputs": [
    {
     "name": "stdout",
     "output_type": "stream",
     "text": [
      "✅ 모든 테스트 통과\n"
     ]
    }
   ],
   "source": [
    "# 정답 코드\n",
    "df['tip_percent'] = df['tip'] / df['total_bill']\n",
    "\n",
    "\n",
    "# 테스트 코드\n",
    "assert 'tip_percent' in df.columns, \"tip_percent 컬럼이 존재해야 합니다.\"\n",
    "assert df['tip_percent'].between(0, 1).all(), \"tip_percent 값은 0과 1 사이여야 합니다.\"\n",
    "print(\"✅ 모든 테스트 통과\")"
   ]
  },
  {
   "cell_type": "markdown",
   "metadata": {
    "id": "uWZdRDXqehNG"
   },
   "source": [
    "### 3. 🧠 조건문 필터링: 팁 비율이 20% 이상인 경우만 필터링하세요.\n",
    "1. 2번에서 만든 `tip_percent`가 0.2 이상인 행만 추출하여 `high_tippers`라는 새로운 DataFrame에 저장하세요.\n",
    "2.\t결과에는 팁 비율이 20% 미만인 행이 없어야 합니다."
   ]
  },
  {
   "cell_type": "code",
   "execution_count": 8,
   "metadata": {
    "colab": {
     "base_uri": "https://localhost:8080/"
    },
    "executionInfo": {
     "elapsed": 81,
     "status": "ok",
     "timestamp": 1754828659282,
     "user": {
      "displayName": "‍조대현[ 대학원석·박사통합과정수료연구(재학) / 인공지능학과 ]",
      "userId": "01156684096009482818"
     },
     "user_tz": -540
    },
    "id": "cnKpa0O6e13H",
    "outputId": "06f14335-d5d4-4161-cec7-8d94808c1ab4"
   },
   "outputs": [
    {
     "name": "stdout",
     "output_type": "stream",
     "text": [
      "✅ 모든 테스트 통과\n"
     ]
    }
   ],
   "source": [
    "# 정답 코드\n",
    "high_tippers = df[df['tip_percent'] >= 0.2]\n",
    "\n",
    "\n",
    "# 테스트 코드\n",
    "assert not high_tippers.empty, \"tip_percent >= 0.2인 데이터가 있어야 합니다.\"\n",
    "assert (high_tippers['tip_percent'] >= 0.2).all(), \"모든 행의 tip_percent가 0.2 이상이어야 합니다.\"\n",
    "print(\"✅ 모든 테스트 통과\")"
   ]
  },
  {
   "cell_type": "markdown",
   "metadata": {
    "id": "xH7utb-6elYE"
   },
   "source": [
    "### 4. 🍽️ `melt` 연습: 식사 인원별(total_bill과 tip)의 long-format 변환\n",
    "\n",
    "#### 🧠 개념 설명: Wide-format vs Long-format\n",
    "\n",
    "📌 Wide-format (넓은 형식)\n",
    "  - 여러 개의 측정값/변수가 각각 열(column)로 표현됨\n",
    "  - 읽기는 편하지만, `groupby`나 시각화에 비효율적\n",
    "  - 예시 (Wide-format):\n",
    "```python\n",
    "size   total_bill    tip\n",
    "   2           16.99   1.01\n",
    "   3           10.34   1.66\n",
    "```\n",
    "\n",
    "📌 Long-format (길게 늘어진 형식)\n",
    "  - 측정 항목을 하나의 열(item)에 모으고, 값은 별도 열(amount)로 표현\n",
    "  - `groupby`, `pivot`, 시각화 등에 유용하게 사용\n",
    "  - 예시 (Long-format):\n",
    "```python\n",
    "size        item   amount\n",
    "   2     total_bill    16.99\n",
    "   2            tip     1.01\n",
    "   3     total_bill    10.34\n",
    "   3            tip     1.66\n",
    "```\n",
    "\n",
    "\n",
    "#### 요구사항\n",
    "1.\t`tips` DataFrame에서 `total_bill`, `tip` 컬럼만 녹이세요.\n",
    "2.\t`size` 컬럼은 그대로 유지되도록 `id_vars=['size']`를 사용하세요.\n",
    "3.\t다음 컬럼을 가진 결과를 만들어야 합니다: `['size', 'item', 'amount']`\n",
    "\n",
    "출력예시\n",
    "```python\n",
    "    size\t      item\tamount\n",
    "0\t  2\ttotal_bill\t16.99\n",
    "1\t  3\ttotal_bill\t10.34\n",
    "2\t  3\ttotal_bill\t21.01\n",
    "3\t  2\ttotal_bill\t23.68\n",
    "4\t  4\ttotal_bill\t24.59\n",
    "...\n",
    "483\t3\t       tip \t5.92\n",
    "484\t2\t       tip \t2.00\n",
    "485\t2\t       tip \t2.00\n",
    "486\t2\t       tip \t1.75\n",
    "487\t2\t       tip \t3.00\n",
    "```"
   ]
  },
  {
   "cell_type": "code",
   "execution_count": 9,
   "metadata": {
    "colab": {
     "base_uri": "https://localhost:8080/"
    },
    "executionInfo": {
     "elapsed": 18,
     "status": "ok",
     "timestamp": 1754828659300,
     "user": {
      "displayName": "‍조대현[ 대학원석·박사통합과정수료연구(재학) / 인공지능학과 ]",
      "userId": "01156684096009482818"
     },
     "user_tz": -540
    },
    "id": "Gh6JPs1be4Vi",
    "outputId": "7b1c0f81-7529-4921-d2f8-ba737f37f988"
   },
   "outputs": [
    {
     "name": "stdout",
     "output_type": "stream",
     "text": [
      "✅ 모든 테스트 통과\n"
     ]
    }
   ],
   "source": [
    "# 정답 코드\n",
    "melted = pd.melt(df, id_vars=['size'], value_vars=['total_bill', 'tip'], var_name='item', value_name='amount')\n",
    "\n",
    "\n",
    "# 테스트 코드\n",
    "assert 'item' in melted.columns, \"'item' 컬럼이 존재해야 합니다.\"\n",
    "assert 'amount' in melted.columns, \"'amount' 컬럼이 존재해야 합니다.\"\n",
    "assert set(melted['item'].unique()) == {'total_bill', 'tip'}, \"'item' 컬럼 값이 total_bill과 tip이어야 합니다.\"\n",
    "print(\"✅ 모든 테스트 통과\")"
   ]
  },
  {
   "cell_type": "markdown",
   "metadata": {
    "id": "lX3qNW0xenFc"
   },
   "source": [
    "### 5. 📊 size별 평균 팁 비율 구하기 (`groupby` + `apply` 조합도 OK)\n",
    "1.\t`size` 컬럼을 기준으로 `tip_percent`의 평균을 계산하세요.\n",
    "2.\t`size=1`부터 `size=6`까지 평균 비율이 나와야 합니다.\n",
    "\n",
    "\n",
    "출력결과 예시\n",
    "```python\n",
    "       tip_percent\n",
    "size\n",
    "1\t     0.217292\n",
    "2\t     0.165719\n",
    "3\t     0.152157\n",
    "4\t     0.145949\n",
    "5\t     0.141495\n",
    "6\t     0.156229\n",
    "Name: tip_percent, dtype: float64\n",
    "```"
   ]
  },
  {
   "cell_type": "code",
   "execution_count": 10,
   "metadata": {
    "colab": {
     "base_uri": "https://localhost:8080/"
    },
    "executionInfo": {
     "elapsed": 15,
     "status": "ok",
     "timestamp": 1754828659320,
     "user": {
      "displayName": "‍조대현[ 대학원석·박사통합과정수료연구(재학) / 인공지능학과 ]",
      "userId": "01156684096009482818"
     },
     "user_tz": -540
    },
    "id": "HeK5Nez7e6hH",
    "outputId": "1dee6bdc-876d-4c1c-f926-8527e512cf94"
   },
   "outputs": [
    {
     "name": "stdout",
     "output_type": "stream",
     "text": [
      "✅ 모든 테스트 통과\n"
     ]
    }
   ],
   "source": [
    "# 정답 코드\n",
    "size_group = df.groupby('size')['tip_percent'].mean()\n",
    "\n",
    "\n",
    "# 테스트 코드\n",
    "assert isinstance(size_group, pd.Series), \"groupby 결과는 Series여야 합니다.\"\n",
    "assert all(size_group.index >= 1), \"size는 1 이상이어야 합니다.\"\n",
    "assert size_group.between(0, 1).all(), \"평균 tip_percent는 0과 1 사이여야 합니다.\"\n",
    "print(\"✅ 모든 테스트 통과\")"
   ]
  },
  {
   "cell_type": "markdown",
   "metadata": {
    "id": "O26BLxk1esUk"
   },
   "source": [
    "### 6. 🏆 최고 팁 비율을 기록한 고객의 정보 출력"
   ]
  },
  {
   "cell_type": "code",
   "execution_count": 11,
   "metadata": {
    "colab": {
     "base_uri": "https://localhost:8080/"
    },
    "executionInfo": {
     "elapsed": 19,
     "status": "ok",
     "timestamp": 1754828659340,
     "user": {
      "displayName": "‍조대현[ 대학원석·박사통합과정수료연구(재학) / 인공지능학과 ]",
      "userId": "01156684096009482818"
     },
     "user_tz": -540
    },
    "id": "aSdqRAVue8Ki",
    "outputId": "34ff9387-6b05-46ff-e8eb-7e54d98be037"
   },
   "outputs": [
    {
     "name": "stdout",
     "output_type": "stream",
     "text": [
      "✅ 모든 테스트 통과\n"
     ]
    }
   ],
   "source": [
    "# 정답 코드\n",
    "top_tipper = df[df['tip_percent'] == df['tip_percent'].max()]\n",
    "\n",
    "\n",
    "# 테스트 코드\n",
    "assert len(top_tipper) >= 1, \"최고 팁 비율 고객이 존재해야 합니다.\"\n",
    "assert (top_tipper['tip_percent'] == df['tip_percent'].max()).all(), \"tip_percent가 최댓값과 같아야 합니다.\"\n",
    "print(\"✅ 모든 테스트 통과\")"
   ]
  },
  {
   "cell_type": "markdown",
   "metadata": {
    "id": "-kmn3ym5jEoF"
   },
   "source": [
    "## 마치며\n",
    "\n",
    "오늘은 기초적인 Python class를 응용하는 시간과 `pandas`의 조금 더 다양한 용례를 구현해보았습니다. `numpy`의 경우 후에 더 자세히 다루는 시간이 있어 이번 시간에는 `pandas`에 조금 더 집중하였습니다 :)\n",
    "\n",
    "### Further Readings\n",
    "\n",
    "- Pandas AI: The Generative AI Python Library PandasAI의 기본 개념과 실습 예제를 통해 자연어 질의로 데이터프레임을 다루는 원리를 익힐 수 있습니다. Pandas 코드 자동 생성 과정을 직접 경험하며, 수작업과 AI 보조 분석 간의 차이를 체험해 보세요.\n",
    "  - https://www.geeksforgeeks.org/pandas/pandas-ai/\n",
    "\n",
    "- Advanced Pandas Operations | Data Analysis with Python: 그룹 연산, 시간 시리즈 처리, 고급 인덱싱 등 Pandas의 심화 기능을 정리한 튜토리얼입니다. 과제에서 다루지 않은 기법들을 습득해 보다 복잡한 데이터 전처리·분석 작업에 도전해 보세요.\n",
    "  - https://dynamicduniya.com/tutorials/data-science/data-analysis-with-python/advanced-pandas-operations\n",
    "\n",
    "### Open-Ended Mission\n",
    "\n",
    "- 고객 1인당 소비·팁 계산 및 분석\n",
    "- `pd.cut`을 이용한 팁 비율 등급화 및 빈도 분석"
   ]
  }
 ],
 "metadata": {
  "colab": {
   "provenance": [],
   "toc_visible": true
  },
  "kernelspec": {
   "display_name": "Python 3 (ipykernel)",
   "language": "python",
   "name": "python3"
  },
  "language_info": {
   "codemirror_mode": {
    "name": "ipython",
    "version": 3
   },
   "file_extension": ".py",
   "mimetype": "text/x-python",
   "name": "python",
   "nbconvert_exporter": "python",
   "pygments_lexer": "ipython3",
   "version": "3.9.12"
  }
 },
 "nbformat": 4,
 "nbformat_minor": 1
}
