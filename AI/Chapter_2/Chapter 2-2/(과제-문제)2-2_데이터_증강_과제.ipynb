{
 "cells": [
  {
   "cell_type": "markdown",
   "metadata": {
    "id": "4O_zgP34Gt0K"
   },
   "source": [
    "### **Content License Agreement**\n",
    "\n",
    "<font color='red'><b>**WARNING**</b></font> : 본 자료는 삼성 청년 SW아카데미의 컨텐츠 자산으로, 보안서약서에 의거하여 어떠한 사유로도 임의로 복사, 촬영, 녹음, 복제, 보관, 전송하거나 허가 받지 않은 저장매체를 이용한 보관, 제3자에게 누설, 공개 또는 사용하는 등의 무단 사용 및 불법 배포 시 법적 조치를 받을 수 있습니다."
   ]
  },
  {
   "cell_type": "markdown",
   "metadata": {
    "id": "wBMRC-8eG2Fh"
   },
   "source": [
    "### **Objectives**\n",
    "\n",
    "1. 실습명 : 데이터 증강\n",
    "2. 핵심 주제:\n",
    "    1. 환경 설정 및 기본 함수 이해\n",
    "    2. 데이터 '증강'을 위한 Prompt Engineering\n",
    "    3. 증강 데이터 평가\n",
    "3. 학습 목표 :\n",
    "    1. 과제 진행에 필요한 라이브러리와 API 정보를 설정\n",
    "    2. `Text-to-SQL` task를 위한 학습 데이터를 생성\n",
    "    3. 생성된 데이터의 품질을 자동으로 평가하는 '평가자(Judge)' LLM을 설계\n",
    "4. 학습 개념: 키워드명 :\n",
    "    1. API 통신\n",
    "    2. Prompt Engineering\n",
    "    3. LLM as Judge\n",
    "  \n",
    "5. 학습 방향 :\n",
    "  - 실습은 기본적인 API 통신을 통해 데이터를 생성하고, 증강 데이터의 품질을 평가하는 '평가자(Judge)' LLM을 설계하는 과정을 통해 학습됩니다.\n",
    "  - 실습 코드는 조교가 직접 구현한 코드를 참고하며 학습합니다.\n",
    "  - 해당 실습에 정답은 없으므로 자신이 옳다고 생각하는 나름의 근거를 세워가며 학습합니다.\n",
    "\n"
   ]
  },
  {
   "cell_type": "markdown",
   "metadata": {
    "id": "EhMJqtdyG40p"
   },
   "source": [
    "### **Prerequisites**\n"
   ]
  },
  {
   "cell_type": "code",
   "execution_count": null,
   "metadata": {
    "colab": {
     "base_uri": "https://localhost:8080/"
    },
    "executionInfo": {
     "elapsed": 10794,
     "status": "ok",
     "timestamp": 1755782218520,
     "user": {
      "displayName": "Lucas",
      "userId": "16928510690595900982"
     },
     "user_tz": -540
    },
    "id": "R4kaQwhjugy_",
    "outputId": "9b740dee-96cc-420b-d1c0-0a23e3c811ce"
   },
   "outputs": [
    {
     "name": "stdout",
     "output_type": "stream",
     "text": [
      "Collecting dotenv==0.9.9\n",
      "  Downloading dotenv-0.9.9-py2.py3-none-any.whl.metadata (279 bytes)\n",
      "Requirement already satisfied: openai==1.100.0 in /usr/local/lib/python3.12/dist-packages (1.100.0)\n",
      "Requirement already satisfied: python-dotenv in /usr/local/lib/python3.12/dist-packages (from dotenv==0.9.9) (1.1.1)\n",
      "Requirement already satisfied: anyio<5,>=3.5.0 in /usr/local/lib/python3.12/dist-packages (from openai==1.100.0) (4.10.0)\n",
      "Requirement already satisfied: distro<2,>=1.7.0 in /usr/local/lib/python3.12/dist-packages (from openai==1.100.0) (1.9.0)\n",
      "Requirement already satisfied: httpx<1,>=0.23.0 in /usr/local/lib/python3.12/dist-packages (from openai==1.100.0) (0.28.1)\n",
      "Requirement already satisfied: jiter<1,>=0.4.0 in /usr/local/lib/python3.12/dist-packages (from openai==1.100.0) (0.10.0)\n",
      "Requirement already satisfied: pydantic<3,>=1.9.0 in /usr/local/lib/python3.12/dist-packages (from openai==1.100.0) (2.11.7)\n",
      "Requirement already satisfied: sniffio in /usr/local/lib/python3.12/dist-packages (from openai==1.100.0) (1.3.1)\n",
      "Requirement already satisfied: tqdm>4 in /usr/local/lib/python3.12/dist-packages (from openai==1.100.0) (4.67.1)\n",
      "Requirement already satisfied: typing-extensions<5,>=4.11 in /usr/local/lib/python3.12/dist-packages (from openai==1.100.0) (4.14.1)\n",
      "Requirement already satisfied: idna>=2.8 in /usr/local/lib/python3.12/dist-packages (from anyio<5,>=3.5.0->openai==1.100.0) (3.10)\n",
      "Requirement already satisfied: certifi in /usr/local/lib/python3.12/dist-packages (from httpx<1,>=0.23.0->openai==1.100.0) (2025.8.3)\n",
      "Requirement already satisfied: httpcore==1.* in /usr/local/lib/python3.12/dist-packages (from httpx<1,>=0.23.0->openai==1.100.0) (1.0.9)\n",
      "Requirement already satisfied: h11>=0.16 in /usr/local/lib/python3.12/dist-packages (from httpcore==1.*->httpx<1,>=0.23.0->openai==1.100.0) (0.16.0)\n",
      "Requirement already satisfied: annotated-types>=0.6.0 in /usr/local/lib/python3.12/dist-packages (from pydantic<3,>=1.9.0->openai==1.100.0) (0.7.0)\n",
      "Requirement already satisfied: pydantic-core==2.33.2 in /usr/local/lib/python3.12/dist-packages (from pydantic<3,>=1.9.0->openai==1.100.0) (2.33.2)\n",
      "Requirement already satisfied: typing-inspection>=0.4.0 in /usr/local/lib/python3.12/dist-packages (from pydantic<3,>=1.9.0->openai==1.100.0) (0.4.1)\n",
      "Downloading dotenv-0.9.9-py2.py3-none-any.whl (1.9 kB)\n",
      "Installing collected packages: dotenv\n",
      "Successfully installed dotenv-0.9.9\n"
     ]
    }
   ],
   "source": [
    "%pip install dotenv==0.9.9 openai==1.100.0 datasets==4.0.0"
   ]
  },
  {
   "cell_type": "markdown",
   "metadata": {
    "id": "8-_D1uG2G67l"
   },
   "source": [
    "# 1. 환경설정\n",
    "\n",
    "- os environment variable 설정을 진행합니다.\n"
   ]
  },
  {
   "cell_type": "markdown",
   "metadata": {
    "id": "80ESaQFmugzC"
   },
   "source": [
    "### 1.1. os environment variable\n",
    "\n",
    "실습 코드에서 처럼 Upstage_API_Key 설정을 위해서 환경변수를 설정합니다."
   ]
  },
  {
   "cell_type": "markdown",
   "metadata": {
    "id": "oxMRnQGpugzE"
   },
   "source": [
    "구글 드라이브에 mount를 합니다."
   ]
  },
  {
   "cell_type": "code",
   "execution_count": null,
   "metadata": {
    "colab": {
     "base_uri": "https://localhost:8080/"
    },
    "executionInfo": {
     "elapsed": 22227,
     "status": "ok",
     "timestamp": 1755782275721,
     "user": {
      "displayName": "Lucas",
      "userId": "16928510690595900982"
     },
     "user_tz": -540
    },
    "id": "Cbe2PXkfugzF",
    "outputId": "f69fc215-092f-4126-ca35-e01eb6449d5c"
   },
   "outputs": [
    {
     "name": "stdout",
     "output_type": "stream",
     "text": [
      "Mounted at /content/drive\n"
     ]
    }
   ],
   "source": [
    "from google.colab import drive\n",
    "drive.mount(\"/content/drive\")"
   ]
  },
  {
   "cell_type": "markdown",
   "metadata": {
    "id": "lIs2qaQeugzG"
   },
   "source": [
    "mount한 이후 아래 코드를 실행하여 .env 파일을 생성합니다.\n",
    "\n",
    "API key는 [Upstage Console](https://console.upstage.ai/docs/getting-started)을 확인해주세요."
   ]
  },
  {
   "cell_type": "code",
   "execution_count": null,
   "metadata": {
    "id": "DMl7K9rougzG"
   },
   "outputs": [],
   "source": [
    "# 실습코드를 실행하셨다면 다시 진행하지 않으셔도 됩니다.\n",
    "your_api_key = \"<YOUR_API_KEY>\" # 여기에 Upstage API 키를 입력하세요.\n",
    "!echo \"UPSTAGE_API_KEY={your_api_key}\" > \"/content/drive/My Drive/Colab Notebooks/.env\""
   ]
  },
  {
   "cell_type": "markdown",
   "metadata": {
    "id": "7CHY1x-3ugzH"
   },
   "source": [
    "저장된 .env 파일을 불러서 환경변수로 설정합니다."
   ]
  },
  {
   "cell_type": "code",
   "execution_count": null,
   "metadata": {
    "colab": {
     "base_uri": "https://localhost:8080/"
    },
    "executionInfo": {
     "elapsed": 2037,
     "status": "ok",
     "timestamp": 1755782281633,
     "user": {
      "displayName": "Lucas",
      "userId": "16928510690595900982"
     },
     "user_tz": -540
    },
    "id": "GC1Hp5KuugzH",
    "outputId": "e44956ba-37f0-4c88-9ba4-70e2860569ec"
   },
   "outputs": [
    {
     "name": "stdout",
     "output_type": "stream",
     "text": [
      "Success API Key Setting!\n"
     ]
    }
   ],
   "source": [
    "from dotenv import load_dotenv\n",
    "from os import getenv\n",
    "load_dotenv(\"/content/drive/My Drive/Colab Notebooks/.env\")\n",
    "\n",
    "UPSTAGE_API_KEY = getenv(\"UPSTAGE_API_KEY\")\n",
    "if UPSTAGE_API_KEY:\n",
    "    print(\"Success API Key Setting!\")"
   ]
  },
  {
   "cell_type": "markdown",
   "metadata": {
    "id": "k9tKBrFwugzI"
   },
   "source": [
    "이렇게 불러오면 .env 파일을 github에 push할 때, gitignore 처리를 해서 API가 유출되지 않도록 할 수 있습니다.\n",
    "\n",
    "또한, .env 파일을 암호화해서 보관할 수도 있습니다."
   ]
  },
  {
   "cell_type": "markdown",
   "metadata": {
    "id": "Ijm8LEULugzK"
   },
   "source": [
    "# 2. real data를 이용한 데이터 증강\n",
    "\n",
    "아무것도 없는 상태에서 합성 데이터를 만드는 것은 굉장히 어렵습니다. 그 이유는 다음과 같습니다.\n",
    "\n",
    "1. 정답이 없는 상황에서 모델을 이용해서 정답을 만들 경우 현실 세상에 없는 데이터가 만들어지면서 오히려 모델의 성능이 떨어질 수 있습니다.\n",
    "2. 입력 데이터가 실제 사람으로부터 나온 데이터가 아니기 때문에 실제 입력과의 차이가 발생하여 서비스 단계에서 문제가 발생합니다.\n",
    "\n",
    "이러한 문제를 어느정도 완화할 수 있는 것이 데이터 증강입니다. 데이터 증강은 real data로부터 조금씩 번형하여 데이터를 만들어내는 것을 의미합니다. 지금부터 데이터를 증강하는 방법을 경험해봅니다."
   ]
  },
  {
   "cell_type": "markdown",
   "metadata": {
    "id": "1bHrKapRugzK"
   },
   "source": [
    "### 2.1. 영어 데이터 번역\n",
    "\n",
    "한국어로 된 데이터셋은 많지 않습니다. 그 이유는 다음과 같습니다.\n",
    "\n",
    "1. 한국어를 사용하는 사람들의 비율이 전세계적으로 적습니다.\n",
    "2. 한국어로 된 데이터셋을 만드는 기업 or 개인의 수가 적습니다.\n",
    "3. 한국어로 된 데이터셋을 만들기 위해서는 많은 노동력과 자본이 필요하지만 다른 국가에 비해 비교적 부족합니다.\n",
    "\n",
    "반대로 영어로된 데이터셋은 많습니다. 영어를 사용하는 인구가 많고, 많은 자본이 동원되어 데이터셋을 만듭니다.\n",
    "\n",
    "이러한 이유로 영어로 된 공개된 데이터셋을 한국어로 번역하여 학습하는 경우가 많습니다.\n",
    "\n",
    "지금부터 영어로된 데이터셋을 한국어로 번역하는 방식으로 한국어 데이터를 만들어보겠습니다."
   ]
  },
  {
   "cell_type": "markdown",
   "metadata": {
    "id": "S4HETKFEugzL"
   },
   "source": [
    "합성 데이터를 만들든 데이터를 증강하든 어떤 데이터셋을 만들든 간에 추가적인 데이터셋을 만들 때에는 다음과 같은 과정으로 진행합니다.\n",
    "\n",
    "1. 일부 데이터셋으로만 합성 데이터를 제작하는 코드를 만들어서 테스트를 진행합니다.\n",
    "2. 해당 합성 데이터 제작 코드로 퀄리티가 좋다면 단계적으로 갯수를 늘려서 데이터 퀄리티를 체크합니다. (ex : 10 -> 100 -> 1000)\n",
    "3. 데이터를 scale-up 해도 퀄리티가 유지가 된다면 전체 데이터셋에 대해서 합성 데이터를 제작합니다.\n",
    "\n",
    "이러한 방식으로 데이터 생성 비용을 최소화하면서 데이터를 제작하는 파이프라인을 제작합니다.\n",
    "\n",
    "영어로 된 Text-to-SQL 데이터셋을 불러옵니다."
   ]
  },
  {
   "cell_type": "code",
   "execution_count": null,
   "metadata": {
    "colab": {
     "base_uri": "https://localhost:8080/",
     "height": 311,
     "referenced_widgets": [
      "04209097626746b5b1ee359f0cc09782",
      "45f88010b15d4915a2f393616247866d",
      "f16a7fc8ad524c9f92acab3fac9d13bd",
      "3ee58e857bee44839576f468198bdd7f",
      "7eb1a46e88804886bb1147a888bc3073",
      "3602bf0900714373814cc41727069131",
      "8975569a304e42369adab44614e15c7c",
      "bcf19f3e628342ff80269a2e1126df1f",
      "aa790fa145004d4199bd4cc95fbbcf74",
      "74dab935388e4ee692ee1a2e8b1e6835",
      "9f60c537df884673bb1e09dca8426b5d",
      "8d27ebf41d9644d4bc226c271cfeec63",
      "da87a69470a64904aac0b53eff11a701",
      "f9d3a737562d4b288d967e406c76ae8c",
      "6706202d98a04dd8860ce1f4265605c6",
      "4613ff1b76ee4ee492c1560c52860616",
      "29df36bc250f44a9bc196994951c3c56",
      "468da9dcfd8b4595b13c8f091f824972",
      "6f611b1443a741eca63764611df30376",
      "db9d1e6898cd491c9d80ffd0b15b5a1b",
      "34654c30f74c4f4785971f4b52444f7d",
      "133728583cc648369079b65ccd7d7476",
      "6781d8b0cc804cd0b02f40a54c7ab156",
      "b08503b630974a2d8a0ab0a460d3b811",
      "2562ab0b7f984672951dd0662e67301c",
      "40433d59f3984f219f2fc416b72b1b11",
      "4d4f794838904fa2bae978a868b8676f",
      "cc265fbbda36449a8716be0091017cff",
      "6c65ec3749d0440ab8027e3f8fa0dd7d",
      "dc9e593fe35741ada57154686036213d",
      "e334480b7c184f77b920c299fa773c6d",
      "295eb83e71c24745bcbe39923f73c50f",
      "7f58d1ee4683429ea04f246f15e2c480"
     ]
    },
    "executionInfo": {
     "elapsed": 7668,
     "status": "ok",
     "timestamp": 1755782293032,
     "user": {
      "displayName": "Lucas",
      "userId": "16928510690595900982"
     },
     "user_tz": -540
    },
    "id": "ub4NyoUhugzL",
    "outputId": "e5d224e4-f142-4d09-c175-8ac98e793da3"
   },
   "outputs": [
    {
     "name": "stderr",
     "output_type": "stream",
     "text": [
      "/usr/local/lib/python3.12/dist-packages/huggingface_hub/utils/_auth.py:94: UserWarning: \n",
      "The secret `HF_TOKEN` does not exist in your Colab secrets.\n",
      "To authenticate with the Hugging Face Hub, create a token in your settings tab (https://huggingface.co/settings/tokens), set it as secret in your Google Colab and restart your session.\n",
      "You will be able to reuse this secret in all of your notebooks.\n",
      "Please note that authentication is recommended but still optional to access public models or datasets.\n",
      "  warnings.warn(\n"
     ]
    },
    {
     "data": {
      "application/vnd.jupyter.widget-view+json": {
       "model_id": "04209097626746b5b1ee359f0cc09782",
       "version_major": 2,
       "version_minor": 0
      },
      "text/plain": [
       "README.md: 0.00B [00:00, ?B/s]"
      ]
     },
     "metadata": {},
     "output_type": "display_data"
    },
    {
     "data": {
      "application/vnd.jupyter.widget-view+json": {
       "model_id": "8d27ebf41d9644d4bc226c271cfeec63",
       "version_major": 2,
       "version_minor": 0
      },
      "text/plain": [
       "sql_create_context_v4.json:   0%|          | 0.00/21.8M [00:00<?, ?B/s]"
      ]
     },
     "metadata": {},
     "output_type": "display_data"
    },
    {
     "data": {
      "application/vnd.jupyter.widget-view+json": {
       "model_id": "6781d8b0cc804cd0b02f40a54c7ab156",
       "version_major": 2,
       "version_minor": 0
      },
      "text/plain": [
       "Generating train split:   0%|          | 0/78577 [00:00<?, ? examples/s]"
      ]
     },
     "metadata": {},
     "output_type": "display_data"
    },
    {
     "data": {
      "text/plain": [
       "Dataset({\n",
       "    features: ['answer', 'question', 'context'],\n",
       "    num_rows: 78577\n",
       "})"
      ]
     },
     "execution_count": 4,
     "metadata": {},
     "output_type": "execute_result"
    }
   ],
   "source": [
    "from datasets import load_dataset\n",
    "\n",
    "# 데이터셋 이름\n",
    "dataset_name = \"b-mc2/sql-create-context\"\n",
    "\n",
    "# 데이터셋 Load\n",
    "dataset = load_dataset(dataset_name, split=\"train\")\n",
    "dataset"
   ]
  },
  {
   "cell_type": "markdown",
   "metadata": {
    "id": "5u2tkXwBugzM"
   },
   "source": [
    "데이터 생성 파이프라인을 만들기 위해 일부 데이터셋으로만 진행합니다."
   ]
  },
  {
   "cell_type": "code",
   "execution_count": null,
   "metadata": {
    "colab": {
     "base_uri": "https://localhost:8080/"
    },
    "executionInfo": {
     "elapsed": 5,
     "status": "ok",
     "timestamp": 1755782293039,
     "user": {
      "displayName": "Lucas",
      "userId": "16928510690595900982"
     },
     "user_tz": -540
    },
    "id": "eqsrV7tTugzM",
    "outputId": "e20fe98e-ef66-4732-dcd6-bee000893df6"
   },
   "outputs": [
    {
     "data": {
      "text/plain": [
       "Dataset({\n",
       "    features: ['answer', 'question', 'context'],\n",
       "    num_rows: 10\n",
       "})"
      ]
     },
     "execution_count": 5,
     "metadata": {},
     "output_type": "execute_result"
    }
   ],
   "source": [
    "dataset_10 = dataset.select(range(10))\n",
    "dataset_10"
   ]
  },
  {
   "cell_type": "markdown",
   "metadata": {
    "id": "v2x2PsLsugzM"
   },
   "source": [
    "데이터셋을 직접 보고 특징을 파악합니다."
   ]
  },
  {
   "cell_type": "code",
   "execution_count": null,
   "metadata": {
    "colab": {
     "base_uri": "https://localhost:8080/"
    },
    "executionInfo": {
     "elapsed": 5,
     "status": "ok",
     "timestamp": 1755782293045,
     "user": {
      "displayName": "Lucas",
      "userId": "16928510690595900982"
     },
     "user_tz": -540
    },
    "id": "RMAProqfugzM",
    "outputId": "87b970e2-376f-4c5c-bf99-c8e822ed1be8"
   },
   "outputs": [
    {
     "data": {
      "text/plain": [
       "{'answer': 'SELECT COUNT(*) FROM head WHERE age > 56',\n",
       " 'question': 'How many heads of the departments are older than 56 ?',\n",
       " 'context': 'CREATE TABLE head (age INTEGER)'}"
      ]
     },
     "execution_count": 6,
     "metadata": {},
     "output_type": "execute_result"
    }
   ],
   "source": [
    "dataset_10[0]"
   ]
  },
  {
   "cell_type": "markdown",
   "metadata": {
    "id": "0Nj4bYLyugzN"
   },
   "source": [
    "- answer : SQL 문\n",
    "- question : 유저의 입력 프롬프트\n",
    "- context : DB의 table 정보\n",
    "\n",
    "이 중 한국어 유저는 question 단계(유저 입력 프롬프트)에서 한국어를 사용할 것이므로 `question` 컬럼을 한국어로 번역합니다.\n",
    "\n",
    "한국어 번역을 하기 위한 `SYSTEM_PROMPT`를 작성합니다."
   ]
  },
  {
   "cell_type": "code",
   "execution_count": null,
   "metadata": {
    "id": "72YpohFgugzN"
   },
   "outputs": [],
   "source": [
    "# TODO: 다음 영어에서 한국어로 번역하는 지시사항에 관한 시스템 프롬프트를 작성하세요\n",
    "# SYSTEM_PROMPT = FIXME"
   ]
  },
  {
   "cell_type": "markdown",
   "metadata": {
    "id": "4-LuR7RmugzN"
   },
   "source": [
    "안정적인 결과물을 얻기 위해 `response_format`을 정의합니다."
   ]
  },
  {
   "cell_type": "code",
   "execution_count": null,
   "metadata": {
    "id": "TNo-HkyOugzN"
   },
   "outputs": [],
   "source": [
    "response_format={\n",
    "    \"type\": \"json_schema\",\n",
    "    \"json_schema\": {\n",
    "        \"name\": \"translation\",\n",
    "        \"strict\": True,\n",
    "        \"schema\": {\n",
    "            \"type\": \"object\",\n",
    "            \"properties\": {\n",
    "                \"korean\": {\n",
    "                    \"type\": \"string\",\n",
    "                    \"description\": \"translated sentence\"\n",
    "                }\n",
    "            },\n",
    "            \"required\": [\"korean\"],\n",
    "        }\n",
    "    }\n",
    "}"
   ]
  },
  {
   "cell_type": "markdown",
   "metadata": {
    "id": "wL6HBmGGugzO"
   },
   "source": [
    "하나의 입력을 넣어서 제대로 결과물이 나오는지 확인합니다."
   ]
  },
  {
   "cell_type": "code",
   "execution_count": null,
   "metadata": {
    "colab": {
     "base_uri": "https://localhost:8080/"
    },
    "executionInfo": {
     "elapsed": 4311,
     "status": "ok",
     "timestamp": 1755782307069,
     "user": {
      "displayName": "Lucas",
      "userId": "16928510690595900982"
     },
     "user_tz": -540
    },
    "id": "fSUqW_KaugzO",
    "outputId": "f0a58f1f-51d3-4b9c-b160-0b69e24a131e"
   },
   "outputs": [
    {
     "name": "stdout",
     "output_type": "stream",
     "text": [
      "<class 'str'>\n",
      "{\n",
      "  \"korean\": \"56세 이상인 부서장들은 몇 명인가요?\"\n",
      "}\n",
      "<class 'dict'>\n",
      "{'korean': '56세 이상인 부서장들은 몇 명인가요?'}\n"
     ]
    }
   ],
   "source": [
    "from openai import OpenAI\n",
    "import json\n",
    "\n",
    "client = OpenAI(\n",
    "    api_key=UPSTAGE_API_KEY,\n",
    "    base_url=\"https://api.upstage.ai/v1\"\n",
    ")\n",
    "\n",
    "system_message = {\n",
    "    \"role\": \"system\",\n",
    "    \"content\": SYSTEM_PROMPT\n",
    "}\n",
    "\n",
    "for row in dataset_10:\n",
    "    # TODO : USER MESSAGE를 정의하세요.\n",
    "    # user_message = FIXME\n",
    "\n",
    "    messages = [\n",
    "        system_message,\n",
    "        user_message\n",
    "    ]\n",
    "\n",
    "    response = client.chat.completions.create(\n",
    "        model=\"solar-pro2\",\n",
    "        messages=messages,\n",
    "        response_format=response_format\n",
    "    )\n",
    "\n",
    "    output = response.choices[0].message.content\n",
    "    print(type(output))\n",
    "    print(output)\n",
    "\n",
    "    json_output = json.loads(output)\n",
    "\n",
    "    print(type(json_output))\n",
    "    print(json_output)\n",
    "    break"
   ]
  },
  {
   "cell_type": "markdown",
   "metadata": {
    "id": "eILM8DLSugzP"
   },
   "source": [
    "# 2.2. 데이터 증강\n",
    "\n",
    "영어 데이터로부터 다양한 스타일의 한국어로 번역하는 과정을 통해 다양한 데이터를 얻을 수 있습니다.\n",
    "\n",
    "실제 모델을 서비스를 한다면 초등학생, 직장인, 주부 등 다양한 유저들이 모델을 사용할 것입니다. 이러한 다양한 상황들을 전부 학습하는 것이 모델의 성능을 높이고 안정적인 서비스를 유지하는데 핵심입니다.\n",
    "\n",
    "다양한 번역 결과물을 얻기 위해서 다양한 페르소나를 정의합니다."
   ]
  },
  {
   "cell_type": "code",
   "execution_count": null,
   "metadata": {
    "colab": {
     "base_uri": "https://localhost:8080/"
    },
    "executionInfo": {
     "elapsed": 6514,
     "status": "ok",
     "timestamp": 1755782313585,
     "user": {
      "displayName": "Lucas",
      "userId": "16928510690595900982"
     },
     "user_tz": -540
    },
    "id": "xLfMalUJugzP",
    "outputId": "62d7dde6-2ac0-47f6-f15a-f35765490276"
   },
   "outputs": [
    {
     "data": {
      "text/plain": [
       "[{'id': 0,\n",
       "  'question_with_persona': [{'persona': 'Friendly Adult – Kind and polite tone, like an older sibling giving advice.',\n",
       "    'question_korean': '56세보다 연장자이신 부서장님들께서는 몇 분 정도 되시나요?'},\n",
       "   {'persona': 'Elementary Student – Simple, cheerful, and naive tone, like a 10-year-old child.',\n",
       "    'question_korean': '56살보다 나이 많은 부서장들이 몇 명이에요?'},\n",
       "   {'persona': 'Formal Business – Polite, professional tone suitable for documents or work emails.',\n",
       "    'question_korean': '56세 이상인 부서장 수는 몇 명입니까?'},\n",
       "   {'persona': 'Casual Friend – Relaxed, informal tone, as if chatting with a close friend.',\n",
       "    'question_korean': '부서장들 중 56살 넘은 사람 몇 명이나 되지?'},\n",
       "   {'persona': 'Elderly Person – Gentle, old-fashioned, and wise tone, like a kind grandparent.',\n",
       "    'question_korean': '56세보다 연세가 많으신 부서장님들은 몇 분이나 되시나요?'}]}]"
      ]
     },
     "execution_count": 10,
     "metadata": {},
     "output_type": "execute_result"
    }
   ],
   "source": [
    "# TODO: 초등학생, 개발자, PM 등 다양한 페르소나를 정의하세요\n",
    "# personas = [] FIXME\n",
    "\n",
    "SYSTEM_PROMPT_WITH_PERSONA = \"\"\"\n",
    "You are a translation assistant.\n",
    "Your task is to translate English sentences into Korean.\n",
    "You must keep the meaning accurate, but adapt the tone and style according to the requested persona.\n",
    "\n",
    "{persona}\n",
    "\"\"\"\n",
    "\n",
    "translated_questions_with_persona = []\n",
    "for idx, row in enumerate(dataset_10):\n",
    "    output_row = {\n",
    "        \"id\": idx,\n",
    "        \"question_with_persona\": []\n",
    "    }\n",
    "    for persona in personas:\n",
    "        system_message = {\n",
    "            \"role\": \"system\",\n",
    "            \"content\": SYSTEM_PROMPT_WITH_PERSONA.format(persona=persona)\n",
    "        }\n",
    "        user_message = {\n",
    "            \"role\": \"user\",\n",
    "            \"content\": row[\"question\"]\n",
    "        }\n",
    "\n",
    "        messages = [\n",
    "            system_message,\n",
    "            user_message\n",
    "        ]\n",
    "\n",
    "        response = client.chat.completions.create(\n",
    "            model=\"solar-pro2\",\n",
    "            messages=messages,\n",
    "            response_format=response_format\n",
    "        )\n",
    "\n",
    "        output = response.choices[0].message.content\n",
    "        json_output = json.loads(output)\n",
    "        output_row[\"question_with_persona\"].append({\n",
    "            \"persona\": persona,\n",
    "            \"question_korean\": json_output[\"korean\"]\n",
    "        })\n",
    "\n",
    "    translated_questions_with_persona.append(output_row)\n",
    "    break\n",
    "translated_questions_with_persona"
   ]
  },
  {
   "cell_type": "markdown",
   "metadata": {
    "id": "GVVbuxY4ugzQ"
   },
   "source": [
    "# 3. 증강 데이터 평가\n",
    "\n",
    "합성 데이터 혹은 증강 데이터를 평가할 때에는 정성적인 부분이 많이 들어갑니다. 왜냐하면 정상적인 데이터가 아닐 수 있기 때문에 명확히 평가하기 어려운 부분도 있습니다. 평가가 어려운 이유는 다음과 같습니다.\n",
    "\n",
    "-  모델의 강건함(robustness)를 올리기 위해 일부러 비정상적인 데이터를 넣을 수 있습니다. 이 경우 명확한 평가가 어렵습니다.\n",
    "-  다양한 데이터를 얻기 위해 스타일을 바꾼 것은 명확한 정량적인 평가가 어렵습니다.\n",
    "\n",
    "또한, 모델 학습 데이터를 얻기 위해서 데이터를 증강했다는 의미는 **모델의 성능이 올랐냐**가 가장 중요한 평가 기준이 됩니다. 따라서, task, 모델 등에 따라서 모델의 성능이 각기 달라지기 때문에 명확한 정답이 있는 것은 아닙니다.\n",
    "\n",
    "잘 만들었다는 증강 데이터는 모델의 학습과 연관이 되어 있기 때문에 모델 학습 결과를 보면서 ML 엔지니어의 감과 노하우가 들어가는 영역입니다.\n",
    "\n",
    "즉, 해당 task의 평가 데이터 혹은 실제 서비스상에서 나타나는 데이터들을 보고 그것과 유사한 증강 데이터를 만드는 등 좀더 실무적인 영역이 많이 들어가기 때문에 평가하기가 더더욱 어렵습니다.\n",
    "\n",
    "우선 간단하게 해볼 수 있는 평가는 LLM as a Judge를 이용하여 GPT를 통해 한번 필터링을 하는 것입니다. 그 이후에는 모델 영역으로도 평가하기 어려운 부분은 직접 ML 엔지니어가 판단할 수 있어야 합니다.\n"
   ]
  },
  {
   "cell_type": "markdown",
   "metadata": {
    "id": "iORc6MEJugzQ"
   },
   "source": [
    "그러면 LLM as a Judge를 이용하여 이전에 생성한 합성 데이터 결과물을 평가해보겠습니다."
   ]
  },
  {
   "cell_type": "code",
   "execution_count": null,
   "metadata": {
    "colab": {
     "base_uri": "https://localhost:8080/"
    },
    "executionInfo": {
     "elapsed": 8573,
     "status": "ok",
     "timestamp": 1755782322160,
     "user": {
      "displayName": "Lucas",
      "userId": "16928510690595900982"
     },
     "user_tz": -540
    },
    "id": "i4rzlUmTugzQ",
    "outputId": "68a138a7-005e-4256-8c9e-92519663da3f"
   },
   "outputs": [
    {
     "data": {
      "text/plain": [
       "[{'id': 0,\n",
       "  'question_with_persona': [{'persona': 'Friendly Adult – Kind and polite tone, like an older sibling giving advice.',\n",
       "    'question_korean': '56세보다 연장자이신 부서장님들께서는 몇 분 정도 되시나요?',\n",
       "    'score': 8,\n",
       "    'reason': \"The Korean translation preserves the core meaning of asking about the number of department heads older than 56. However, the translation adds honorifics ('연장자이신', '님들', '되시나요') that change the tone to very formal/polite, which wasn't explicitly present in the original neutral English question. No factual information is distorted or omitted, but the elevated politeness level constitutes a tone/persona shift rather than just a neutral translation.\"},\n",
       "   {'persona': 'Elementary Student – Simple, cheerful, and naive tone, like a 10-year-old child.',\n",
       "    'question_korean': '56살보다 나이 많은 부서장들이 몇 명이에요?',\n",
       "    'score': 9,\n",
       "    'reason': \"The Korean translation accurately conveys the original meaning by asking about the number of department heads older than 56. The only minor difference is the slightly more colloquial tone ('이에요' vs. formal '입니까') and the word order change ('나이 많은' instead of 'older than' as a direct adjective), but no factual information is altered or omitted. The score is slightly below 10 due to this minor stylistic adjustment.\"},\n",
       "   {'persona': 'Formal Business – Polite, professional tone suitable for documents or work emails.',\n",
       "    'question_korean': '56세 이상인 부서장 수는 몇 명입니까?',\n",
       "    'score': 10,\n",
       "    'reason': 'The Korean translation accurately preserves the original English meaning by maintaining the question about the number of department heads older than 56. The tone is appropriately formal while conveying the exact same factual content without any additions, omissions, or distortions. The numerical value (56) and the core query are perfectly preserved.'},\n",
       "   {'persona': 'Casual Friend – Relaxed, informal tone, as if chatting with a close friend.',\n",
       "    'question_korean': '부서장들 중 56살 넘은 사람 몇 명이나 되지?',\n",
       "    'score': 9,\n",
       "    'reason': \"The Korean translation accurately conveys the original English meaning (asking for the count of department heads older than 56). The only minor difference is the colloquial tone in Korean (e.g., '넘은' instead of '이상인', '되지?' as a casual phrasing) which reflects a shift in tone/persona without altering factual content. No key information is added, removed, or distorted.\"},\n",
       "   {'persona': 'Elderly Person – Gentle, old-fashioned, and wise tone, like a kind grandparent.',\n",
       "    'question_korean': '56세보다 연세가 많으신 부서장님들은 몇 분이나 되시나요?',\n",
       "    'score': 9,\n",
       "    'reason': \"The Korean translation accurately conveys the original meaning (asking about the number of department heads older than 56) while politely adjusting the tone with respectful language ('연세가 많으신', '분들', '되시나요'). The only minor deduction is because 'heads of the departments' becomes slightly more specific as '부서장님들' (literally 'department leaders') but this remains contextually equivalent in most organizational structures. No factual information was altered or omitted.\"}]},\n",
       " {'id': 0,\n",
       "  'question_with_persona': [{'persona': 'Friendly Adult – Kind and polite tone, like an older sibling giving advice.',\n",
       "    'question_korean': '56세보다 연장자이신 부서장님들께서는 몇 분 정도 되시나요?',\n",
       "    'score': 8,\n",
       "    'reason': \"The Korean translation preserves the core meaning of asking about the number of department heads older than 56. However, the translation adds honorifics ('연장자이신', '님들', '되시나요') that change the tone to very formal/polite, which wasn't explicitly present in the original neutral English question. No factual information is distorted or omitted, but the elevated politeness level constitutes a tone/persona shift rather than just a neutral translation.\"},\n",
       "   {'persona': 'Elementary Student – Simple, cheerful, and naive tone, like a 10-year-old child.',\n",
       "    'question_korean': '56살보다 나이 많은 부서장들이 몇 명이에요?',\n",
       "    'score': 9,\n",
       "    'reason': \"The Korean translation accurately conveys the original meaning by asking about the number of department heads older than 56. The only minor difference is the slightly more colloquial tone ('이에요' vs. formal '입니까') and the word order change ('나이 많은' instead of 'older than' as a direct adjective), but no factual information is altered or omitted. The score is slightly below 10 due to this minor stylistic adjustment.\"},\n",
       "   {'persona': 'Formal Business – Polite, professional tone suitable for documents or work emails.',\n",
       "    'question_korean': '56세 이상인 부서장 수는 몇 명입니까?',\n",
       "    'score': 10,\n",
       "    'reason': 'The Korean translation accurately preserves the original English meaning by maintaining the question about the number of department heads older than 56. The tone is appropriately formal while conveying the exact same factual content without any additions, omissions, or distortions. The numerical value (56) and the core query are perfectly preserved.'},\n",
       "   {'persona': 'Casual Friend – Relaxed, informal tone, as if chatting with a close friend.',\n",
       "    'question_korean': '부서장들 중 56살 넘은 사람 몇 명이나 되지?',\n",
       "    'score': 9,\n",
       "    'reason': \"The Korean translation accurately conveys the original English meaning (asking for the count of department heads older than 56). The only minor difference is the colloquial tone in Korean (e.g., '넘은' instead of '이상인', '되지?' as a casual phrasing) which reflects a shift in tone/persona without altering factual content. No key information is added, removed, or distorted.\"},\n",
       "   {'persona': 'Elderly Person – Gentle, old-fashioned, and wise tone, like a kind grandparent.',\n",
       "    'question_korean': '56세보다 연세가 많으신 부서장님들은 몇 분이나 되시나요?',\n",
       "    'score': 9,\n",
       "    'reason': \"The Korean translation accurately conveys the original meaning (asking about the number of department heads older than 56) while politely adjusting the tone with respectful language ('연세가 많으신', '분들', '되시나요'). The only minor deduction is because 'heads of the departments' becomes slightly more specific as '부서장님들' (literally 'department leaders') but this remains contextually equivalent in most organizational structures. No factual information was altered or omitted.\"}]},\n",
       " {'id': 0,\n",
       "  'question_with_persona': [{'persona': 'Friendly Adult – Kind and polite tone, like an older sibling giving advice.',\n",
       "    'question_korean': '56세보다 연장자이신 부서장님들께서는 몇 분 정도 되시나요?',\n",
       "    'score': 8,\n",
       "    'reason': \"The Korean translation preserves the core meaning of asking about the number of department heads older than 56. However, the translation adds honorifics ('연장자이신', '님들', '되시나요') that change the tone to very formal/polite, which wasn't explicitly present in the original neutral English question. No factual information is distorted or omitted, but the elevated politeness level constitutes a tone/persona shift rather than just a neutral translation.\"},\n",
       "   {'persona': 'Elementary Student – Simple, cheerful, and naive tone, like a 10-year-old child.',\n",
       "    'question_korean': '56살보다 나이 많은 부서장들이 몇 명이에요?',\n",
       "    'score': 9,\n",
       "    'reason': \"The Korean translation accurately conveys the original meaning by asking about the number of department heads older than 56. The only minor difference is the slightly more colloquial tone ('이에요' vs. formal '입니까') and the word order change ('나이 많은' instead of 'older than' as a direct adjective), but no factual information is altered or omitted. The score is slightly below 10 due to this minor stylistic adjustment.\"},\n",
       "   {'persona': 'Formal Business – Polite, professional tone suitable for documents or work emails.',\n",
       "    'question_korean': '56세 이상인 부서장 수는 몇 명입니까?',\n",
       "    'score': 10,\n",
       "    'reason': 'The Korean translation accurately preserves the original English meaning by maintaining the question about the number of department heads older than 56. The tone is appropriately formal while conveying the exact same factual content without any additions, omissions, or distortions. The numerical value (56) and the core query are perfectly preserved.'},\n",
       "   {'persona': 'Casual Friend – Relaxed, informal tone, as if chatting with a close friend.',\n",
       "    'question_korean': '부서장들 중 56살 넘은 사람 몇 명이나 되지?',\n",
       "    'score': 9,\n",
       "    'reason': \"The Korean translation accurately conveys the original English meaning (asking for the count of department heads older than 56). The only minor difference is the colloquial tone in Korean (e.g., '넘은' instead of '이상인', '되지?' as a casual phrasing) which reflects a shift in tone/persona without altering factual content. No key information is added, removed, or distorted.\"},\n",
       "   {'persona': 'Elderly Person – Gentle, old-fashioned, and wise tone, like a kind grandparent.',\n",
       "    'question_korean': '56세보다 연세가 많으신 부서장님들은 몇 분이나 되시나요?',\n",
       "    'score': 9,\n",
       "    'reason': \"The Korean translation accurately conveys the original meaning (asking about the number of department heads older than 56) while politely adjusting the tone with respectful language ('연세가 많으신', '분들', '되시나요'). The only minor deduction is because 'heads of the departments' becomes slightly more specific as '부서장님들' (literally 'department leaders') but this remains contextually equivalent in most organizational structures. No factual information was altered or omitted.\"}]},\n",
       " {'id': 0,\n",
       "  'question_with_persona': [{'persona': 'Friendly Adult – Kind and polite tone, like an older sibling giving advice.',\n",
       "    'question_korean': '56세보다 연장자이신 부서장님들께서는 몇 분 정도 되시나요?',\n",
       "    'score': 8,\n",
       "    'reason': \"The Korean translation preserves the core meaning of asking about the number of department heads older than 56. However, the translation adds honorifics ('연장자이신', '님들', '되시나요') that change the tone to very formal/polite, which wasn't explicitly present in the original neutral English question. No factual information is distorted or omitted, but the elevated politeness level constitutes a tone/persona shift rather than just a neutral translation.\"},\n",
       "   {'persona': 'Elementary Student – Simple, cheerful, and naive tone, like a 10-year-old child.',\n",
       "    'question_korean': '56살보다 나이 많은 부서장들이 몇 명이에요?',\n",
       "    'score': 9,\n",
       "    'reason': \"The Korean translation accurately conveys the original meaning by asking about the number of department heads older than 56. The only minor difference is the slightly more colloquial tone ('이에요' vs. formal '입니까') and the word order change ('나이 많은' instead of 'older than' as a direct adjective), but no factual information is altered or omitted. The score is slightly below 10 due to this minor stylistic adjustment.\"},\n",
       "   {'persona': 'Formal Business – Polite, professional tone suitable for documents or work emails.',\n",
       "    'question_korean': '56세 이상인 부서장 수는 몇 명입니까?',\n",
       "    'score': 10,\n",
       "    'reason': 'The Korean translation accurately preserves the original English meaning by maintaining the question about the number of department heads older than 56. The tone is appropriately formal while conveying the exact same factual content without any additions, omissions, or distortions. The numerical value (56) and the core query are perfectly preserved.'},\n",
       "   {'persona': 'Casual Friend – Relaxed, informal tone, as if chatting with a close friend.',\n",
       "    'question_korean': '부서장들 중 56살 넘은 사람 몇 명이나 되지?',\n",
       "    'score': 9,\n",
       "    'reason': \"The Korean translation accurately conveys the original English meaning (asking for the count of department heads older than 56). The only minor difference is the colloquial tone in Korean (e.g., '넘은' instead of '이상인', '되지?' as a casual phrasing) which reflects a shift in tone/persona without altering factual content. No key information is added, removed, or distorted.\"},\n",
       "   {'persona': 'Elderly Person – Gentle, old-fashioned, and wise tone, like a kind grandparent.',\n",
       "    'question_korean': '56세보다 연세가 많으신 부서장님들은 몇 분이나 되시나요?',\n",
       "    'score': 9,\n",
       "    'reason': \"The Korean translation accurately conveys the original meaning (asking about the number of department heads older than 56) while politely adjusting the tone with respectful language ('연세가 많으신', '분들', '되시나요'). The only minor deduction is because 'heads of the departments' becomes slightly more specific as '부서장님들' (literally 'department leaders') but this remains contextually equivalent in most organizational structures. No factual information was altered or omitted.\"}]},\n",
       " {'id': 0,\n",
       "  'question_with_persona': [{'persona': 'Friendly Adult – Kind and polite tone, like an older sibling giving advice.',\n",
       "    'question_korean': '56세보다 연장자이신 부서장님들께서는 몇 분 정도 되시나요?',\n",
       "    'score': 8,\n",
       "    'reason': \"The Korean translation preserves the core meaning of asking about the number of department heads older than 56. However, the translation adds honorifics ('연장자이신', '님들', '되시나요') that change the tone to very formal/polite, which wasn't explicitly present in the original neutral English question. No factual information is distorted or omitted, but the elevated politeness level constitutes a tone/persona shift rather than just a neutral translation.\"},\n",
       "   {'persona': 'Elementary Student – Simple, cheerful, and naive tone, like a 10-year-old child.',\n",
       "    'question_korean': '56살보다 나이 많은 부서장들이 몇 명이에요?',\n",
       "    'score': 9,\n",
       "    'reason': \"The Korean translation accurately conveys the original meaning by asking about the number of department heads older than 56. The only minor difference is the slightly more colloquial tone ('이에요' vs. formal '입니까') and the word order change ('나이 많은' instead of 'older than' as a direct adjective), but no factual information is altered or omitted. The score is slightly below 10 due to this minor stylistic adjustment.\"},\n",
       "   {'persona': 'Formal Business – Polite, professional tone suitable for documents or work emails.',\n",
       "    'question_korean': '56세 이상인 부서장 수는 몇 명입니까?',\n",
       "    'score': 10,\n",
       "    'reason': 'The Korean translation accurately preserves the original English meaning by maintaining the question about the number of department heads older than 56. The tone is appropriately formal while conveying the exact same factual content without any additions, omissions, or distortions. The numerical value (56) and the core query are perfectly preserved.'},\n",
       "   {'persona': 'Casual Friend – Relaxed, informal tone, as if chatting with a close friend.',\n",
       "    'question_korean': '부서장들 중 56살 넘은 사람 몇 명이나 되지?',\n",
       "    'score': 9,\n",
       "    'reason': \"The Korean translation accurately conveys the original English meaning (asking for the count of department heads older than 56). The only minor difference is the colloquial tone in Korean (e.g., '넘은' instead of '이상인', '되지?' as a casual phrasing) which reflects a shift in tone/persona without altering factual content. No key information is added, removed, or distorted.\"},\n",
       "   {'persona': 'Elderly Person – Gentle, old-fashioned, and wise tone, like a kind grandparent.',\n",
       "    'question_korean': '56세보다 연세가 많으신 부서장님들은 몇 분이나 되시나요?',\n",
       "    'score': 9,\n",
       "    'reason': \"The Korean translation accurately conveys the original meaning (asking about the number of department heads older than 56) while politely adjusting the tone with respectful language ('연세가 많으신', '분들', '되시나요'). The only minor deduction is because 'heads of the departments' becomes slightly more specific as '부서장님들' (literally 'department leaders') but this remains contextually equivalent in most organizational structures. No factual information was altered or omitted.\"}]}]"
      ]
     },
     "execution_count": 11,
     "metadata": {},
     "output_type": "execute_result"
    }
   ],
   "source": [
    "# TODO: 원본 영어 텍스트의 의미를 훼손하지 않으면서 다양한 한국어 데이터를 얻었는지 판단하기 위한 SYSTEM PROMPT를 작성합니다.\n",
    "# JUDGE_SYSTEM_PROMPT= FIXME\n",
    "\n",
    "USER_PROMPT = \"\"\"- original sentence : {english}\n",
    "- translated sentence : {korean}\n",
    "\"\"\"\n",
    "\n",
    "# TODO: system prompt에서 output으로 설정할 response_format을 정의하세요. \"score\"와 \"reason\"이 키값으로 들어가야 합니다.\n",
    "# evaluate_response_format= FIXME\n",
    "\n",
    "system_message = {\n",
    "    \"role\": \"system\",\n",
    "    \"content\": JUDGE_SYSTEM_PROMPT\n",
    "}\n",
    "\n",
    "\n",
    "evaluated_questions_with_persona = []\n",
    "for row, translated_question_with_persona in zip(dataset_10, translated_questions_with_persona):\n",
    "\n",
    "    for idx, question_with_persona in enumerate(translated_question_with_persona[\"question_with_persona\"]):\n",
    "        user_message = {\n",
    "            \"role\": \"user\",\n",
    "            \"content\": USER_PROMPT.format(\n",
    "                english=row[\"question\"],\n",
    "                korean=question_with_persona[\"question_korean\"]\n",
    "            )\n",
    "        }\n",
    "\n",
    "        messages = [\n",
    "            system_message,\n",
    "            user_message\n",
    "        ]\n",
    "\n",
    "        response = client.chat.completions.create(\n",
    "            model=\"solar-pro2\",\n",
    "            messages=messages,\n",
    "            response_format=evaluate_response_format\n",
    "        )\n",
    "\n",
    "        output = response.choices[0].message.content\n",
    "        json_output = json.loads(output)\n",
    "        evaluated_question_with_persona = translated_question_with_persona.copy()\n",
    "        evaluated_question_with_persona[\"question_with_persona\"][idx][\"score\"] = json_output[\"score\"]\n",
    "        evaluated_question_with_persona[\"question_with_persona\"][idx][\"reason\"] = json_output[\"reason\"]\n",
    "        evaluated_questions_with_persona.append(evaluated_question_with_persona)\n",
    "    break\n",
    "evaluated_questions_with_persona"
   ]
  },
  {
   "cell_type": "markdown",
   "metadata": {
    "id": "pFZywliKugzS"
   },
   "source": [
    "평가한 데이터 중에서 몇점 이상의 데이터만 남기고 나머지는 필터링할지 정합니다."
   ]
  },
  {
   "cell_type": "code",
   "execution_count": null,
   "metadata": {
    "colab": {
     "base_uri": "https://localhost:8080/"
    },
    "executionInfo": {
     "elapsed": 23,
     "status": "ok",
     "timestamp": 1755782322186,
     "user": {
      "displayName": "Lucas",
      "userId": "16928510690595900982"
     },
     "user_tz": -540
    },
    "id": "rgQt-YGQugzT",
    "outputId": "b93b893f-7554-4155-dadd-f58695582b7e"
   },
   "outputs": [
    {
     "data": {
      "text/plain": [
       "[{'question': '56살보다 나이 많은 부서장들이 몇 명이에요?',\n",
       "  'context': 'CREATE TABLE head (age INTEGER)',\n",
       "  'answer': 'SELECT COUNT(*) FROM head WHERE age > 56'},\n",
       " {'question': '56세 이상인 부서장 수는 몇 명입니까?',\n",
       "  'context': 'CREATE TABLE head (age INTEGER)',\n",
       "  'answer': 'SELECT COUNT(*) FROM head WHERE age > 56'},\n",
       " {'question': '부서장들 중 56살 넘은 사람 몇 명이나 되지?',\n",
       "  'context': 'CREATE TABLE head (age INTEGER)',\n",
       "  'answer': 'SELECT COUNT(*) FROM head WHERE age > 56'},\n",
       " {'question': '56세보다 연세가 많으신 부서장님들은 몇 분이나 되시나요?',\n",
       "  'context': 'CREATE TABLE head (age INTEGER)',\n",
       "  'answer': 'SELECT COUNT(*) FROM head WHERE age > 56'}]"
      ]
     },
     "execution_count": 12,
     "metadata": {},
     "output_type": "execute_result"
    }
   ],
   "source": [
    "# TODO: 필터링할 스코어를 설정해주세요\n",
    "# filtering_score = FIXME\n",
    "\n",
    "synthetic_datasets = []\n",
    "for row, evaluated_question_with_persona in zip(dataset_10, evaluated_questions_with_persona):\n",
    "    for question_with_persona in evaluated_question_with_persona[\"question_with_persona\"]:\n",
    "        if question_with_persona[\"score\"] < filtering_score:\n",
    "            continue\n",
    "\n",
    "        synthetic_row = {\n",
    "            \"question\": question_with_persona[\"question_korean\"],\n",
    "            \"context\": row[\"context\"],\n",
    "            \"answer\": row[\"answer\"]\n",
    "        }\n",
    "        synthetic_datasets.append(synthetic_row)\n",
    "\n",
    "    break\n",
    "\n",
    "synthetic_datasets"
   ]
  },
  {
   "cell_type": "markdown",
   "metadata": {
    "id": "P-BG3-JAugzU"
   },
   "source": [
    "지금까지 데이터를 증강하기 위한 기본 환경 설정과 프롬프트 엔지니어링, LLM as a Judge 방식을 배워보았습니다.\n",
    "\n",
    "데이터를 증강하는 방식에 정답은 없습니다. 하지만, 가장 중요한 것은 real data와 가장 비슷하게 만들어내는 것입니다.\n",
    "\n",
    "real data와 비슷하게 만든다는 것은 근본적으로 내가 만들고자 하는 서비스(만들고자 하는 모델)이 무엇이냐에 따라서 달라집니다.\n",
    "\n",
    "따라서, 문제 정의(데이터의 목적)에 따라 다양하게 데이터를 증강하는 것을 시도해보시길 바랍니다."
   ]
  }
 ],
 "metadata": {
  "colab": {
   "provenance": []
  },
  "kernelspec": {
   "display_name": "c10",
   "language": "python",
   "name": "python3"
  },
  "language_info": {
   "codemirror_mode": {
    "name": "ipython",
    "version": 3
   },
   "file_extension": ".py",
   "mimetype": "text/x-python",
   "name": "python",
   "nbconvert_exporter": "python",
   "pygments_lexer": "ipython3",
   "version": "3.11.13"
  },
  "widgets": {
   "application/vnd.jupyter.widget-state+json": {
    "04209097626746b5b1ee359f0cc09782": {
     "model_module": "@jupyter-widgets/controls",
     "model_module_version": "1.5.0",
     "model_name": "HBoxModel",
     "state": {
      "_dom_classes": [],
      "_model_module": "@jupyter-widgets/controls",
      "_model_module_version": "1.5.0",
      "_model_name": "HBoxModel",
      "_view_count": null,
      "_view_module": "@jupyter-widgets/controls",
      "_view_module_version": "1.5.0",
      "_view_name": "HBoxView",
      "box_style": "",
      "children": [
       "IPY_MODEL_45f88010b15d4915a2f393616247866d",
       "IPY_MODEL_f16a7fc8ad524c9f92acab3fac9d13bd",
       "IPY_MODEL_3ee58e857bee44839576f468198bdd7f"
      ],
      "layout": "IPY_MODEL_7eb1a46e88804886bb1147a888bc3073"
     }
    },
    "133728583cc648369079b65ccd7d7476": {
     "model_module": "@jupyter-widgets/controls",
     "model_module_version": "1.5.0",
     "model_name": "DescriptionStyleModel",
     "state": {
      "_model_module": "@jupyter-widgets/controls",
      "_model_module_version": "1.5.0",
      "_model_name": "DescriptionStyleModel",
      "_view_count": null,
      "_view_module": "@jupyter-widgets/base",
      "_view_module_version": "1.2.0",
      "_view_name": "StyleView",
      "description_width": ""
     }
    },
    "2562ab0b7f984672951dd0662e67301c": {
     "model_module": "@jupyter-widgets/controls",
     "model_module_version": "1.5.0",
     "model_name": "FloatProgressModel",
     "state": {
      "_dom_classes": [],
      "_model_module": "@jupyter-widgets/controls",
      "_model_module_version": "1.5.0",
      "_model_name": "FloatProgressModel",
      "_view_count": null,
      "_view_module": "@jupyter-widgets/controls",
      "_view_module_version": "1.5.0",
      "_view_name": "ProgressView",
      "bar_style": "success",
      "description": "",
      "description_tooltip": null,
      "layout": "IPY_MODEL_dc9e593fe35741ada57154686036213d",
      "max": 78577,
      "min": 0,
      "orientation": "horizontal",
      "style": "IPY_MODEL_e334480b7c184f77b920c299fa773c6d",
      "value": 78577
     }
    },
    "295eb83e71c24745bcbe39923f73c50f": {
     "model_module": "@jupyter-widgets/base",
     "model_module_version": "1.2.0",
     "model_name": "LayoutModel",
     "state": {
      "_model_module": "@jupyter-widgets/base",
      "_model_module_version": "1.2.0",
      "_model_name": "LayoutModel",
      "_view_count": null,
      "_view_module": "@jupyter-widgets/base",
      "_view_module_version": "1.2.0",
      "_view_name": "LayoutView",
      "align_content": null,
      "align_items": null,
      "align_self": null,
      "border": null,
      "bottom": null,
      "display": null,
      "flex": null,
      "flex_flow": null,
      "grid_area": null,
      "grid_auto_columns": null,
      "grid_auto_flow": null,
      "grid_auto_rows": null,
      "grid_column": null,
      "grid_gap": null,
      "grid_row": null,
      "grid_template_areas": null,
      "grid_template_columns": null,
      "grid_template_rows": null,
      "height": null,
      "justify_content": null,
      "justify_items": null,
      "left": null,
      "margin": null,
      "max_height": null,
      "max_width": null,
      "min_height": null,
      "min_width": null,
      "object_fit": null,
      "object_position": null,
      "order": null,
      "overflow": null,
      "overflow_x": null,
      "overflow_y": null,
      "padding": null,
      "right": null,
      "top": null,
      "visibility": null,
      "width": null
     }
    },
    "29df36bc250f44a9bc196994951c3c56": {
     "model_module": "@jupyter-widgets/base",
     "model_module_version": "1.2.0",
     "model_name": "LayoutModel",
     "state": {
      "_model_module": "@jupyter-widgets/base",
      "_model_module_version": "1.2.0",
      "_model_name": "LayoutModel",
      "_view_count": null,
      "_view_module": "@jupyter-widgets/base",
      "_view_module_version": "1.2.0",
      "_view_name": "LayoutView",
      "align_content": null,
      "align_items": null,
      "align_self": null,
      "border": null,
      "bottom": null,
      "display": null,
      "flex": null,
      "flex_flow": null,
      "grid_area": null,
      "grid_auto_columns": null,
      "grid_auto_flow": null,
      "grid_auto_rows": null,
      "grid_column": null,
      "grid_gap": null,
      "grid_row": null,
      "grid_template_areas": null,
      "grid_template_columns": null,
      "grid_template_rows": null,
      "height": null,
      "justify_content": null,
      "justify_items": null,
      "left": null,
      "margin": null,
      "max_height": null,
      "max_width": null,
      "min_height": null,
      "min_width": null,
      "object_fit": null,
      "object_position": null,
      "order": null,
      "overflow": null,
      "overflow_x": null,
      "overflow_y": null,
      "padding": null,
      "right": null,
      "top": null,
      "visibility": null,
      "width": null
     }
    },
    "34654c30f74c4f4785971f4b52444f7d": {
     "model_module": "@jupyter-widgets/base",
     "model_module_version": "1.2.0",
     "model_name": "LayoutModel",
     "state": {
      "_model_module": "@jupyter-widgets/base",
      "_model_module_version": "1.2.0",
      "_model_name": "LayoutModel",
      "_view_count": null,
      "_view_module": "@jupyter-widgets/base",
      "_view_module_version": "1.2.0",
      "_view_name": "LayoutView",
      "align_content": null,
      "align_items": null,
      "align_self": null,
      "border": null,
      "bottom": null,
      "display": null,
      "flex": null,
      "flex_flow": null,
      "grid_area": null,
      "grid_auto_columns": null,
      "grid_auto_flow": null,
      "grid_auto_rows": null,
      "grid_column": null,
      "grid_gap": null,
      "grid_row": null,
      "grid_template_areas": null,
      "grid_template_columns": null,
      "grid_template_rows": null,
      "height": null,
      "justify_content": null,
      "justify_items": null,
      "left": null,
      "margin": null,
      "max_height": null,
      "max_width": null,
      "min_height": null,
      "min_width": null,
      "object_fit": null,
      "object_position": null,
      "order": null,
      "overflow": null,
      "overflow_x": null,
      "overflow_y": null,
      "padding": null,
      "right": null,
      "top": null,
      "visibility": null,
      "width": null
     }
    },
    "3602bf0900714373814cc41727069131": {
     "model_module": "@jupyter-widgets/base",
     "model_module_version": "1.2.0",
     "model_name": "LayoutModel",
     "state": {
      "_model_module": "@jupyter-widgets/base",
      "_model_module_version": "1.2.0",
      "_model_name": "LayoutModel",
      "_view_count": null,
      "_view_module": "@jupyter-widgets/base",
      "_view_module_version": "1.2.0",
      "_view_name": "LayoutView",
      "align_content": null,
      "align_items": null,
      "align_self": null,
      "border": null,
      "bottom": null,
      "display": null,
      "flex": null,
      "flex_flow": null,
      "grid_area": null,
      "grid_auto_columns": null,
      "grid_auto_flow": null,
      "grid_auto_rows": null,
      "grid_column": null,
      "grid_gap": null,
      "grid_row": null,
      "grid_template_areas": null,
      "grid_template_columns": null,
      "grid_template_rows": null,
      "height": null,
      "justify_content": null,
      "justify_items": null,
      "left": null,
      "margin": null,
      "max_height": null,
      "max_width": null,
      "min_height": null,
      "min_width": null,
      "object_fit": null,
      "object_position": null,
      "order": null,
      "overflow": null,
      "overflow_x": null,
      "overflow_y": null,
      "padding": null,
      "right": null,
      "top": null,
      "visibility": null,
      "width": null
     }
    },
    "3ee58e857bee44839576f468198bdd7f": {
     "model_module": "@jupyter-widgets/controls",
     "model_module_version": "1.5.0",
     "model_name": "HTMLModel",
     "state": {
      "_dom_classes": [],
      "_model_module": "@jupyter-widgets/controls",
      "_model_module_version": "1.5.0",
      "_model_name": "HTMLModel",
      "_view_count": null,
      "_view_module": "@jupyter-widgets/controls",
      "_view_module_version": "1.5.0",
      "_view_name": "HTMLView",
      "description": "",
      "description_tooltip": null,
      "layout": "IPY_MODEL_74dab935388e4ee692ee1a2e8b1e6835",
      "placeholder": "​",
      "style": "IPY_MODEL_9f60c537df884673bb1e09dca8426b5d",
      "value": " 4.43k/? [00:00&lt;00:00, 136kB/s]"
     }
    },
    "40433d59f3984f219f2fc416b72b1b11": {
     "model_module": "@jupyter-widgets/controls",
     "model_module_version": "1.5.0",
     "model_name": "HTMLModel",
     "state": {
      "_dom_classes": [],
      "_model_module": "@jupyter-widgets/controls",
      "_model_module_version": "1.5.0",
      "_model_name": "HTMLModel",
      "_view_count": null,
      "_view_module": "@jupyter-widgets/controls",
      "_view_module_version": "1.5.0",
      "_view_name": "HTMLView",
      "description": "",
      "description_tooltip": null,
      "layout": "IPY_MODEL_295eb83e71c24745bcbe39923f73c50f",
      "placeholder": "​",
      "style": "IPY_MODEL_7f58d1ee4683429ea04f246f15e2c480",
      "value": " 78577/78577 [00:00&lt;00:00, 168220.19 examples/s]"
     }
    },
    "45f88010b15d4915a2f393616247866d": {
     "model_module": "@jupyter-widgets/controls",
     "model_module_version": "1.5.0",
     "model_name": "HTMLModel",
     "state": {
      "_dom_classes": [],
      "_model_module": "@jupyter-widgets/controls",
      "_model_module_version": "1.5.0",
      "_model_name": "HTMLModel",
      "_view_count": null,
      "_view_module": "@jupyter-widgets/controls",
      "_view_module_version": "1.5.0",
      "_view_name": "HTMLView",
      "description": "",
      "description_tooltip": null,
      "layout": "IPY_MODEL_3602bf0900714373814cc41727069131",
      "placeholder": "​",
      "style": "IPY_MODEL_8975569a304e42369adab44614e15c7c",
      "value": "README.md: "
     }
    },
    "4613ff1b76ee4ee492c1560c52860616": {
     "model_module": "@jupyter-widgets/base",
     "model_module_version": "1.2.0",
     "model_name": "LayoutModel",
     "state": {
      "_model_module": "@jupyter-widgets/base",
      "_model_module_version": "1.2.0",
      "_model_name": "LayoutModel",
      "_view_count": null,
      "_view_module": "@jupyter-widgets/base",
      "_view_module_version": "1.2.0",
      "_view_name": "LayoutView",
      "align_content": null,
      "align_items": null,
      "align_self": null,
      "border": null,
      "bottom": null,
      "display": null,
      "flex": null,
      "flex_flow": null,
      "grid_area": null,
      "grid_auto_columns": null,
      "grid_auto_flow": null,
      "grid_auto_rows": null,
      "grid_column": null,
      "grid_gap": null,
      "grid_row": null,
      "grid_template_areas": null,
      "grid_template_columns": null,
      "grid_template_rows": null,
      "height": null,
      "justify_content": null,
      "justify_items": null,
      "left": null,
      "margin": null,
      "max_height": null,
      "max_width": null,
      "min_height": null,
      "min_width": null,
      "object_fit": null,
      "object_position": null,
      "order": null,
      "overflow": null,
      "overflow_x": null,
      "overflow_y": null,
      "padding": null,
      "right": null,
      "top": null,
      "visibility": null,
      "width": null
     }
    },
    "468da9dcfd8b4595b13c8f091f824972": {
     "model_module": "@jupyter-widgets/controls",
     "model_module_version": "1.5.0",
     "model_name": "DescriptionStyleModel",
     "state": {
      "_model_module": "@jupyter-widgets/controls",
      "_model_module_version": "1.5.0",
      "_model_name": "DescriptionStyleModel",
      "_view_count": null,
      "_view_module": "@jupyter-widgets/base",
      "_view_module_version": "1.2.0",
      "_view_name": "StyleView",
      "description_width": ""
     }
    },
    "4d4f794838904fa2bae978a868b8676f": {
     "model_module": "@jupyter-widgets/base",
     "model_module_version": "1.2.0",
     "model_name": "LayoutModel",
     "state": {
      "_model_module": "@jupyter-widgets/base",
      "_model_module_version": "1.2.0",
      "_model_name": "LayoutModel",
      "_view_count": null,
      "_view_module": "@jupyter-widgets/base",
      "_view_module_version": "1.2.0",
      "_view_name": "LayoutView",
      "align_content": null,
      "align_items": null,
      "align_self": null,
      "border": null,
      "bottom": null,
      "display": null,
      "flex": null,
      "flex_flow": null,
      "grid_area": null,
      "grid_auto_columns": null,
      "grid_auto_flow": null,
      "grid_auto_rows": null,
      "grid_column": null,
      "grid_gap": null,
      "grid_row": null,
      "grid_template_areas": null,
      "grid_template_columns": null,
      "grid_template_rows": null,
      "height": null,
      "justify_content": null,
      "justify_items": null,
      "left": null,
      "margin": null,
      "max_height": null,
      "max_width": null,
      "min_height": null,
      "min_width": null,
      "object_fit": null,
      "object_position": null,
      "order": null,
      "overflow": null,
      "overflow_x": null,
      "overflow_y": null,
      "padding": null,
      "right": null,
      "top": null,
      "visibility": null,
      "width": null
     }
    },
    "6706202d98a04dd8860ce1f4265605c6": {
     "model_module": "@jupyter-widgets/controls",
     "model_module_version": "1.5.0",
     "model_name": "HTMLModel",
     "state": {
      "_dom_classes": [],
      "_model_module": "@jupyter-widgets/controls",
      "_model_module_version": "1.5.0",
      "_model_name": "HTMLModel",
      "_view_count": null,
      "_view_module": "@jupyter-widgets/controls",
      "_view_module_version": "1.5.0",
      "_view_name": "HTMLView",
      "description": "",
      "description_tooltip": null,
      "layout": "IPY_MODEL_34654c30f74c4f4785971f4b52444f7d",
      "placeholder": "​",
      "style": "IPY_MODEL_133728583cc648369079b65ccd7d7476",
      "value": " 21.8M/21.8M [00:00&lt;00:00, 47.2MB/s]"
     }
    },
    "6781d8b0cc804cd0b02f40a54c7ab156": {
     "model_module": "@jupyter-widgets/controls",
     "model_module_version": "1.5.0",
     "model_name": "HBoxModel",
     "state": {
      "_dom_classes": [],
      "_model_module": "@jupyter-widgets/controls",
      "_model_module_version": "1.5.0",
      "_model_name": "HBoxModel",
      "_view_count": null,
      "_view_module": "@jupyter-widgets/controls",
      "_view_module_version": "1.5.0",
      "_view_name": "HBoxView",
      "box_style": "",
      "children": [
       "IPY_MODEL_b08503b630974a2d8a0ab0a460d3b811",
       "IPY_MODEL_2562ab0b7f984672951dd0662e67301c",
       "IPY_MODEL_40433d59f3984f219f2fc416b72b1b11"
      ],
      "layout": "IPY_MODEL_4d4f794838904fa2bae978a868b8676f"
     }
    },
    "6c65ec3749d0440ab8027e3f8fa0dd7d": {
     "model_module": "@jupyter-widgets/controls",
     "model_module_version": "1.5.0",
     "model_name": "DescriptionStyleModel",
     "state": {
      "_model_module": "@jupyter-widgets/controls",
      "_model_module_version": "1.5.0",
      "_model_name": "DescriptionStyleModel",
      "_view_count": null,
      "_view_module": "@jupyter-widgets/base",
      "_view_module_version": "1.2.0",
      "_view_name": "StyleView",
      "description_width": ""
     }
    },
    "6f611b1443a741eca63764611df30376": {
     "model_module": "@jupyter-widgets/base",
     "model_module_version": "1.2.0",
     "model_name": "LayoutModel",
     "state": {
      "_model_module": "@jupyter-widgets/base",
      "_model_module_version": "1.2.0",
      "_model_name": "LayoutModel",
      "_view_count": null,
      "_view_module": "@jupyter-widgets/base",
      "_view_module_version": "1.2.0",
      "_view_name": "LayoutView",
      "align_content": null,
      "align_items": null,
      "align_self": null,
      "border": null,
      "bottom": null,
      "display": null,
      "flex": null,
      "flex_flow": null,
      "grid_area": null,
      "grid_auto_columns": null,
      "grid_auto_flow": null,
      "grid_auto_rows": null,
      "grid_column": null,
      "grid_gap": null,
      "grid_row": null,
      "grid_template_areas": null,
      "grid_template_columns": null,
      "grid_template_rows": null,
      "height": null,
      "justify_content": null,
      "justify_items": null,
      "left": null,
      "margin": null,
      "max_height": null,
      "max_width": null,
      "min_height": null,
      "min_width": null,
      "object_fit": null,
      "object_position": null,
      "order": null,
      "overflow": null,
      "overflow_x": null,
      "overflow_y": null,
      "padding": null,
      "right": null,
      "top": null,
      "visibility": null,
      "width": null
     }
    },
    "74dab935388e4ee692ee1a2e8b1e6835": {
     "model_module": "@jupyter-widgets/base",
     "model_module_version": "1.2.0",
     "model_name": "LayoutModel",
     "state": {
      "_model_module": "@jupyter-widgets/base",
      "_model_module_version": "1.2.0",
      "_model_name": "LayoutModel",
      "_view_count": null,
      "_view_module": "@jupyter-widgets/base",
      "_view_module_version": "1.2.0",
      "_view_name": "LayoutView",
      "align_content": null,
      "align_items": null,
      "align_self": null,
      "border": null,
      "bottom": null,
      "display": null,
      "flex": null,
      "flex_flow": null,
      "grid_area": null,
      "grid_auto_columns": null,
      "grid_auto_flow": null,
      "grid_auto_rows": null,
      "grid_column": null,
      "grid_gap": null,
      "grid_row": null,
      "grid_template_areas": null,
      "grid_template_columns": null,
      "grid_template_rows": null,
      "height": null,
      "justify_content": null,
      "justify_items": null,
      "left": null,
      "margin": null,
      "max_height": null,
      "max_width": null,
      "min_height": null,
      "min_width": null,
      "object_fit": null,
      "object_position": null,
      "order": null,
      "overflow": null,
      "overflow_x": null,
      "overflow_y": null,
      "padding": null,
      "right": null,
      "top": null,
      "visibility": null,
      "width": null
     }
    },
    "7eb1a46e88804886bb1147a888bc3073": {
     "model_module": "@jupyter-widgets/base",
     "model_module_version": "1.2.0",
     "model_name": "LayoutModel",
     "state": {
      "_model_module": "@jupyter-widgets/base",
      "_model_module_version": "1.2.0",
      "_model_name": "LayoutModel",
      "_view_count": null,
      "_view_module": "@jupyter-widgets/base",
      "_view_module_version": "1.2.0",
      "_view_name": "LayoutView",
      "align_content": null,
      "align_items": null,
      "align_self": null,
      "border": null,
      "bottom": null,
      "display": null,
      "flex": null,
      "flex_flow": null,
      "grid_area": null,
      "grid_auto_columns": null,
      "grid_auto_flow": null,
      "grid_auto_rows": null,
      "grid_column": null,
      "grid_gap": null,
      "grid_row": null,
      "grid_template_areas": null,
      "grid_template_columns": null,
      "grid_template_rows": null,
      "height": null,
      "justify_content": null,
      "justify_items": null,
      "left": null,
      "margin": null,
      "max_height": null,
      "max_width": null,
      "min_height": null,
      "min_width": null,
      "object_fit": null,
      "object_position": null,
      "order": null,
      "overflow": null,
      "overflow_x": null,
      "overflow_y": null,
      "padding": null,
      "right": null,
      "top": null,
      "visibility": null,
      "width": null
     }
    },
    "7f58d1ee4683429ea04f246f15e2c480": {
     "model_module": "@jupyter-widgets/controls",
     "model_module_version": "1.5.0",
     "model_name": "DescriptionStyleModel",
     "state": {
      "_model_module": "@jupyter-widgets/controls",
      "_model_module_version": "1.5.0",
      "_model_name": "DescriptionStyleModel",
      "_view_count": null,
      "_view_module": "@jupyter-widgets/base",
      "_view_module_version": "1.2.0",
      "_view_name": "StyleView",
      "description_width": ""
     }
    },
    "8975569a304e42369adab44614e15c7c": {
     "model_module": "@jupyter-widgets/controls",
     "model_module_version": "1.5.0",
     "model_name": "DescriptionStyleModel",
     "state": {
      "_model_module": "@jupyter-widgets/controls",
      "_model_module_version": "1.5.0",
      "_model_name": "DescriptionStyleModel",
      "_view_count": null,
      "_view_module": "@jupyter-widgets/base",
      "_view_module_version": "1.2.0",
      "_view_name": "StyleView",
      "description_width": ""
     }
    },
    "8d27ebf41d9644d4bc226c271cfeec63": {
     "model_module": "@jupyter-widgets/controls",
     "model_module_version": "1.5.0",
     "model_name": "HBoxModel",
     "state": {
      "_dom_classes": [],
      "_model_module": "@jupyter-widgets/controls",
      "_model_module_version": "1.5.0",
      "_model_name": "HBoxModel",
      "_view_count": null,
      "_view_module": "@jupyter-widgets/controls",
      "_view_module_version": "1.5.0",
      "_view_name": "HBoxView",
      "box_style": "",
      "children": [
       "IPY_MODEL_da87a69470a64904aac0b53eff11a701",
       "IPY_MODEL_f9d3a737562d4b288d967e406c76ae8c",
       "IPY_MODEL_6706202d98a04dd8860ce1f4265605c6"
      ],
      "layout": "IPY_MODEL_4613ff1b76ee4ee492c1560c52860616"
     }
    },
    "9f60c537df884673bb1e09dca8426b5d": {
     "model_module": "@jupyter-widgets/controls",
     "model_module_version": "1.5.0",
     "model_name": "DescriptionStyleModel",
     "state": {
      "_model_module": "@jupyter-widgets/controls",
      "_model_module_version": "1.5.0",
      "_model_name": "DescriptionStyleModel",
      "_view_count": null,
      "_view_module": "@jupyter-widgets/base",
      "_view_module_version": "1.2.0",
      "_view_name": "StyleView",
      "description_width": ""
     }
    },
    "aa790fa145004d4199bd4cc95fbbcf74": {
     "model_module": "@jupyter-widgets/controls",
     "model_module_version": "1.5.0",
     "model_name": "ProgressStyleModel",
     "state": {
      "_model_module": "@jupyter-widgets/controls",
      "_model_module_version": "1.5.0",
      "_model_name": "ProgressStyleModel",
      "_view_count": null,
      "_view_module": "@jupyter-widgets/base",
      "_view_module_version": "1.2.0",
      "_view_name": "StyleView",
      "bar_color": null,
      "description_width": ""
     }
    },
    "b08503b630974a2d8a0ab0a460d3b811": {
     "model_module": "@jupyter-widgets/controls",
     "model_module_version": "1.5.0",
     "model_name": "HTMLModel",
     "state": {
      "_dom_classes": [],
      "_model_module": "@jupyter-widgets/controls",
      "_model_module_version": "1.5.0",
      "_model_name": "HTMLModel",
      "_view_count": null,
      "_view_module": "@jupyter-widgets/controls",
      "_view_module_version": "1.5.0",
      "_view_name": "HTMLView",
      "description": "",
      "description_tooltip": null,
      "layout": "IPY_MODEL_cc265fbbda36449a8716be0091017cff",
      "placeholder": "​",
      "style": "IPY_MODEL_6c65ec3749d0440ab8027e3f8fa0dd7d",
      "value": "Generating train split: 100%"
     }
    },
    "bcf19f3e628342ff80269a2e1126df1f": {
     "model_module": "@jupyter-widgets/base",
     "model_module_version": "1.2.0",
     "model_name": "LayoutModel",
     "state": {
      "_model_module": "@jupyter-widgets/base",
      "_model_module_version": "1.2.0",
      "_model_name": "LayoutModel",
      "_view_count": null,
      "_view_module": "@jupyter-widgets/base",
      "_view_module_version": "1.2.0",
      "_view_name": "LayoutView",
      "align_content": null,
      "align_items": null,
      "align_self": null,
      "border": null,
      "bottom": null,
      "display": null,
      "flex": null,
      "flex_flow": null,
      "grid_area": null,
      "grid_auto_columns": null,
      "grid_auto_flow": null,
      "grid_auto_rows": null,
      "grid_column": null,
      "grid_gap": null,
      "grid_row": null,
      "grid_template_areas": null,
      "grid_template_columns": null,
      "grid_template_rows": null,
      "height": null,
      "justify_content": null,
      "justify_items": null,
      "left": null,
      "margin": null,
      "max_height": null,
      "max_width": null,
      "min_height": null,
      "min_width": null,
      "object_fit": null,
      "object_position": null,
      "order": null,
      "overflow": null,
      "overflow_x": null,
      "overflow_y": null,
      "padding": null,
      "right": null,
      "top": null,
      "visibility": null,
      "width": "20px"
     }
    },
    "cc265fbbda36449a8716be0091017cff": {
     "model_module": "@jupyter-widgets/base",
     "model_module_version": "1.2.0",
     "model_name": "LayoutModel",
     "state": {
      "_model_module": "@jupyter-widgets/base",
      "_model_module_version": "1.2.0",
      "_model_name": "LayoutModel",
      "_view_count": null,
      "_view_module": "@jupyter-widgets/base",
      "_view_module_version": "1.2.0",
      "_view_name": "LayoutView",
      "align_content": null,
      "align_items": null,
      "align_self": null,
      "border": null,
      "bottom": null,
      "display": null,
      "flex": null,
      "flex_flow": null,
      "grid_area": null,
      "grid_auto_columns": null,
      "grid_auto_flow": null,
      "grid_auto_rows": null,
      "grid_column": null,
      "grid_gap": null,
      "grid_row": null,
      "grid_template_areas": null,
      "grid_template_columns": null,
      "grid_template_rows": null,
      "height": null,
      "justify_content": null,
      "justify_items": null,
      "left": null,
      "margin": null,
      "max_height": null,
      "max_width": null,
      "min_height": null,
      "min_width": null,
      "object_fit": null,
      "object_position": null,
      "order": null,
      "overflow": null,
      "overflow_x": null,
      "overflow_y": null,
      "padding": null,
      "right": null,
      "top": null,
      "visibility": null,
      "width": null
     }
    },
    "da87a69470a64904aac0b53eff11a701": {
     "model_module": "@jupyter-widgets/controls",
     "model_module_version": "1.5.0",
     "model_name": "HTMLModel",
     "state": {
      "_dom_classes": [],
      "_model_module": "@jupyter-widgets/controls",
      "_model_module_version": "1.5.0",
      "_model_name": "HTMLModel",
      "_view_count": null,
      "_view_module": "@jupyter-widgets/controls",
      "_view_module_version": "1.5.0",
      "_view_name": "HTMLView",
      "description": "",
      "description_tooltip": null,
      "layout": "IPY_MODEL_29df36bc250f44a9bc196994951c3c56",
      "placeholder": "​",
      "style": "IPY_MODEL_468da9dcfd8b4595b13c8f091f824972",
      "value": "sql_create_context_v4.json: 100%"
     }
    },
    "db9d1e6898cd491c9d80ffd0b15b5a1b": {
     "model_module": "@jupyter-widgets/controls",
     "model_module_version": "1.5.0",
     "model_name": "ProgressStyleModel",
     "state": {
      "_model_module": "@jupyter-widgets/controls",
      "_model_module_version": "1.5.0",
      "_model_name": "ProgressStyleModel",
      "_view_count": null,
      "_view_module": "@jupyter-widgets/base",
      "_view_module_version": "1.2.0",
      "_view_name": "StyleView",
      "bar_color": null,
      "description_width": ""
     }
    },
    "dc9e593fe35741ada57154686036213d": {
     "model_module": "@jupyter-widgets/base",
     "model_module_version": "1.2.0",
     "model_name": "LayoutModel",
     "state": {
      "_model_module": "@jupyter-widgets/base",
      "_model_module_version": "1.2.0",
      "_model_name": "LayoutModel",
      "_view_count": null,
      "_view_module": "@jupyter-widgets/base",
      "_view_module_version": "1.2.0",
      "_view_name": "LayoutView",
      "align_content": null,
      "align_items": null,
      "align_self": null,
      "border": null,
      "bottom": null,
      "display": null,
      "flex": null,
      "flex_flow": null,
      "grid_area": null,
      "grid_auto_columns": null,
      "grid_auto_flow": null,
      "grid_auto_rows": null,
      "grid_column": null,
      "grid_gap": null,
      "grid_row": null,
      "grid_template_areas": null,
      "grid_template_columns": null,
      "grid_template_rows": null,
      "height": null,
      "justify_content": null,
      "justify_items": null,
      "left": null,
      "margin": null,
      "max_height": null,
      "max_width": null,
      "min_height": null,
      "min_width": null,
      "object_fit": null,
      "object_position": null,
      "order": null,
      "overflow": null,
      "overflow_x": null,
      "overflow_y": null,
      "padding": null,
      "right": null,
      "top": null,
      "visibility": null,
      "width": null
     }
    },
    "e334480b7c184f77b920c299fa773c6d": {
     "model_module": "@jupyter-widgets/controls",
     "model_module_version": "1.5.0",
     "model_name": "ProgressStyleModel",
     "state": {
      "_model_module": "@jupyter-widgets/controls",
      "_model_module_version": "1.5.0",
      "_model_name": "ProgressStyleModel",
      "_view_count": null,
      "_view_module": "@jupyter-widgets/base",
      "_view_module_version": "1.2.0",
      "_view_name": "StyleView",
      "bar_color": null,
      "description_width": ""
     }
    },
    "f16a7fc8ad524c9f92acab3fac9d13bd": {
     "model_module": "@jupyter-widgets/controls",
     "model_module_version": "1.5.0",
     "model_name": "FloatProgressModel",
     "state": {
      "_dom_classes": [],
      "_model_module": "@jupyter-widgets/controls",
      "_model_module_version": "1.5.0",
      "_model_name": "FloatProgressModel",
      "_view_count": null,
      "_view_module": "@jupyter-widgets/controls",
      "_view_module_version": "1.5.0",
      "_view_name": "ProgressView",
      "bar_style": "success",
      "description": "",
      "description_tooltip": null,
      "layout": "IPY_MODEL_bcf19f3e628342ff80269a2e1126df1f",
      "max": 1,
      "min": 0,
      "orientation": "horizontal",
      "style": "IPY_MODEL_aa790fa145004d4199bd4cc95fbbcf74",
      "value": 1
     }
    },
    "f9d3a737562d4b288d967e406c76ae8c": {
     "model_module": "@jupyter-widgets/controls",
     "model_module_version": "1.5.0",
     "model_name": "FloatProgressModel",
     "state": {
      "_dom_classes": [],
      "_model_module": "@jupyter-widgets/controls",
      "_model_module_version": "1.5.0",
      "_model_name": "FloatProgressModel",
      "_view_count": null,
      "_view_module": "@jupyter-widgets/controls",
      "_view_module_version": "1.5.0",
      "_view_name": "ProgressView",
      "bar_style": "success",
      "description": "",
      "description_tooltip": null,
      "layout": "IPY_MODEL_6f611b1443a741eca63764611df30376",
      "max": 21752418,
      "min": 0,
      "orientation": "horizontal",
      "style": "IPY_MODEL_db9d1e6898cd491c9d80ffd0b15b5a1b",
      "value": 21752418
     }
    }
   }
  }
 },
 "nbformat": 4,
 "nbformat_minor": 0
}
