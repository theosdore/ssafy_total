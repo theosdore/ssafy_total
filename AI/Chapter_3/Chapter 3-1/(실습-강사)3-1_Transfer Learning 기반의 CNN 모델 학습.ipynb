{
 "cells": [
  {
   "cell_type": "markdown",
   "metadata": {
    "id": "o9u2lnjI8fH6"
   },
   "source": [
    "### **Content License Agreement**\n",
    "\n",
    "<font color='red'><b>**WARNING**</b></font> : 본 자료는 삼성청년SW·AI아카데미의 컨텐츠 자산으로, 보안서약서에 의거하여 어떠한 사유로도 임의로 복사, 촬영, 녹음, 복제, 보관, 전송하거나 허가 받지 않은 저장매체를 이용한 보관, 제3자에게 누설, 공개 또는 사용하는 등의 무단 사용 및 불법 배포 시 법적 조치를 받을 수 있습니다."
   ]
  },
  {
   "cell_type": "markdown",
   "metadata": {
    "id": "Af5r70FJ9Fbr"
   },
   "source": [
    "# **Objectives**\n",
    "\n",
    "1. 실습 개요\n",
    "  - 사전 학습된 CNN 모델(ResNet-18)을 활용한 리니어 프로빙 (Linear Probing)\n",
    "  - 데이터 증강 (Augmentation) 및 미세 조정 (Fine-tuning) 을 통한 성능 향상\n",
    "  - HuggingFace ViT 모델을 통한 최신 트랜스포머 기반 추론 체험\n",
    "\n",
    "2. 실습 진행 목적 및 배경\n",
    "  - 전이 학습(Transfer Learning)의 개념과 효과적인 적용 방법 이해\n",
    "  - 사전 학습된 모델을 활용한 효율적인 학습 방식 체험\n",
    "  - CNN 기반 모델과 Transformer 기반 모델의 차이 및 활용법 비교\n",
    "  - PyTorch 및 HuggingFace 생태계를 활용한 실전 비전 모델 구축\n",
    "\n",
    "3. 실습 수행으로 얻어갈 수 있는 역량\n",
    "  - ResNet-18과 같은 CNN 모델 구조 및 전이 학습 활용법 숙지\n",
    "  - 모델의 일부 계층만 학습시키는 Linear Probing 전략 이해\n",
    "  - Data Augmentation, Learning Rate Scheduler 등 성능 개선 기법 적용 능력\n",
    "  - HuggingFace 모델 로딩 및 Inference Pipeline 활용법 실습\n",
    "\n",
    "4. 실습 핵심 내용\n",
    "  - 사전 학습된 ResNet-18 모델의 마지막 레이어만 학습 (Linear Probing)\n",
    "  - 전체 모델을 대상으로 Fine-tuning 수행 (with Augmentation & Scheduler)\n",
    "  - HuggingFace의 Vision Transformer(ViT) 모델로 CIFAR-10 이미지 추론\n",
    "  - 학습 결과의 정확도 비교 및 전이 학습의 효과 체험\n"
   ]
  },
  {
   "cell_type": "markdown",
   "metadata": {
    "id": "nK367VEh9E6u"
   },
   "source": [
    "# **Prerequisites**\n",
    "```bash\n",
    "torch:  2.6.0+cu124\n",
    "torchvision:  0.21.0+cu124\n",
    "transformers:  4.55.1\n",
    "datasets:  4.0.0\n",
    "\n",
    "# !pip install torch torchvision numpy datasets transformers\n",
    "```"
   ]
  },
  {
   "cell_type": "markdown",
   "metadata": {
    "id": "9zqZoW7JrMOk"
   },
   "source": [
    "\n",
    "# **Exercise Overview**\n",
    "\n",
    "\n",
    "\n",
    "\n",
    "\n",
    "이 Jupyter 노트북에서는 CIFAR-10 데이터셋을 활용하여 컴퓨터 비전 모델을 학습하고 평가하는 방법을 단계별로 배워봅니다. 특히 전이 학습 (Transfer Learning) 을 통해 빠르게 모델을 새로운 데이터에 적응시키는 방법을 배웁니다.\n",
    "\n",
    "### **들어가며: 전이학습 (Transfer Learning) 이란?**\n",
    "전이학습(Transfer Learning)은 이미 학습된 모델의 가중치를 새로운 문제에 활용하는 방법입니다.\n",
    "\n",
    "이미지를 분류하는 CNN은 일반적으로 다음과 같은 구조를 가집니다:\n",
    "\n",
    "```\n",
    "[입력 이미지] → [특징 추출 (Convolution + Pooling)] → [분류 (FullyConnected Layers)] → [출력]\n",
    "```\n",
    "\n",
    "- CNN에서 합성곱 (Convolution)과 풀링 (Pooling)은 핵심 구성요소로, 이미지나 데이터의 특징(feature)을 점점 더 추상화하며 추출해 나가는 과정입니다.\n",
    "- 마지막 단계의 Fully Connected Layer (Dense Layer) 는 특징 추출 이후의 최종적인 결론을 내리는 역할을 합니다.\n",
    "\n",
    "\n",
    "이때에 CNN 이 학습하는 특징들은 매우 일반적인 특징 (엣지, 색상, 선, 질감, 단순한 패턴이나 모양) 등을 포함하고 있기 때문에 다양한 이미지에서 공통으로 유용합니다. 때문에 다른 데이터를 학습시킬 때, 해당 정보를 활용하여 모델을 더욱 빠르게 학습시킬 수 있습니다.  \n",
    "\n",
    "마지막 레이어의 경우는 태스크에 특화된 정보를 담고 있어서 재학습이 필요합니다.\n",
    "\n",
    "\n",
    "### **실습 목차**\n",
    "\n",
    "이 노트북은 세 가지 주요 파트로 구성되어 있습니다.\n",
    "\n",
    "1. ResNet-18 선형 프로빙(Linear Probing): 사전 학습된 ResNet-18 모델을 불러와 특성 추출 부분을 동결하고 마지막 분류 층만 학습시킵니다.\n",
    "2. 성능 향상 기법: 데이터 증강 기법을 추가하고, 모델의 모든 층을 미세 조정(fine-tuning)하며, 학습률 스케줄러를 도입해 성능을 향상시킵니다.\n",
    "3. HuggingFace를 사용한 Vision Transformer(ViT) 추론: HuggingFace 라이브러리를 통해 사전 학습된 ViT 모델을 불러와 CIFAR-10 이미지에 대한 분류 추론을 수행하고, 예측 결과를 시각화합니다."
   ]
  },
  {
   "cell_type": "markdown",
   "metadata": {
    "id": "M0tHgw9t5AkU"
   },
   "source": [
    "먼저 실습 전에 재현성을 위하여 PyTorch, NumPy, 그리고 Python 의 random 모듈에 대한 시드를 설정합니다."
   ]
  },
  {
   "cell_type": "code",
   "execution_count": 1,
   "metadata": {
    "id": "h7oD_ZKu41lQ"
   },
   "outputs": [],
   "source": [
    "# --- 라이브러리 임포트 ---\n",
    "import numpy as np\n",
    "import random\n",
    "import torch\n",
    "\n",
    "# --- 시드 고정 ---\n",
    "# PyTorch의 CPU 연산 시드 고정\n",
    "torch.manual_seed(42)\n",
    "# PyTorch의 GPU 연산 시드 고정\n",
    "torch.cuda.manual_seed(42)\n",
    "# NumPy의 난수 시드 고정\n",
    "np.random.seed(42)\n",
    "# Python 내장 random 모듈의 시드 고정\n",
    "random.seed(42)\n",
    "\n",
    "# CuDNN 관련 설정 (GPU 연산의 재현성을 위함)\n",
    "# 결정론적 알고리즘을 사용하도록 설정하여 실행 시마다 동일한 결과를 보장\n",
    "torch.backends.cudnn.deterministic = True\n",
    "# 내장된 벤치마크 기능을 비활성화하여 재현성 유지\n",
    "torch.backends.cudnn.benchmark = False"
   ]
  },
  {
   "cell_type": "markdown",
   "metadata": {
    "id": "piQVxOharpTN"
   },
   "source": [
    "## **1. ResNet-18을 이용한 선형 프로빙 (Linear Probing)**\n",
    "\n",
    "Linear Probing은 사전 학습된 모델의 대부분을 동결(freeze) 시키고 마지막 계층(분류기)만 학습하는 전이 학습 방법입니다. ImageNet 같이 거대한 데이터셋으로 사전 학습된 모델의 풍부한 특성 표현을 활용하고, CIFAR-10에 맞도록 출력 계층만 새로 학습시킵니다. 이렇게 하면 복잡한 모델의 많은 파라미터를 재학습할 필요 없이도 새로운 작업에 적응할 수 있으며, 훈련 시간도 단축됩니다.\n",
    "\n",
    "이 섹션에서는 PyTorch의 `torchvision.models`에서 ResNet-18 사전 학습 모델을 불러온 뒤, 마지막 출력 층을 CIFAR-10의 10개 클래스에 맞게 교체하겠습니다. 그런 다음 마지막 층을 제외한 모든 층의 가중치를 동결하여 해당 층들은 학습 동안 업데이트되지 않도록 합니다. PyTorch에서는 `requires_grad = False` 설정을 통해 파라미터를 동결할 수 있으며, 이렇게 하면 역전파 시에 해당 파라미터들의 그래디언트가 계산되지 않습니다."
   ]
  },
  {
   "cell_type": "markdown",
   "metadata": {
    "id": "-S3rbZ9FsL2z"
   },
   "source": [
    "먼저 필요한 라이브러리들을 불러옵니다."
   ]
  },
  {
   "cell_type": "code",
   "execution_count": 2,
   "metadata": {
    "colab": {
     "base_uri": "https://localhost:8080/"
    },
    "executionInfo": {
     "elapsed": 4186,
     "status": "ok",
     "timestamp": 1754708804760,
     "user": {
      "displayName": "isu jeong",
      "userId": "03509833375949211012"
     },
     "user_tz": -540
    },
    "id": "LjcGgq0QldJL",
    "outputId": "8be8b222-2601-4d4f-c5d5-d6b9f4ae6aaf"
   },
   "outputs": [
    {
     "name": "stdout",
     "output_type": "stream",
     "text": [
      "사용 중인 장치: cuda\n"
     ]
    }
   ],
   "source": [
    "# --- 필수 라이브러리 임포트 ---\n",
    "import torch\n",
    "import torch.nn as nn                       # 신경망 모델을 구성하기 위한 모듈 (레이어, 손실 함수 등)\n",
    "import torch.optim as optim                 # 모델을 최적화하기 위한 알고리즘 (SGD, Adam 등)\n",
    "import torchvision                          # 컴퓨터 비전 관련 유명 데이터셋, 모델, 변환 기능을 제공\n",
    "import torchvision.transforms as transforms # 이미지 데이터를 전처리(변환)하기 위한 기능\n",
    "from tqdm import tqdm\n",
    "\n",
    "# --- 장치 설정 ---\n",
    "# torch.cuda.is_available() 함수는 GPU 사용이 가능한지 확인\n",
    "# 가능하면 'cuda' (GPU)를, 불가능하면 'cpu'를 device 변수에 할당\n",
    "device = torch.device(\"cuda\" if torch.cuda.is_available() else \"cpu\")\n",
    "print(\"사용 중인 장치:\", device)"
   ]
  },
  {
   "cell_type": "markdown",
   "metadata": {
    "id": "n80N9S4mtyRH"
   },
   "source": [
    "다음으로 학습을 위한 데이터를 준비합니다.\n",
    "\n",
    "TorchVision을 이용해 CIFAR-10 데이터셋을 불러오고, 필요한 전처리를 적용합니다.\n",
    "1. CIFAR-10 데이터를 ResNet-18 의 입력에 맞게 224x224 으로 변환해주어야 합니다.\n",
    "2. 데이터에는 정규화를 적용합니다.\n",
    "정규화에는 CIFAR-10 데이터셋의 픽셀 평균과 표준편차 값을 사용하며, 이는 모델이 입력을 보다 안정적으로 받아들이게 도와줍니다.\n",
    "\n",
    "\n"
   ]
  },
  {
   "cell_type": "code",
   "execution_count": 3,
   "metadata": {
    "colab": {
     "base_uri": "https://localhost:8080/"
    },
    "executionInfo": {
     "elapsed": 2984,
     "status": "ok",
     "timestamp": 1754708807744,
     "user": {
      "displayName": "isu jeong",
      "userId": "03509833375949211012"
     },
     "user_tz": -540
    },
    "id": "7pCOJMDIuZ4S",
    "outputId": "a34e4e90-ffe5-44fd-9180-a71388efd29a"
   },
   "outputs": [
    {
     "name": "stderr",
     "output_type": "stream",
     "text": [
      "100%|██████████| 170M/170M [00:11<00:00, 15.1MB/s] \n"
     ]
    },
    {
     "name": "stdout",
     "output_type": "stream",
     "text": [
      "(50000, 32, 32, 3) (10000, 32, 32, 3)\n"
     ]
    }
   ],
   "source": [
    "# CIFAR-10 데이터셋 로드 (train 50,000장, test 10,000장)\n",
    "# --- CIFAR-10 데이터셋 로드 ---\n",
    "# root: 데이터가 저장될 경로\n",
    "# train=True: 훈련용 데이터셋을 불러옴\n",
    "# download=True: 해당 경로에 데이터가 없으면 다운로드\n",
    "# transform: 데이터 변환기 적용 -> 데이터를 먼저 확인하기 위해 False 으로 설정\n",
    "trainset = torchvision.datasets.CIFAR10(root='./data', train=True, download=True, transform=False)\n",
    "testset  = torchvision.datasets.CIFAR10(root='./data', train=False, download=True, transform=False)\n",
    "\n",
    "print(trainset.data.shape, testset.data.shape)"
   ]
  },
  {
   "cell_type": "code",
   "execution_count": 4,
   "metadata": {
    "colab": {
     "base_uri": "https://localhost:8080/"
    },
    "executionInfo": {
     "elapsed": 4283,
     "status": "ok",
     "timestamp": 1754708812032,
     "user": {
      "displayName": "isu jeong",
      "userId": "03509833375949211012"
     },
     "user_tz": -540
    },
    "id": "vMDfZJwiurUe",
    "outputId": "c17db950-fbaa-445d-c8b5-67a4df36ab15"
   },
   "outputs": [
    {
     "name": "stdout",
     "output_type": "stream",
     "text": [
      "CIFAR-10 학습 데이터의 픽셀별 평균: tensor([0.4914, 0.4822, 0.4465])\n",
      "CIFAR-10 학습 데이터의 픽셀별 표준편차: tensor([0.2470, 0.2435, 0.2616])\n"
     ]
    }
   ],
   "source": [
    "# CIFAR_10 데이터셋의 평균과 표준편차 계산\n",
    "data_tensor = torch.from_numpy(trainset.data)\n",
    "\n",
    "# 평균 계산 (배치, 높이, 너비 차원에 대해)\n",
    "mean = torch.mean(data_tensor.float() / 255.0, dim=(0, 1, 2))\n",
    "\n",
    "# 표준편차 계산 (배치, 높이, 너비 차원에 대해)\n",
    "std = torch.std(data_tensor.float() / 255.0, dim=(0, 1, 2))\n",
    "\n",
    "print(\"CIFAR-10 학습 데이터의 픽셀별 평균:\", mean)\n",
    "print(\"CIFAR-10 학습 데이터의 픽셀별 표준편차:\", std)"
   ]
  },
  {
   "cell_type": "code",
   "execution_count": null,
   "metadata": {
    "colab": {
     "base_uri": "https://localhost:8080/"
    },
    "executionInfo": {
     "elapsed": 2211,
     "status": "ok",
     "timestamp": 1754708814258,
     "user": {
      "displayName": "isu jeong",
      "userId": "03509833375949211012"
     },
     "user_tz": -540
    },
    "id": "fK_9HrJXuFa4",
    "outputId": "794216ef-26e9-4a08-9821-63d600c09e91"
   },
   "outputs": [
    {
     "name": "stdout",
     "output_type": "stream",
     "text": [
      "훈련 배치 개수: 782 테스트 배치 개수: 157\n"
     ]
    }
   ],
   "source": [
    "# --- 데이터 변환기(Transformer) 정의 ---\n",
    "# 이미지에 적용할 전처리 단계를 Compose를 사용해 묶어줍니다.\n",
    "\n",
    "# 학습 데이터: 224로 리사이즈 후 텐서화 및 정규화\n",
    "train_transform = transforms.Compose([\n",
    "    transforms.Resize((224, 224)),      # ResNet18 입력 크기인 224x224로 크기 변경\n",
    "    transforms.ToTensor(),              # PyTorch 텐서로 변환\n",
    "\n",
    "    # 픽셀 값을 특정 평균(mean)과 표준편차(std)로 정규화\n",
    "    transforms.Normalize(mean,  # CIFAR-10 평균\n",
    "                         std)   # CIFAR-10 표준편차\n",
    "])\n",
    "\n",
    "# 문제 1: 데이터 전처리 과정을 위한 변환기(Transformer)를 정의하세요.\n",
    "# 테스트 데이터: 리사이즈 후 텐서화 및 정규화 (학습과 동일하게)\n",
    "test_transform = transforms.Compose([\n",
    "    # [START CODE]\n",
    "    transforms.Resize((224, 224)),\n",
    "    transforms.ToTensor(),\n",
    "    transforms.Normalize(mean, std)\n",
    "    # [END CODE]\n",
    "])\n",
    "\n",
    "# 위에서 정의한 변환기를 사용하여 CIFAR-10 데이터셋 로드 (train 50,000장, test 10,000장)\n",
    "# root: 데이터가 저장될 경로\n",
    "# train=True: 훈련용 데이터셋을 불러옴\n",
    "# download=True: 해당 경로에 데이터가 없으면 다운로드\n",
    "# transform: 위에서 정의한 데이터 변환기 적용\n",
    "trainset = torchvision.datasets.CIFAR10(root='./data', train=True, download=True, transform=train_transform)\n",
    "testset  = torchvision.datasets.CIFAR10(root='./data', train=False, download=True, transform=test_transform)\n",
    "\n",
    "# --- DataLoader 생성 ---\n",
    "# DataLoader는 데이터를 미니배치(mini-batch) 단위로 묶어주는 역할을 함\n",
    "# batch_size: 한 번에 모델에 입력할 데이터(이미지)의 개수\n",
    "# shuffle=True: 훈련 시 데이터를 무작위로 섞어 모델이 데이터 순서에 과적합되는 것을 방지\n",
    "trainloader = torch.utils.data.DataLoader(trainset, batch_size=256, shuffle=True)\n",
    "testloader  = torch.utils.data.DataLoader(testset, batch_size=256, shuffle=False)\n",
    "\n",
    "print(\"훈련 배치 개수:\", len(trainloader), \"테스트 배치 개수:\", len(testloader))\n"
   ]
  },
  {
   "cell_type": "markdown",
   "metadata": {
    "id": "SWvr986KsSbm"
   },
   "source": [
    "다음으로 TorchVision 으로 사전학습된 ResNet-18 모델을 불러오고 , CIFAR-10에 맞도록 수정하겠습니다. 기본 ResNet-18 모델은 ImageNet의 1000개 클래스로 훈련되었으므로 마지막 출력 뉴런 수가 1000입니다. 이\n",
    "를 CIFAR-10의 10개 클래스로 바꾸기 위해 최종 Fully Connected Layer 을 새로운 레이어로 교체합니다.\n",
    "\n",
    "새로 추가된 Fully Connected Layer 을 제외한 나머지 모델의 가중치는 동결시켜, 업데이트가 되지 않도록 합니다.\n"
   ]
  },
  {
   "cell_type": "code",
   "execution_count": 6,
   "metadata": {
    "colab": {
     "base_uri": "https://localhost:8080/"
    },
    "executionInfo": {
     "elapsed": 591,
     "status": "ok",
     "timestamp": 1754708814848,
     "user": {
      "displayName": "isu jeong",
      "userId": "03509833375949211012"
     },
     "user_tz": -540
    },
    "id": "gz_tu9RlrEZ6",
    "outputId": "25f42eea-2d2c-4786-8ea1-0aa3a95579ef"
   },
   "outputs": [
    {
     "name": "stderr",
     "output_type": "stream",
     "text": [
      "/workspace/upstage/venv/lib/python3.10/site-packages/torchvision/models/_utils.py:208: UserWarning: The parameter 'pretrained' is deprecated since 0.13 and may be removed in the future, please use 'weights' instead.\n",
      "  warnings.warn(\n",
      "/workspace/upstage/venv/lib/python3.10/site-packages/torchvision/models/_utils.py:223: UserWarning: Arguments other than a weight enum or `None` for 'weights' are deprecated since 0.13 and may be removed in the future. The current behavior is equivalent to passing `weights=ResNet18_Weights.IMAGENET1K_V1`. You can also use `weights=ResNet18_Weights.DEFAULT` to get the most up-to-date weights.\n",
      "  warnings.warn(msg)\n",
      "Downloading: \"https://download.pytorch.org/models/resnet18-f37072fd.pth\" to /root/.cache/torch/hub/checkpoints/resnet18-f37072fd.pth\n",
      "100%|██████████| 44.7M/44.7M [00:01<00:00, 35.7MB/s]\n"
     ]
    }
   ],
   "source": [
    "# ImageNet 데이터로 사전 학습된 ResNet-18 모델을 불러옴\n",
    "# pretrained=True 옵션은 학습된 가중치(weights)를 함께 가져오라는 의미\n",
    "model = torchvision.models.resnet18(pretrained=True)"
   ]
  },
  {
   "cell_type": "code",
   "execution_count": 7,
   "metadata": {
    "colab": {
     "base_uri": "https://localhost:8080/"
    },
    "executionInfo": {
     "elapsed": 49,
     "status": "ok",
     "timestamp": 1754708814848,
     "user": {
      "displayName": "isu jeong",
      "userId": "03509833375949211012"
     },
     "user_tz": -540
    },
    "id": "4rSoBnKGs1Jt",
    "outputId": "7b003bf5-2a95-4152-9a42-7b0a4766370f"
   },
   "outputs": [
    {
     "data": {
      "text/plain": [
       "ResNet(\n",
       "  (conv1): Conv2d(3, 64, kernel_size=(7, 7), stride=(2, 2), padding=(3, 3), bias=False)\n",
       "  (bn1): BatchNorm2d(64, eps=1e-05, momentum=0.1, affine=True, track_running_stats=True)\n",
       "  (relu): ReLU(inplace=True)\n",
       "  (maxpool): MaxPool2d(kernel_size=3, stride=2, padding=1, dilation=1, ceil_mode=False)\n",
       "  (layer1): Sequential(\n",
       "    (0): BasicBlock(\n",
       "      (conv1): Conv2d(64, 64, kernel_size=(3, 3), stride=(1, 1), padding=(1, 1), bias=False)\n",
       "      (bn1): BatchNorm2d(64, eps=1e-05, momentum=0.1, affine=True, track_running_stats=True)\n",
       "      (relu): ReLU(inplace=True)\n",
       "      (conv2): Conv2d(64, 64, kernel_size=(3, 3), stride=(1, 1), padding=(1, 1), bias=False)\n",
       "      (bn2): BatchNorm2d(64, eps=1e-05, momentum=0.1, affine=True, track_running_stats=True)\n",
       "    )\n",
       "    (1): BasicBlock(\n",
       "      (conv1): Conv2d(64, 64, kernel_size=(3, 3), stride=(1, 1), padding=(1, 1), bias=False)\n",
       "      (bn1): BatchNorm2d(64, eps=1e-05, momentum=0.1, affine=True, track_running_stats=True)\n",
       "      (relu): ReLU(inplace=True)\n",
       "      (conv2): Conv2d(64, 64, kernel_size=(3, 3), stride=(1, 1), padding=(1, 1), bias=False)\n",
       "      (bn2): BatchNorm2d(64, eps=1e-05, momentum=0.1, affine=True, track_running_stats=True)\n",
       "    )\n",
       "  )\n",
       "  (layer2): Sequential(\n",
       "    (0): BasicBlock(\n",
       "      (conv1): Conv2d(64, 128, kernel_size=(3, 3), stride=(2, 2), padding=(1, 1), bias=False)\n",
       "      (bn1): BatchNorm2d(128, eps=1e-05, momentum=0.1, affine=True, track_running_stats=True)\n",
       "      (relu): ReLU(inplace=True)\n",
       "      (conv2): Conv2d(128, 128, kernel_size=(3, 3), stride=(1, 1), padding=(1, 1), bias=False)\n",
       "      (bn2): BatchNorm2d(128, eps=1e-05, momentum=0.1, affine=True, track_running_stats=True)\n",
       "      (downsample): Sequential(\n",
       "        (0): Conv2d(64, 128, kernel_size=(1, 1), stride=(2, 2), bias=False)\n",
       "        (1): BatchNorm2d(128, eps=1e-05, momentum=0.1, affine=True, track_running_stats=True)\n",
       "      )\n",
       "    )\n",
       "    (1): BasicBlock(\n",
       "      (conv1): Conv2d(128, 128, kernel_size=(3, 3), stride=(1, 1), padding=(1, 1), bias=False)\n",
       "      (bn1): BatchNorm2d(128, eps=1e-05, momentum=0.1, affine=True, track_running_stats=True)\n",
       "      (relu): ReLU(inplace=True)\n",
       "      (conv2): Conv2d(128, 128, kernel_size=(3, 3), stride=(1, 1), padding=(1, 1), bias=False)\n",
       "      (bn2): BatchNorm2d(128, eps=1e-05, momentum=0.1, affine=True, track_running_stats=True)\n",
       "    )\n",
       "  )\n",
       "  (layer3): Sequential(\n",
       "    (0): BasicBlock(\n",
       "      (conv1): Conv2d(128, 256, kernel_size=(3, 3), stride=(2, 2), padding=(1, 1), bias=False)\n",
       "      (bn1): BatchNorm2d(256, eps=1e-05, momentum=0.1, affine=True, track_running_stats=True)\n",
       "      (relu): ReLU(inplace=True)\n",
       "      (conv2): Conv2d(256, 256, kernel_size=(3, 3), stride=(1, 1), padding=(1, 1), bias=False)\n",
       "      (bn2): BatchNorm2d(256, eps=1e-05, momentum=0.1, affine=True, track_running_stats=True)\n",
       "      (downsample): Sequential(\n",
       "        (0): Conv2d(128, 256, kernel_size=(1, 1), stride=(2, 2), bias=False)\n",
       "        (1): BatchNorm2d(256, eps=1e-05, momentum=0.1, affine=True, track_running_stats=True)\n",
       "      )\n",
       "    )\n",
       "    (1): BasicBlock(\n",
       "      (conv1): Conv2d(256, 256, kernel_size=(3, 3), stride=(1, 1), padding=(1, 1), bias=False)\n",
       "      (bn1): BatchNorm2d(256, eps=1e-05, momentum=0.1, affine=True, track_running_stats=True)\n",
       "      (relu): ReLU(inplace=True)\n",
       "      (conv2): Conv2d(256, 256, kernel_size=(3, 3), stride=(1, 1), padding=(1, 1), bias=False)\n",
       "      (bn2): BatchNorm2d(256, eps=1e-05, momentum=0.1, affine=True, track_running_stats=True)\n",
       "    )\n",
       "  )\n",
       "  (layer4): Sequential(\n",
       "    (0): BasicBlock(\n",
       "      (conv1): Conv2d(256, 512, kernel_size=(3, 3), stride=(2, 2), padding=(1, 1), bias=False)\n",
       "      (bn1): BatchNorm2d(512, eps=1e-05, momentum=0.1, affine=True, track_running_stats=True)\n",
       "      (relu): ReLU(inplace=True)\n",
       "      (conv2): Conv2d(512, 512, kernel_size=(3, 3), stride=(1, 1), padding=(1, 1), bias=False)\n",
       "      (bn2): BatchNorm2d(512, eps=1e-05, momentum=0.1, affine=True, track_running_stats=True)\n",
       "      (downsample): Sequential(\n",
       "        (0): Conv2d(256, 512, kernel_size=(1, 1), stride=(2, 2), bias=False)\n",
       "        (1): BatchNorm2d(512, eps=1e-05, momentum=0.1, affine=True, track_running_stats=True)\n",
       "      )\n",
       "    )\n",
       "    (1): BasicBlock(\n",
       "      (conv1): Conv2d(512, 512, kernel_size=(3, 3), stride=(1, 1), padding=(1, 1), bias=False)\n",
       "      (bn1): BatchNorm2d(512, eps=1e-05, momentum=0.1, affine=True, track_running_stats=True)\n",
       "      (relu): ReLU(inplace=True)\n",
       "      (conv2): Conv2d(512, 512, kernel_size=(3, 3), stride=(1, 1), padding=(1, 1), bias=False)\n",
       "      (bn2): BatchNorm2d(512, eps=1e-05, momentum=0.1, affine=True, track_running_stats=True)\n",
       "    )\n",
       "  )\n",
       "  (avgpool): AdaptiveAvgPool2d(output_size=(1, 1))\n",
       "  (fc): Linear(in_features=512, out_features=1000, bias=True)\n",
       ")"
      ]
     },
     "execution_count": 7,
     "metadata": {},
     "output_type": "execute_result"
    }
   ],
   "source": [
    "# 모델 구조 출력. 마지막 레이어 (Fully Connected Layer) 의 이름이 fc 인 것을 확인\n",
    "model"
   ]
  },
  {
   "cell_type": "code",
   "execution_count": null,
   "metadata": {
    "id": "pOOf1AWys0SJ"
   },
   "outputs": [],
   "source": [
    "# --- 선형 프로빙(Linear Probing)을 위한 모델 수정 ---\n",
    "\n",
    "# 문제 2: 선형 프로빙을 위해 ResNet-18 모델의 마지막 층을 수정하세요.\n",
    "# 1. 마지막 분류층(Fully Connected Layer) 교체\n",
    "# 기존 ResNet-18의 마지막 층(model.fc)은 ImageNet의 1000개 클래스를 분류\n",
    "# 이를 CIFAR-10의 10개 클래스를 분류하도록 새로운 선형 레이어로 교체\n",
    "# model.fc.in_features는 기존 fc 레이어의 입력 뉴런 수를 그대로 사용\n",
    "# [START CODE]\n",
    "model.fc = nn.Linear(model.fc.in_features, 10)\n",
    "# [END CODE]\n",
    "\n",
    "\n",
    "# 문제 3: 선형 프로빙을 위해 ResNet-18 모델의 마지막 층을 업데이트가 되지 않도록 가중치를 동결하세요.\n",
    "# 2. 마지막 층을 제외한 모든 파라미터(가중치)를 동결(freeze)\n",
    "# == 최종 fc 레이어를 제외한 모든 파라미터를 동결\n",
    "# `param.requires_grad = False`로 설정하면 해당 파라미터는 학습 중에 업데이트되지 않음\n",
    "# [START CODE]\n",
    "for name, param in model.named_parameters():\n",
    "    if \"fc\" not in name:  # fc 층이 아닌 경우\n",
    "        param.requires_grad = False\n",
    "# [END CODE]\n",
    "\n",
    "# 장치를 GPU로 이동\n",
    "model = model.to(device)"
   ]
  },
  {
   "cell_type": "markdown",
   "metadata": {
    "id": "rKVaxojstOca"
   },
   "source": [
    "모델이 준비되었으면 모델의 마지막 레이어 (분류층) 만 학습시킵니다.\n",
    "\n",
    "모델 학습을 위해 손실함수, 옵티마이저, 학습률, 에포크 수 등을 설정합니다.\n",
    "1. 손실 함수 (criterion) 로는 다중 클래스 분류를 위한 크로스 엔트로피 오차(nn.CrossEntropyLoss)를 사용합니다.\n",
    "2. 옵티마이저 (optimizer) 로는 분류층 파라미터만 업데이트하도록 SGD(Stochastic Gradient Descent)를 사용합니다.\n",
    "3. 학습률(lr)은 예시로 0.001로 설정합니다.\n",
    "4. 에포크 수 (epochs) 는 5로 설정합니다."
   ]
  },
  {
   "cell_type": "code",
   "execution_count": null,
   "metadata": {
    "colab": {
     "base_uri": "https://localhost:8080/"
    },
    "executionInfo": {
     "elapsed": 816341,
     "status": "ok",
     "timestamp": 1754709631676,
     "user": {
      "displayName": "isu jeong",
      "userId": "03509833375949211012"
     },
     "user_tz": -540
    },
    "id": "itQO13ActDO8",
    "outputId": "ec5fd59a-38ba-4b67-8c70-6b8792d2483c"
   },
   "outputs": [
    {
     "name": "stdout",
     "output_type": "stream",
     "text": [
      "[Epoch 1/5] 평균 훈련 손실: 1.7896\n",
      "[Epoch 2/5] 평균 훈련 손실: 1.2125\n",
      "[Epoch 3/5] 평균 훈련 손실: 1.0108\n",
      "[Epoch 4/5] 평균 훈련 손실: 0.9079\n",
      "[Epoch 5/5] 평균 훈련 손실: 0.8464\n"
     ]
    }
   ],
   "source": [
    "# 문제 4: 손실 함수를 정의하세요\n",
    "# 손실 함수로 CrossEntropyLoss를 정의\n",
    "# [START CODE]\n",
    "criterion = nn.CrossEntropyLoss()\n",
    "# [END CODE]\n",
    "\n",
    "# 문제 5: 옵티마이저를 정의하세요\n",
    "# 옵티마이저로 SGD(Stochastic Gradient Descent)를 정의, 학습률은 0.001 으로 설정\n",
    "# 동결된 파라미터 제외, 마지막 레이어만 최적화\n",
    "# 즉, 마지막 레이어의 파라미터만 옵티마이저에 전달하여 마지막 레이어만 최적화되도록 설정\n",
    "# [START CODE]\n",
    "optimizer = optim.SGD(model.fc.parameters(), lr=0.001)\n",
    "# [END CODE]\n",
    "\n",
    "# 에포크(epoch) 수 설정. 에포크는 전체 훈련 데이터를 한 번 모두 사용하는 것을 의미\n",
    "num_epochs = 5\n",
    "\n",
    "# 문제 6: 모델 학습을 위한 반복문을 작성하세요\n",
    "for epoch in tqdm(range(num_epochs)):\n",
    "    model.train()       # 모델을 학습 모드로 설정\n",
    "    running_loss = 0.0  # 에포크 동안의 총 손실을 기록할 변수\n",
    "\n",
    "    # trainloader에서 미니배치 단위로 데이터를 가져와 반복\n",
    "    for inputs, labels in trainloader:\n",
    "\n",
    "        # 입력 데이터와 정답 레이블을 지정된 장치(GPU)로 이동\n",
    "        inputs, labels = inputs.to(device), labels.to(device)\n",
    "\n",
    "        # --- 핵심 학습 단계 ---\n",
    "        # [START CODE]\n",
    "\n",
    "        # 1. 옵티마이저의 그래디언트(gradient)를 0으로 초기화\n",
    "        # 이전 배치의 그래디언트가 다음 배치에 영향을 주지 않도록 함\n",
    "        optimizer.zero_grad()\n",
    "\n",
    "        # 2. 모델에 입력을 넣어 순전파(forward pass) 진행 및 출력(outputs) 계산\n",
    "        outputs = model(inputs)\n",
    "\n",
    "        # 3. 모델의 출력과 실제 정답을 비교하여 손실(loss) 계산\n",
    "        loss = criterion(outputs, labels)\n",
    "\n",
    "        # 4. 역전파(backward pass)를 통해 각 파라미터에 대한 그래디언트 계산\n",
    "        loss.backward()\n",
    "\n",
    "        # 5. 옵티마이저를 사용해 모델의 파라미터(가중치)를 업데이트\n",
    "        # requires_grad=True로 설정된 파라미터만 업데이트됨 (여기서는 fc 층만)\n",
    "        optimizer.step()\n",
    "\n",
    "        # [END CODE]\n",
    "\n",
    "        # 현재 배치의 손실을 running_loss에 더함\n",
    "        running_loss += loss.item()\n",
    "\n",
    "    # 전체 에포크가 끝난 후 평균 훈련 손실을 계산하고 출력\n",
    "    avg_loss = running_loss / len(trainloader)\n",
    "    print(f\"[Epoch {epoch+1}/{num_epochs}] 평균 훈련 손실: {avg_loss:.4f}\")\n"
   ]
  },
  {
   "cell_type": "markdown",
   "metadata": {
    "id": "Auk7_cQiwXK_"
   },
   "source": [
    "훈련이 완료된 모델을 평가 모드(eval)로 전환한 뒤, CIFAR-10 테스트 데이터 10,000장에 대한 정확도를 측정해보겠습니다.\n",
    "학습 시와 마찬가지로 입력을 device(GPU)에 올리고, torch.no_grad() 컨텍스트 내에서 출력을 예측하여 성능을 산출합니다.\n",
    "\n",
    "ImageNet 에 사전학습된 ResNet-18 을 사용했기 때문에, 마지막 레이어만 학습하더라도 CIFAR-10 데이터에 빠르게 적응한 것을 확인할 수 있습니다."
   ]
  },
  {
   "cell_type": "code",
   "execution_count": null,
   "metadata": {
    "colab": {
     "base_uri": "https://localhost:8080/"
    },
    "executionInfo": {
     "elapsed": 31439,
     "status": "ok",
     "timestamp": 1754709663111,
     "user": {
      "displayName": "isu jeong",
      "userId": "03509833375949211012"
     },
     "user_tz": -540
    },
    "id": "w9wcPEIyw0CG",
    "outputId": "1656bb32-a82f-4a4c-fa87-9b4c9a326784"
   },
   "outputs": [
    {
     "name": "stdout",
     "output_type": "stream",
     "text": [
      "테스트 데이터 정확도: 75.68%\n"
     ]
    }
   ],
   "source": [
    "# 모델을 평가 모드로 설정\n",
    "# 이 모드에서는 드롭아웃(Dropout)이나 배치 정규화(Batch Normalization) 등이 비활성화되어 일관된 예측 결과를 얻을 수 있음\n",
    "model.eval()\n",
    "\n",
    "correct = 0   # 맞춘 예측 개수\n",
    "total = 0     # 전체 데이터 개수\n",
    "\n",
    "# 그래디언트 계산을 비활성화하는 컨텍스트\n",
    "with torch.no_grad():\n",
    "\n",
    "    # testloader에서 미니배치 단위로 데이터를 가져와 반복\n",
    "    for inputs, labels in tqdm(testloader):\n",
    "\n",
    "        # 입력 데이터와 정답 레이블을 장치(GPU)로 이동\n",
    "        inputs, labels = inputs.to(device), labels.to(device)\n",
    "\n",
    "        # 모델에 입력을 넣어 출력 계산\n",
    "        outputs = model(inputs)\n",
    "\n",
    "        # 문제 7: 예측 및 정확도를 계산하세요\n",
    "        # [START CODE]\n",
    "        # --- 예측 및 정확도 계산 ---\n",
    "        # outputs.data는 모델의 최종 출력(logits)\n",
    "        # torch.max(..., 1)은 각 샘플에 대해 가장 높은 값과 그 인덱스를 반환\n",
    "        # `_`는 값(무시), `predicted`는 인덱스(예측된 클래스)\n",
    "        _, predicted = torch.max(outputs.data, 1)\n",
    "        # [END CODE]\n",
    "\n",
    "        total += labels.size(0) # 현재 배치의 데이터 개수를 total에 더함\n",
    "\n",
    "        # 예측이 정답과 일치하는 개수를 세어 correct에 더함\n",
    "        correct += (predicted == labels).sum().item()\n",
    "\n",
    "# 전체 정확도 계산 및 출력\n",
    "accuracy = 100 * correct / total\n",
    "print(f\"테스트 데이터 정확도: {accuracy:.2f}%\")"
   ]
  },
  {
   "cell_type": "markdown",
   "metadata": {
    "id": "CKf2m9BsxIUC"
   },
   "source": [
    "# **2. 데이터 증강 (Augmentation) 및 미세 조정 (Fine-Tuning), 학습률 스케줄러 (Learning Rate Scheduler) 로 성능 향상**\n",
    "\n",
    "두 번째 섹션에서는 첫 번째 단계의 결과를 바탕으로 성능을 향상시키기 위한 기법들을 적용합니다. 주요 전략은 다음과 같습니다:\n",
    "\n",
    "1. 데이터 증강(Data Augmentation): 학습 데이터에 무작위 변환을 적용하여 데이터 다양성을 높이고 과적합을 방지합니다 (예: 랜덤 자르기, 좌우 뒤집기 등)\n",
    "\n",
    "2. 모델 미세 조정(Fine-Tuning): 동결했던 합성곱 기반 층들을 모두 풀고(unfreeze) 전체 모델을 학습시켜 CIFAR-10 데이터에 더욱 잘 맞도록 최적화합니다.\n",
    "\n",
    "\n",
    "3. 학습률 스케줄러(Learning Rate Scheduler): 학습 진행에 따라 학습률을 조정하여 더 나은 수렴을 유도합니다 (예: 일정 epoch마다 학습률 감소 또는 코사인 스케줄 등)."
   ]
  },
  {
   "cell_type": "markdown",
   "metadata": {
    "id": "q4s8Yh8o3tUz"
   },
   "source": [
    "우선 CIFAR-10 학습 데이터에 무작위 좌우 뒤집기와 무작위 자르기 증강을 추가하겠습니다. 이는 입력 이미지에 다양한 형태의 왜곡을 주어 모델이 다양한 패턴에 대해 일반화할 수 있도록 돕습니다\n",
    "이 기법은 과적합(overfitting)을 줄이고 모델의 일반화 성능을 향상시키는 데 매우 유용합니다."
   ]
  },
  {
   "cell_type": "code",
   "execution_count": null,
   "metadata": {
    "colab": {
     "base_uri": "https://localhost:8080/"
    },
    "executionInfo": {
     "elapsed": 963,
     "status": "ok",
     "timestamp": 1754709664072,
     "user": {
      "displayName": "isu jeong",
      "userId": "03509833375949211012"
     },
     "user_tz": -540
    },
    "id": "LN1AIqVa3rq_",
    "outputId": "93d0f41f-fe51-48d8-eb3f-3f668ffaed1a"
   },
   "outputs": [],
   "source": [
    "# 문제 8: 데이터 증강을 적용한 변환기를 정의하세요\n",
    "# --- 데이터 증강이 포함된 변환기 정의 ---\n",
    "train_transform_aug = transforms.Compose([\n",
    "    # [START CODE]\n",
    "    # 32x32 이미지 주변에 4픽셀의 패딩(padding)을 추가한 뒤, 무작위로 32x32 영역을 잘라냄\n",
    "    transforms.RandomCrop(32, padding=4),\n",
    "    # 50% 확률로 이미지를 좌우로 뒤집음\n",
    "    transforms.RandomHorizontalFlip(p=0.5),\n",
    "    # [END CODE]\n",
    "    transforms.Resize((224, 224)), # 이미지 크기 조절\n",
    "    transforms.ToTensor(), # 텐서로 변환\n",
    "    transforms.Normalize(mean=mean, std=std) # 정규화\n",
    "])\n",
    "\n",
    "# 데이터 증강이 적용된 새로운 훈련 데이터셋 및 DataLoader 생성\n",
    "trainset_aug = torchvision.datasets.CIFAR10(root='./data', train=True, download=True, transform=train_transform_aug)\n",
    "trainloader_aug = torch.utils.data.DataLoader(trainset_aug, batch_size=256, shuffle=True)"
   ]
  },
  {
   "cell_type": "markdown",
   "metadata": {
    "id": "VOix29PM38_L"
   },
   "source": [
    "다음으로, 모델의 모든 층을 학습에 참여시키도록 동결을 해제합니다. 이미 model 객체는 이전 단계에서 분류층이 학습된 상태이므로 이를 이어서 사용하겠습니다.\n",
    "\n",
    "동결을 풀기 위해 모든 파라미터의 requires_grad를 다시 True로 설정합니다. 그리고 새로운 옵티마이저를 정의하는데, 이제는 모델의 모든 파라미터를 전달하고, 학습률은 조금 낮춰서 설정하겠습니다 (0.0005)."
   ]
  },
  {
   "cell_type": "code",
   "execution_count": null,
   "metadata": {
    "id": "WI_AXYg-3rnZ"
   },
   "outputs": [],
   "source": [
    "# 문제 9: 미세 조정을 위해 모델 파라미터 동결을 해제하세요\n",
    "# [START CODE]\n",
    "# --- 모델의 모든 파라미터 동결 해제 ---\n",
    "# requires_grad를 True로 설정하여 모든 파라미터가 학습 중에 업데이트되도록 함\n",
    "for param in model.parameters():\n",
    "    param.requires_grad = True\n",
    "# [END CODE]\n",
    "\n",
    "# --- 새로운 옵티마이저와 스케줄러 정의 ---\n",
    "# 이제 model.parameters()를 전달하여 모델의 모든 파라미터를 최적화 대상으로 함\n",
    "# 학습률(lr)은 기존보다 약간 낮게 설정하여 섬세하게 조정\n",
    "optimizer = optim.SGD(model.parameters(), lr=0.0005, momentum=0.9)"
   ]
  },
  {
   "cell_type": "markdown",
   "metadata": {
    "id": "aUkuZSLg4I9a"
   },
   "source": [
    "학습률 스케줄러로 StepLR을 사용하여 매 5 epoch마다 학습률을 0.1배로 감소시켜보겠습니다.\n",
    "이는 학습이 진행됨에 따라 더 미세한 조정을 할 수 있도록 학습률을 줄여 주어 더 좋은 최적화를 이루도록 돕습니다."
   ]
  },
  {
   "cell_type": "code",
   "execution_count": 13,
   "metadata": {
    "id": "NtkqRk7JxQRC"
   },
   "outputs": [],
   "source": [
    "# StepLR 스케줄러: 특정 단계(step_size)마다 학습률에 감마(gamma)를 곱해 감소시킴\n",
    "# step_size=5: 5 에포크마다\n",
    "# gamma=0.1: 학습률을 0.1배로 줄임\n",
    "scheduler = optim.lr_scheduler.StepLR(optimizer, step_size=5, gamma=0.1)"
   ]
  },
  {
   "cell_type": "markdown",
   "metadata": {
    "id": "RG9XNSOM4We9"
   },
   "source": [
    "이제 미세 조정 단계를 실행합니다. 프로세스는 앞서 분류층만 학습한 것과 유사하지만, 이번에는 옵티마이저에 모델의 모든 파라미터가 포함되어 있다는 점이 다릅니다. 또한 앞서 정의한 scheduler.step()을 매 epoch 끝에 호출하여 학습률을 조절합니다.\n"
   ]
  },
  {
   "cell_type": "code",
   "execution_count": 14,
   "metadata": {
    "colab": {
     "base_uri": "https://localhost:8080/",
     "height": 332
    },
    "executionInfo": {
     "elapsed": 1566765,
     "status": "error",
     "timestamp": 1754711230898,
     "user": {
      "displayName": "isu jeong",
      "userId": "03509833375949211012"
     },
     "user_tz": -540
    },
    "id": "JPgIyDQU4a51",
    "outputId": "93135eb9-9453-44fa-a625-f8c89cf6e09e"
   },
   "outputs": [
    {
     "name": "stdout",
     "output_type": "stream",
     "text": [
      "[Fine-tune Epoch 1/10] 평균 훈련 손실: 0.3995, 현재 학습률: 0.000500\n",
      "[Fine-tune Epoch 2/10] 평균 훈련 손실: 0.2340, 현재 학습률: 0.000500\n",
      "[Fine-tune Epoch 3/10] 평균 훈련 손실: 0.1904, 현재 학습률: 0.000500\n",
      "[Fine-tune Epoch 4/10] 평균 훈련 손실: 0.1642, 현재 학습률: 0.000500\n",
      "[Fine-tune Epoch 5/10] 평균 훈련 손실: 0.1405, 현재 학습률: 0.000500\n",
      "[Fine-tune Epoch 6/10] 평균 훈련 손실: 0.1218, 현재 학습률: 0.000050\n",
      "[Fine-tune Epoch 7/10] 평균 훈련 손실: 0.1182, 현재 학습률: 0.000050\n",
      "[Fine-tune Epoch 8/10] 평균 훈련 손실: 0.1158, 현재 학습률: 0.000050\n",
      "[Fine-tune Epoch 9/10] 평균 훈련 손실: 0.1116, 현재 학습률: 0.000050\n",
      "[Fine-tune Epoch 10/10] 평균 훈련 손실: 0.1120, 현재 학습률: 0.000050\n"
     ]
    }
   ],
   "source": [
    "num_epochs = 5\n",
    "for epoch in tqdm(range(num_epochs)):\n",
    "    model.train() # 훈련 모드\n",
    "    running_loss = 0.0\n",
    "\n",
    "    # 증강이 적용된 데이터로 훈련\n",
    "    for inputs, labels in trainloader_aug:\n",
    "        inputs, labels = inputs.to(device), labels.to(device)\n",
    "        optimizer.zero_grad()\n",
    "        outputs = model(inputs)\n",
    "        loss = criterion(outputs, labels)\n",
    "        loss.backward()\n",
    "        optimizer.step()\n",
    "        running_loss += loss.item()\n",
    "\n",
    "    # 에포크 결과 출력\n",
    "    avg_loss = running_loss / len(trainloader_aug)\n",
    "    print(f\"[Fine-tune Epoch {epoch+1}/{num_epochs}] 평균 훈련 손실: {avg_loss:.4f}, 현재 학습률: {optimizer.param_groups[0]['lr']:.6f}\")\n",
    "\n",
    "    # 문제 10: 학습률 스케줄러를 통해 학습률을 조정하세요\n",
    "    # [START CODE]\n",
    "    # --- 학습률 스케줄러 업데이트 ---\n",
    "    # 정의된 규칙에 따라 학습률을 조정\n",
    "    scheduler.step()\n",
    "    # [END CODE]"
   ]
  },
  {
   "cell_type": "markdown",
   "metadata": {
    "id": "PPuJGIGo4nSM"
   },
   "source": [
    "전체 모델을 미세 조정한 후, 다시 테스트 세트에 대한 정확도를 계산해보겠습니다. 1단계(선형 프로빙)와 동일한 절차로 진행합니다"
   ]
  },
  {
   "cell_type": "code",
   "execution_count": 15,
   "metadata": {
    "colab": {
     "base_uri": "https://localhost:8080/"
    },
    "executionInfo": {
     "elapsed": 53057,
     "status": "ok",
     "timestamp": 1754711289813,
     "user": {
      "displayName": "isu jeong",
      "userId": "03509833375949211012"
     },
     "user_tz": -540
    },
    "id": "5QsW6OHj4qrE",
    "outputId": "e2cf40a7-5751-4471-aed9-3c1bc0c51a9c"
   },
   "outputs": [
    {
     "name": "stdout",
     "output_type": "stream",
     "text": [
      "미세 조정 후 테스트 정확도: 95.05%\n"
     ]
    }
   ],
   "source": [
    "# --- 미세 조정 후 모델 평가 ---\n",
    "model.eval() # 평가 모드\n",
    "correct = 0\n",
    "total = 0\n",
    "with torch.no_grad():\n",
    "    for inputs, labels in testloader:\n",
    "        inputs, labels = inputs.to(device), labels.to(device)\n",
    "        outputs = model(inputs)\n",
    "        _, predicted = torch.max(outputs, 1)\n",
    "        total += labels.size(0)\n",
    "        correct += (predicted == labels).sum().item()\n",
    "\n",
    "fine_tune_acc = 100 * correct / total\n",
    "print(f\"미세 조정 후 테스트 정확도: {fine_tune_acc:.2f}%\")"
   ]
  },
  {
   "cell_type": "markdown",
   "metadata": {
    "id": "HuOL3k924uh2"
   },
   "source": [
    "이제 1단계에서의 정확도와 2단계 전체 미세 조정 후 정확도를 비교해보겠습니다."
   ]
  },
  {
   "cell_type": "markdown",
   "metadata": {
    "id": "kleYcCCqx74R"
   },
   "source": [
    "#  **3. HuggingFace Transformers를 활용한 ViT(Vision Transformer) 추론**\n",
    "\n",
    "\n",
    "마지막으로, 사전 학습된 Vision Transformer (ViT) 모델을 사용하여 CIFAR-10 이미지 분류를 수행해보겠습니다. ViT는 이미지 데이터를 Transformer 아키텍처로 처리하는 모델로, 입력 이미지를 패치(patch) 단위로 잘라서 마치 NLP의 토큰 시퀀스처럼 인식합니다.\n",
    "\n",
    "HuggingFace의 transformers와 datasets 라이브러리를 활용하여 손쉽게 사전 학습된 ViT 모델을 불러오고,\n",
    "CIFAR-10 이미지에 대한 분류를 진행해보겠습니다.\n",
    "\n",
    "HuggingFace 는 Pytorch 생태계의 핵심 라이브러리로, HuggingFace를 사용하면 사전 학습된 수많은 모델을 몇 줄의 코드로 쉽게 불러와 사용할 수 있습니다."
   ]
  },
  {
   "cell_type": "code",
   "execution_count": 16,
   "metadata": {
    "colab": {
     "base_uri": "https://localhost:8080/",
     "height": 432,
     "referenced_widgets": [
      "27e0a8fe49dc4e1b94080582897c5d16",
      "f22f3672d17948778439524ecd31cab9",
      "ad5b1ec5f918480c9c4aecf61bcff56d",
      "efa7c019b24b49559d2f0ab3ec2b1054",
      "fdb1ba393fd9480bb88a7ba3396a9e1f",
      "074b1f07edf543e4b8c48c752aac7bcc",
      "c753d7b346644d12936817ffcdb63068",
      "ade9abcaec814450a05b1d48f2d74edc",
      "a25bae261c674fda8d9571d97942b67e",
      "861da783572040c89385119084409fe9",
      "983d4cb57e184092a2e94aa3b64c2d33",
      "7c68812cc3034b50a5d864bd4f8943c9",
      "17030a194b14442d90c06e110368df46",
      "f22d8a11cd8840eebaa845faa967f850",
      "0298a32b86ef4b49902695c0b8b90c0b",
      "36e4729de12d4bce932217715e65fe3a",
      "a76798b3a63b4f9a83376f5cf6b5b099",
      "a68708c8400941fe8e4c8f67e3727a68",
      "d8f36c4c74a1414797be8e9951e20b59",
      "b820c851470f4828b55a22e5573b21a2",
      "e2dfe0c1bbaa45a3b7ac3710592a041c",
      "8d3bfe6675ec4f3097a9cf880dd0f0e8",
      "edf8265c79274db3bf5a06dd6031cd2b",
      "76fd50acc046442e8765f3ad0cb893a6",
      "044816899f6a48d2aa35b854682cc7b1",
      "8bd40fcb122c4a7187bb4fb50dc4bc46",
      "41db2e15925047feafa2f23b8b38076b",
      "4860ffa56a324edcb605bbfae516bc76",
      "bf2e0be2b79e4d6fb75a62758532290e",
      "f81f3aa76ea94547b3f2596d3164dbbf",
      "f089698042dd46b3a7bca397113d6ed2",
      "46c71ba7946343b6bf3bca2413c0eb38",
      "cff2a3e207454bd4862ccb78a7f6b607",
      "2b57b22c883947cbb319714efdde4aa5",
      "dc5c04f97ebf4b68b5ca9dced3a96e64",
      "db921021be254ebcace94d4377be29ea",
      "b25ca7d6dc8440c5b3bc62dd2e6ab336",
      "50bdff452ef2452c816655ec46e3bbc3",
      "6f74da4e8ea34314abce2880221227d1",
      "3b89a2debdfb4251b121fda1c7a10386",
      "1b954015682d4e9eaff9970943a883b2",
      "3d33ceb2441b47f5a0a3c48b89252169",
      "71f5a742a27c4230b71011ef1a4ecda6",
      "ab4a12a6fab5497f8e560ea0c9bacdb7",
      "d45e72711a1248afaaec8b86e8dc2676",
      "2f8e4a9583a94ec7bbb1ec37746d3767",
      "8f99a293436149899ff65c95704cc69a",
      "923aaf193669471ba88218461544746e",
      "90be909ea73b46f189e551fa5384e0d3",
      "18904422031e4bc88af443bb723b3a69",
      "80579dbab4e74f97a235b8294814d6ec",
      "12229fb1a6674f84bfcce6e329efcece",
      "a45272074ce147139b91545392cc1dd7",
      "c587ba95e285400d87d30bdc75fb0420",
      "f41780e2839841049de33e0d96c5547c"
     ]
    },
    "executionInfo": {
     "elapsed": 13785,
     "status": "ok",
     "timestamp": 1755004565895,
     "user": {
      "displayName": "isu jeong",
      "userId": "03509833375949211012"
     },
     "user_tz": -540
    },
    "id": "fbsk1Nw2x-Wk",
    "outputId": "94f67153-baec-479e-a103-0698c9338705"
   },
   "outputs": [
    {
     "name": "stderr",
     "output_type": "stream",
     "text": [
      "/workspace/upstage/venv/lib/python3.10/site-packages/tqdm/auto.py:21: TqdmWarning: IProgress not found. Please update jupyter and ipywidgets. See https://ipywidgets.readthedocs.io/en/stable/user_install.html\n",
      "  from .autonotebook import tqdm as notebook_tqdm\n",
      "Generating train split: 100%|██████████| 50000/50000 [00:00<00:00, 362208.05 examples/s]\n",
      "Generating test split: 100%|██████████| 10000/10000 [00:00<00:00, 387657.95 examples/s]"
     ]
    },
    {
     "name": "stdout",
     "output_type": "stream",
     "text": [
      "Dataset({\n",
      "    features: ['img', 'label'],\n",
      "    num_rows: 10000\n",
      "})\n"
     ]
    },
    {
     "name": "stderr",
     "output_type": "stream",
     "text": [
      "\n"
     ]
    }
   ],
   "source": [
    "from datasets import load_dataset\n",
    "\n",
    "# HuggingFace Hub에서 CIFAR-10 데이터셋을 불러옴\n",
    "# split='test'는 테스트 데이터셋만 가져오겠다는 의미\n",
    "dataset = load_dataset('cifar10', split='test')\n",
    "\n",
    "# 데이터셋 정보 출력\n",
    "print(dataset)"
   ]
  },
  {
   "cell_type": "markdown",
   "metadata": {
    "id": "y1Komu3FyvKV"
   },
   "source": [
    "이 데이터셋 객체의 각 항목은 `{'img': PIL.Image, 'label': 정수레이블}` 형태로 되어 있습니다. Label의 정수값과 실제 클래스 이름 매핑은 `dataset.features['label'].names`에 저장되어 있습니다."
   ]
  },
  {
   "cell_type": "code",
   "execution_count": 17,
   "metadata": {
    "colab": {
     "base_uri": "https://localhost:8080/"
    },
    "executionInfo": {
     "elapsed": 32,
     "status": "ok",
     "timestamp": 1755004565944,
     "user": {
      "displayName": "isu jeong",
      "userId": "03509833375949211012"
     },
     "user_tz": -540
    },
    "id": "FY18G2n3ypEt",
    "outputId": "498f403b-0db4-4dd0-d1d3-ef2ca864da14"
   },
   "outputs": [
    {
     "name": "stdout",
     "output_type": "stream",
     "text": [
      "레이블 목록: ['airplane', 'automobile', 'bird', 'cat', 'deer', 'dog', 'frog', 'horse', 'ship', 'truck']\n"
     ]
    }
   ],
   "source": [
    "# 레이블 인덱스와 실제 클래스 이름 매핑\n",
    "labels = dataset.features['label'].names\n",
    "print(\"레이블 목록:\", labels)"
   ]
  },
  {
   "cell_type": "markdown",
   "metadata": {
    "id": "W1z_3pJiy3Ri"
   },
   "source": [
    "다음으로, HuggingFace Hub에서 사전 학습된 ViT 모델을 불러오겠습니다. 다양한 ViT 모델 중, 여기서는 ImageNet-21k로 사전 학습되고 CIFAR-10에 미세 조정된 모델을 사용하겠습니다.\n",
    "\n",
    "HuggingFace에 공개된 `nateraw/vit-base-patch16-224-cifar10` 모델이 이에 해당합니다. 이 모델은 Google의 ViT-Base 모델을 CIFAR-10에 맞게 Fine-Tuning한 것으로, CIFAR-10의 10개 클래스를 예측할 수 있습니다.\n",
    "\n",
    "해당 모델과 함께 이미지 전처리를 위한 ViTFeatureExtractor도 불러옵니다.\n",
    "ViTFeatureExtractor는 ViT 모델이 기대하는 입력 형식에 맞게 이미지를 리사이즈(224x224)하고 정규화해주는 도구입니다.\n",
    "위 코드에서 불러온 feature_extractor는 내부적으로 해당 모델에 맞는 이미지 변환(예: 정규화 값 등)을 포함하고 있습니다.\n",
    "\n",
    "또한 ViTForImageClassification 도 로드합니다.\n",
    "ViTForImageClassification 클래스는 사전 학습된 ViT 모델에 분류를 위한 출력층이 포함된 객체를 반환합니다.\n",
    "nateraw/vit-base-patch16-224-cifar10 모델은 CIFAR-10용으로 미세 조정되어 있으므로 출력층이 이미 10개 뉴런으로 설정되어 있고, 각 뉴런은 CIFAR-10 클래스 중 하나에 대응됩니다."
   ]
  },
  {
   "cell_type": "code",
   "execution_count": 18,
   "metadata": {
    "colab": {
     "base_uri": "https://localhost:8080/"
    },
    "executionInfo": {
     "elapsed": 1454,
     "status": "ok",
     "timestamp": 1755004684346,
     "user": {
      "displayName": "isu jeong",
      "userId": "03509833375949211012"
     },
     "user_tz": -540
    },
    "id": "guSu1UQly17p",
    "outputId": "20cd1748-e41e-4275-c859-e002cc38b473"
   },
   "outputs": [
    {
     "name": "stderr",
     "output_type": "stream",
     "text": [
      "2025-08-20 18:34:29.068143: I tensorflow/core/util/port.cc:153] oneDNN custom operations are on. You may see slightly different numerical results due to floating-point round-off errors from different computation orders. To turn them off, set the environment variable `TF_ENABLE_ONEDNN_OPTS=0`.\n",
      "2025-08-20 18:34:29.185559: E external/local_xla/xla/stream_executor/cuda/cuda_fft.cc:467] Unable to register cuFFT factory: Attempting to register factory for plugin cuFFT when one has already been registered\n",
      "WARNING: All log messages before absl::InitializeLog() is called are written to STDERR\n",
      "E0000 00:00:1755682469.221001 1264616 cuda_dnn.cc:8579] Unable to register cuDNN factory: Attempting to register factory for plugin cuDNN when one has already been registered\n",
      "E0000 00:00:1755682469.231220 1264616 cuda_blas.cc:1407] Unable to register cuBLAS factory: Attempting to register factory for plugin cuBLAS when one has already been registered\n",
      "W0000 00:00:1755682469.330114 1264616 computation_placer.cc:177] computation placer already registered. Please check linkage and avoid linking the same target more than once.\n",
      "W0000 00:00:1755682469.330137 1264616 computation_placer.cc:177] computation placer already registered. Please check linkage and avoid linking the same target more than once.\n",
      "W0000 00:00:1755682469.330139 1264616 computation_placer.cc:177] computation placer already registered. Please check linkage and avoid linking the same target more than once.\n",
      "W0000 00:00:1755682469.330140 1264616 computation_placer.cc:177] computation placer already registered. Please check linkage and avoid linking the same target more than once.\n",
      "2025-08-20 18:34:29.341768: I tensorflow/core/platform/cpu_feature_guard.cc:210] This TensorFlow binary is optimized to use available CPU instructions in performance-critical operations.\n",
      "To enable the following instructions: AVX2 AVX512F AVX512_VNNI FMA, in other operations, rebuild TensorFlow with the appropriate compiler flags.\n",
      "/workspace/upstage/venv/lib/python3.10/site-packages/transformers/models/vit/feature_extraction_vit.py:30: FutureWarning: The class ViTFeatureExtractor is deprecated and will be removed in version 5 of Transformers. Please use ViTImageProcessor instead.\n",
      "  warnings.warn(\n"
     ]
    },
    {
     "data": {
      "text/plain": [
       "ViTForImageClassification(\n",
       "  (vit): ViTModel(\n",
       "    (embeddings): ViTEmbeddings(\n",
       "      (patch_embeddings): ViTPatchEmbeddings(\n",
       "        (projection): Conv2d(3, 768, kernel_size=(16, 16), stride=(16, 16))\n",
       "      )\n",
       "      (dropout): Dropout(p=0.0, inplace=False)\n",
       "    )\n",
       "    (encoder): ViTEncoder(\n",
       "      (layer): ModuleList(\n",
       "        (0-11): 12 x ViTLayer(\n",
       "          (attention): ViTAttention(\n",
       "            (attention): ViTSelfAttention(\n",
       "              (query): Linear(in_features=768, out_features=768, bias=True)\n",
       "              (key): Linear(in_features=768, out_features=768, bias=True)\n",
       "              (value): Linear(in_features=768, out_features=768, bias=True)\n",
       "            )\n",
       "            (output): ViTSelfOutput(\n",
       "              (dense): Linear(in_features=768, out_features=768, bias=True)\n",
       "              (dropout): Dropout(p=0.0, inplace=False)\n",
       "            )\n",
       "          )\n",
       "          (intermediate): ViTIntermediate(\n",
       "            (dense): Linear(in_features=768, out_features=3072, bias=True)\n",
       "            (intermediate_act_fn): GELUActivation()\n",
       "          )\n",
       "          (output): ViTOutput(\n",
       "            (dense): Linear(in_features=3072, out_features=768, bias=True)\n",
       "            (dropout): Dropout(p=0.0, inplace=False)\n",
       "          )\n",
       "          (layernorm_before): LayerNorm((768,), eps=1e-12, elementwise_affine=True)\n",
       "          (layernorm_after): LayerNorm((768,), eps=1e-12, elementwise_affine=True)\n",
       "        )\n",
       "      )\n",
       "    )\n",
       "    (layernorm): LayerNorm((768,), eps=1e-12, elementwise_affine=True)\n",
       "  )\n",
       "  (classifier): Linear(in_features=768, out_features=10, bias=True)\n",
       ")"
      ]
     },
     "execution_count": 18,
     "metadata": {},
     "output_type": "execute_result"
    }
   ],
   "source": [
    "from transformers import ViTFeatureExtractor, ViTForImageClassification\n",
    "\n",
    "# 사용할 모델의 이름 (HuggingFace Hub에 등록된 ID)\n",
    "model_name = \"nateraw/vit-base-patch16-224-cifar10\"\n",
    "\n",
    "# 문제 11: HuggingFace 모델 및 전처리기를 로드하세요\n",
    "# [START CODE]\n",
    "# --- HuggingFace 모델 및 전처리기 로드 ---\n",
    "# from_pretrained() 메서드를 사용하여 사전 학습된 모델과 전처리기를 쉽게 불러옴\n",
    "feature_extractor = ViTFeatureExtractor.from_pretrained(model_name)\n",
    "vit_model = ViTForImageClassification.from_pretrained(model_name)\n",
    "# [END CODE]\n",
    "\n",
    "# 모델을 GPU로 이동\n",
    "vit_model.to(device)"
   ]
  },
  {
   "cell_type": "markdown",
   "metadata": {
    "id": "oOnil29T5SSX"
   },
   "source": [
    "이제 준비된 ViT 모델을 사용하여 일부 이미지를 분류해보겠습니다. 우선 CIFAR-10 테스트 셋에서 몇 개 이미지를 가져오겠습니다. 예를 들어 테스트 셋의 처음 5개 이미지를 사용하겠습니다.\n"
   ]
  },
  {
   "cell_type": "code",
   "execution_count": 19,
   "metadata": {
    "colab": {
     "base_uri": "https://localhost:8080/"
    },
    "executionInfo": {
     "elapsed": 43,
     "status": "ok",
     "timestamp": 1755004687966,
     "user": {
      "displayName": "isu jeong",
      "userId": "03509833375949211012"
     },
     "user_tz": -540
    },
    "id": "Ewy0t0qyzEVN",
    "outputId": "699c524f-0f80-4e2c-fe1e-b6dcfadfd5f3"
   },
   "outputs": [
    {
     "name": "stdout",
     "output_type": "stream",
     "text": [
      "실제 인덱스: [3, 8, 8, 0, 6]\n",
      "실제 레이블: ['cat', 'ship', 'ship', 'airplane', 'frog']\n"
     ]
    }
   ],
   "source": [
    "# 데이터셋에서 처음 5개 샘플의 이미지와 실제 레이블 추출\n",
    "sample_images = [dataset[i]['img'] for i in range(5)]\n",
    "true_index = [dataset[i]['label'] for i in range(5)]\n",
    "true_labels = [labels[dataset[i]['label']] for i in range(5)]\n",
    "print(\"실제 인덱스:\", true_index)\n",
    "print(\"실제 레이블:\", true_labels)"
   ]
  },
  {
   "cell_type": "markdown",
   "metadata": {
    "id": "O8h2rj0M5WJu"
   },
   "source": [
    "각 img는 PIL 이미지 객체입니다. ViT 모델에 넣기 전에 feature extractor를 사용하여 이미지를 텐서로 변환하고 배치(batch) 형태로 만들어야 합니다."
   ]
  },
  {
   "cell_type": "code",
   "execution_count": 20,
   "metadata": {
    "colab": {
     "base_uri": "https://localhost:8080/"
    },
    "executionInfo": {
     "elapsed": 1226,
     "status": "ok",
     "timestamp": 1755004700443,
     "user": {
      "displayName": "isu jeong",
      "userId": "03509833375949211012"
     },
     "user_tz": -540
    },
    "id": "1V6HW15L5VAb",
    "outputId": "5e51abdd-2727-47b3-f884-df6224a63766"
   },
   "outputs": [
    {
     "name": "stdout",
     "output_type": "stream",
     "text": [
      "모델 예측 클래스 인덱스: [3 8 8 0 6]\n",
      "모델 예측 클래스 라벨: ['cat', 'ship', 'ship', 'airplane', 'frog']\n"
     ]
    }
   ],
   "source": [
    "# --- FeatureExtractor로 이미지 전처리 ---\n",
    "# PIL 이미지를 모델 입력에 맞는 텐서 형태로 변환\n",
    "inputs = feature_extractor(images=sample_images, return_tensors=\"pt\")\n",
    "# 전처리된 입력을 GPU로 이동\n",
    "inputs = {k: v.to(device) for k, v in inputs.items()}\n",
    "\n",
    "# --- 모델 추론 ---\n",
    "with torch.no_grad(): # 추론 시에는 그래디언트 계산이 필요 없음\n",
    "    # **inputs는 딕셔너리의 각 항목을 함수의 인자로 풀어 전달 (pixel_values=...)\n",
    "    outputs = vit_model(**inputs)\n",
    "\n",
    "# 모델의 출력(logits)에서 가장 높은 값의 인덱스를 예측 클래스로 선택\n",
    "# predicted_class_idxs는 0부터 9 사이의 정수로 이루어진 배열이며,\n",
    "# 각 숫자는 CIFAR-10 클래스 인덱스를 나타냅니다.\n",
    "# 이를 사람이 읽을 수 있는 실제 클래스 이름으로 변환하기 위해 앞서 얻은 labels 리스트를 활용합니다.\n",
    "predicted_class_idxs = outputs.logits.argmax(dim=1).cpu().numpy()\n",
    "# 예측된 인덱스를 실제 클래스 이름으로 변환\n",
    "predicted_labels = [labels[idx] for idx in predicted_class_idxs]\n",
    "\n",
    "print(\"모델 예측 클래스 인덱스:\", predicted_class_idxs)\n",
    "print(\"모델 예측 클래스 라벨:\", predicted_labels)\n"
   ]
  },
  {
   "cell_type": "markdown",
   "metadata": {
    "id": "UPTvM-lI5one"
   },
   "source": [
    "마지막으로, 예시 이미지들과 모델이 예측한 레이블을 함께 시각화해보겠습니다. Matplotlib를 사용하여 이미지를 출력하고, 제목에 모델의 예측 결과를 표시합니다.\n"
   ]
  },
  {
   "cell_type": "code",
   "execution_count": 21,
   "metadata": {
    "colab": {
     "base_uri": "https://localhost:8080/",
     "height": 165
    },
    "executionInfo": {
     "elapsed": 381,
     "status": "ok",
     "timestamp": 1755004780142,
     "user": {
      "displayName": "isu jeong",
      "userId": "03509833375949211012"
     },
     "user_tz": -540
    },
    "id": "_P4glEhO5nZU",
    "outputId": "c91a5e14-5309-4754-c667-c3698e8a267e"
   },
   "outputs": [
    {
     "data": {
      "image/png": "[encoded data removed]",
      "text/plain": [
       "<Figure size 1200x400 with 5 Axes>"
      ]
     },
     "metadata": {},
     "output_type": "display_data"
    }
   ],
   "source": [
    "import matplotlib.pyplot as plt\n",
    "\n",
    "# --- 결과 시각화 ---\n",
    "plt.figure(figsize=(12, 4))\n",
    "for i, img in enumerate(sample_images):\n",
    "    plt.subplot(1, 5, i+1)\n",
    "    plt.imshow(img)\n",
    "    # 이미지 제목에 예측 결과와 실제 정답 표시\n",
    "    plt.title(f\"Pred: {predicted_labels[i]}\\nTrue: {true_labels[i]}\")\n",
    "    plt.axis('off')\n",
    "plt.show()"
   ]
  },
  {
   "cell_type": "markdown",
   "metadata": {
    "id": "iY9zqMAA5zmC"
   },
   "source": [
    " HuggingFace의 pipeline을 사용하면 위 과정을 더 간단하게 처리할 수도 있습니다.\n",
    "\n",
    " 와 같이 하면 이미지마다 예측된 레이블과 신뢰도(score)를 쉽게 얻을 수 있습니다. pipeline은 내부적으로 feature extractor와 모델 예측 과정을 캡슐화하여 편의성을 제공합니다."
   ]
  },
  {
   "cell_type": "code",
   "execution_count": 22,
   "metadata": {
    "colab": {
     "base_uri": "https://localhost:8080/"
    },
    "executionInfo": {
     "elapsed": 2888,
     "status": "ok",
     "timestamp": 1755004825198,
     "user": {
      "displayName": "isu jeong",
      "userId": "03509833375949211012"
     },
     "user_tz": -540
    },
    "id": "Q_WKeAdE51ed",
    "outputId": "c759dbc0-72d0-4d9c-ab65-98c1e01895e1"
   },
   "outputs": [
    {
     "name": "stderr",
     "output_type": "stream",
     "text": [
      "Fast image processor class <class 'transformers.models.vit.image_processing_vit_fast.ViTImageProcessorFast'> is available for this model. Using slow image processor class. To use the fast image processor class set `use_fast=True`.\n",
      "Device set to use cuda\n"
     ]
    },
    {
     "name": "stdout",
     "output_type": "stream",
     "text": [
      "[[{'label': 'LABEL_3', 'score': 0.9927236437797546}, {'label': 'LABEL_5', 'score': 0.0012952452525496483}, {'label': 'LABEL_9', 'score': 0.0009297925280407071}, {'label': 'LABEL_0', 'score': 0.0008214304689317942}, {'label': 'LABEL_8', 'score': 0.0007351312669925392}], [{'label': 'LABEL_8', 'score': 0.9955234527587891}, {'label': 'LABEL_1', 'score': 0.0007332785753533244}, {'label': 'LABEL_0', 'score': 0.0005330530111677945}, {'label': 'LABEL_2', 'score': 0.0005047415033914149}, {'label': 'LABEL_4', 'score': 0.0005029547610320151}], [{'label': 'LABEL_8', 'score': 0.9930387139320374}, {'label': 'LABEL_1', 'score': 0.002421507379040122}, {'label': 'LABEL_4', 'score': 0.0006866457988508046}, {'label': 'LABEL_9', 'score': 0.0006693332688882947}, {'label': 'LABEL_3', 'score': 0.0006172182620503008}], [{'label': 'LABEL_0', 'score': 0.9931061863899231}, {'label': 'LABEL_2', 'score': 0.0019252653000876307}, {'label': 'LABEL_3', 'score': 0.0007438044995069504}, {'label': 'LABEL_7', 'score': 0.000739572977181524}, {'label': 'LABEL_5', 'score': 0.0007075177854858339}], [{'label': 'LABEL_6', 'score': 0.9954440593719482}, {'label': 'LABEL_1', 'score': 0.000596983649302274}, {'label': 'LABEL_0', 'score': 0.0005611437954939902}, {'label': 'LABEL_8', 'score': 0.000527004012838006}, {'label': 'LABEL_3', 'score': 0.0005095513770356774}]]\n"
     ]
    }
   ],
   "source": [
    "from transformers import pipeline\n",
    "# 이미지 분류 파이프라인 생성\n",
    "clf = pipeline(\"image-classification\",\n",
    "               model=model_name, device=device)\n",
    "\n",
    "# 문제 12: 파이프라인을 사용하여 예측을 수행하세요\n",
    "# 파이프라인으로 예측 수행\n",
    "# [START CODE]\n",
    "preds = clf(sample_images)\n",
    "# [END CODE]\n",
    "\n",
    "print(preds)"
   ]
  },
  {
   "cell_type": "code",
   "execution_count": 23,
   "metadata": {
    "colab": {
     "base_uri": "https://localhost:8080/"
    },
    "executionInfo": {
     "elapsed": 843,
     "status": "ok",
     "timestamp": 1754711471550,
     "user": {
      "displayName": "isu jeong",
      "userId": "03509833375949211012"
     },
     "user_tz": -540
    },
    "id": "EKJZ9Q6a83Tv",
    "outputId": "dc057b7a-5cdd-4b3c-9317-ed9501078665"
   },
   "outputs": [
    {
     "name": "stderr",
     "output_type": "stream",
     "text": [
      "Fast image processor class <class 'transformers.models.vit.image_processing_vit_fast.ViTImageProcessorFast'> is available for this model. Using slow image processor class. To use the fast image processor class set `use_fast=True`.\n",
      "Device set to use cuda:0\n"
     ]
    },
    {
     "name": "stdout",
     "output_type": "stream",
     "text": [
      "Pipeline 예측 결과:\n",
      "이미지 1:\n",
      "  - 레이블: cat, 신뢰도: 0.9927\n",
      "  - 레이블: dog, 신뢰도: 0.0013\n",
      "  - 레이블: truck, 신뢰도: 0.0009\n",
      "  - 레이블: airplane, 신뢰도: 0.0008\n",
      "  - 레이블: ship, 신뢰도: 0.0007\n",
      "이미지 2:\n",
      "  - 레이블: ship, 신뢰도: 0.9955\n",
      "  - 레이블: automobile, 신뢰도: 0.0007\n",
      "  - 레이블: airplane, 신뢰도: 0.0005\n",
      "  - 레이블: bird, 신뢰도: 0.0005\n",
      "  - 레이블: deer, 신뢰도: 0.0005\n",
      "이미지 3:\n",
      "  - 레이블: ship, 신뢰도: 0.9930\n",
      "  - 레이블: automobile, 신뢰도: 0.0024\n",
      "  - 레이블: deer, 신뢰도: 0.0007\n",
      "  - 레이블: truck, 신뢰도: 0.0007\n",
      "  - 레이블: cat, 신뢰도: 0.0006\n",
      "이미지 4:\n",
      "  - 레이블: airplane, 신뢰도: 0.9931\n",
      "  - 레이블: bird, 신뢰도: 0.0019\n",
      "  - 레이블: cat, 신뢰도: 0.0007\n",
      "  - 레이블: horse, 신뢰도: 0.0007\n",
      "  - 레이블: dog, 신뢰도: 0.0007\n",
      "이미지 5:\n",
      "  - 레이블: frog, 신뢰도: 0.9954\n",
      "  - 레이블: automobile, 신뢰도: 0.0006\n",
      "  - 레이블: airplane, 신뢰도: 0.0006\n",
      "  - 레이블: ship, 신뢰도: 0.0005\n",
      "  - 레이블: cat, 신뢰도: 0.0005\n"
     ]
    }
   ],
   "source": [
    "from transformers import pipeline\n",
    "clf = pipeline(\"image-classification\", model=model_name)\n",
    "preds = clf(sample_images)\n",
    "\n",
    "# 예측 결과를 더 읽기 쉽게 출력\n",
    "print(\"Pipeline 예측 결과:\")\n",
    "for i, pred_list in enumerate(preds):\n",
    "    print(f\"이미지 {i+1}:\")\n",
    "    for pred in pred_list:\n",
    "        # 'LABEL_X' 문자열에서 레이블 인덱스 추출\n",
    "        label_index = int(pred['label'].split('_')[1])\n",
    "        print(f\"  - 레이블: {labels[label_index]}, 신뢰도: {pred['score']:.4f}\")\n"
   ]
  },
  {
   "cell_type": "markdown",
   "metadata": {
    "id": "Wc9k0nR06k0P"
   },
   "source": [
    "# **마치며**\n",
    "\n",
    "\n",
    "이상으로 CIFAR-10을 활용한 컴퓨터 비전 AI 을 실습해 보았습니다.\n",
    "\n",
    "섹션 1에서는 ResNet-18 모델의 마지막 층만 학습하는 선형 프로빙으로 빠르게 성능을 얻는 방법을, 섹션 2에서는 데이터 증강과 전체 모델 미세 조정으로 성능을 극대화하는 방법을 배웠으며, 섹션 3에서는 HuggingFace의 사전 학습 ViT 모델을 이용하여 손쉽게 이미지 분류를 수행해 보았습니다. 이러한 접근법들은 실제 컴퓨터 비전 과제에 널리 사용되는 기법들이며, 주어진 예시 코드를 바탕으로 다양한 응용을 시도해볼 수 있을 것입니다.\n"
   ]
  }
 ],
 "metadata": {
  "accelerator": "GPU",
  "colab": {
   "authorship_tag": "ABX9TyP4SorHMLorlV22Dv9x/8AZ",
   "gpuType": "T4",
   "provenance": []
  },
  "kernelspec": {
   "display_name": "venv",
   "language": "python",
   "name": "python3"
  },
  "language_info": {
   "codemirror_mode": {
    "name": "ipython",
    "version": 3
   },
   "file_extension": ".py",
   "mimetype": "text/x-python",
   "name": "python",
   "nbconvert_exporter": "python",
   "pygments_lexer": "ipython3",
   "version": "3.10.12"
  },
  "widgets": {
   "application/vnd.jupyter.widget-state+json": {
    "0298a32b86ef4b49902695c0b8b90c0b": {
     "model_module": "@jupyter-widgets/controls",
     "model_module_version": "1.5.0",
     "model_name": "HTMLModel",
     "state": {
      "_dom_classes": [],
      "_model_module": "@jupyter-widgets/controls",
      "_model_module_version": "1.5.0",
      "_model_name": "HTMLModel",
      "_view_count": null,
      "_view_module": "@jupyter-widgets/controls",
      "_view_module_version": "1.5.0",
      "_view_name": "HTMLView",
      "description": "",
      "description_tooltip": null,
      "layout": "IPY_MODEL_e2dfe0c1bbaa45a3b7ac3710592a041c",
      "placeholder": "​",
      "style": "IPY_MODEL_8d3bfe6675ec4f3097a9cf880dd0f0e8",
      "value": " 120M/120M [00:00&lt;00:00, 191MB/s]"
     }
    },
    "044816899f6a48d2aa35b854682cc7b1": {
     "model_module": "@jupyter-widgets/controls",
     "model_module_version": "1.5.0",
     "model_name": "FloatProgressModel",
     "state": {
      "_dom_classes": [],
      "_model_module": "@jupyter-widgets/controls",
      "_model_module_version": "1.5.0",
      "_model_name": "FloatProgressModel",
      "_view_count": null,
      "_view_module": "@jupyter-widgets/controls",
      "_view_module_version": "1.5.0",
      "_view_name": "ProgressView",
      "bar_style": "success",
      "description": "",
      "description_tooltip": null,
      "layout": "IPY_MODEL_f81f3aa76ea94547b3f2596d3164dbbf",
      "max": 23940850,
      "min": 0,
      "orientation": "horizontal",
      "style": "IPY_MODEL_f089698042dd46b3a7bca397113d6ed2",
      "value": 23940850
     }
    },
    "074b1f07edf543e4b8c48c752aac7bcc": {
     "model_module": "@jupyter-widgets/base",
     "model_module_version": "1.2.0",
     "model_name": "LayoutModel",
     "state": {
      "_model_module": "@jupyter-widgets/base",
      "_model_module_version": "1.2.0",
      "_model_name": "LayoutModel",
      "_view_count": null,
      "_view_module": "@jupyter-widgets/base",
      "_view_module_version": "1.2.0",
      "_view_name": "LayoutView",
      "align_content": null,
      "align_items": null,
      "align_self": null,
      "border": null,
      "bottom": null,
      "display": null,
      "flex": null,
      "flex_flow": null,
      "grid_area": null,
      "grid_auto_columns": null,
      "grid_auto_flow": null,
      "grid_auto_rows": null,
      "grid_column": null,
      "grid_gap": null,
      "grid_row": null,
      "grid_template_areas": null,
      "grid_template_columns": null,
      "grid_template_rows": null,
      "height": null,
      "justify_content": null,
      "justify_items": null,
      "left": null,
      "margin": null,
      "max_height": null,
      "max_width": null,
      "min_height": null,
      "min_width": null,
      "object_fit": null,
      "object_position": null,
      "order": null,
      "overflow": null,
      "overflow_x": null,
      "overflow_y": null,
      "padding": null,
      "right": null,
      "top": null,
      "visibility": null,
      "width": null
     }
    },
    "12229fb1a6674f84bfcce6e329efcece": {
     "model_module": "@jupyter-widgets/base",
     "model_module_version": "1.2.0",
     "model_name": "LayoutModel",
     "state": {
      "_model_module": "@jupyter-widgets/base",
      "_model_module_version": "1.2.0",
      "_model_name": "LayoutModel",
      "_view_count": null,
      "_view_module": "@jupyter-widgets/base",
      "_view_module_version": "1.2.0",
      "_view_name": "LayoutView",
      "align_content": null,
      "align_items": null,
      "align_self": null,
      "border": null,
      "bottom": null,
      "display": null,
      "flex": null,
      "flex_flow": null,
      "grid_area": null,
      "grid_auto_columns": null,
      "grid_auto_flow": null,
      "grid_auto_rows": null,
      "grid_column": null,
      "grid_gap": null,
      "grid_row": null,
      "grid_template_areas": null,
      "grid_template_columns": null,
      "grid_template_rows": null,
      "height": null,
      "justify_content": null,
      "justify_items": null,
      "left": null,
      "margin": null,
      "max_height": null,
      "max_width": null,
      "min_height": null,
      "min_width": null,
      "object_fit": null,
      "object_position": null,
      "order": null,
      "overflow": null,
      "overflow_x": null,
      "overflow_y": null,
      "padding": null,
      "right": null,
      "top": null,
      "visibility": null,
      "width": null
     }
    },
    "17030a194b14442d90c06e110368df46": {
     "model_module": "@jupyter-widgets/controls",
     "model_module_version": "1.5.0",
     "model_name": "HTMLModel",
     "state": {
      "_dom_classes": [],
      "_model_module": "@jupyter-widgets/controls",
      "_model_module_version": "1.5.0",
      "_model_name": "HTMLModel",
      "_view_count": null,
      "_view_module": "@jupyter-widgets/controls",
      "_view_module_version": "1.5.0",
      "_view_name": "HTMLView",
      "description": "",
      "description_tooltip": null,
      "layout": "IPY_MODEL_a76798b3a63b4f9a83376f5cf6b5b099",
      "placeholder": "​",
      "style": "IPY_MODEL_a68708c8400941fe8e4c8f67e3727a68",
      "value": "train-00000-of-00001.parquet: 100%"
     }
    },
    "18904422031e4bc88af443bb723b3a69": {
     "model_module": "@jupyter-widgets/base",
     "model_module_version": "1.2.0",
     "model_name": "LayoutModel",
     "state": {
      "_model_module": "@jupyter-widgets/base",
      "_model_module_version": "1.2.0",
      "_model_name": "LayoutModel",
      "_view_count": null,
      "_view_module": "@jupyter-widgets/base",
      "_view_module_version": "1.2.0",
      "_view_name": "LayoutView",
      "align_content": null,
      "align_items": null,
      "align_self": null,
      "border": null,
      "bottom": null,
      "display": null,
      "flex": null,
      "flex_flow": null,
      "grid_area": null,
      "grid_auto_columns": null,
      "grid_auto_flow": null,
      "grid_auto_rows": null,
      "grid_column": null,
      "grid_gap": null,
      "grid_row": null,
      "grid_template_areas": null,
      "grid_template_columns": null,
      "grid_template_rows": null,
      "height": null,
      "justify_content": null,
      "justify_items": null,
      "left": null,
      "margin": null,
      "max_height": null,
      "max_width": null,
      "min_height": null,
      "min_width": null,
      "object_fit": null,
      "object_position": null,
      "order": null,
      "overflow": null,
      "overflow_x": null,
      "overflow_y": null,
      "padding": null,
      "right": null,
      "top": null,
      "visibility": null,
      "width": null
     }
    },
    "1b954015682d4e9eaff9970943a883b2": {
     "model_module": "@jupyter-widgets/base",
     "model_module_version": "1.2.0",
     "model_name": "LayoutModel",
     "state": {
      "_model_module": "@jupyter-widgets/base",
      "_model_module_version": "1.2.0",
      "_model_name": "LayoutModel",
      "_view_count": null,
      "_view_module": "@jupyter-widgets/base",
      "_view_module_version": "1.2.0",
      "_view_name": "LayoutView",
      "align_content": null,
      "align_items": null,
      "align_self": null,
      "border": null,
      "bottom": null,
      "display": null,
      "flex": null,
      "flex_flow": null,
      "grid_area": null,
      "grid_auto_columns": null,
      "grid_auto_flow": null,
      "grid_auto_rows": null,
      "grid_column": null,
      "grid_gap": null,
      "grid_row": null,
      "grid_template_areas": null,
      "grid_template_columns": null,
      "grid_template_rows": null,
      "height": null,
      "justify_content": null,
      "justify_items": null,
      "left": null,
      "margin": null,
      "max_height": null,
      "max_width": null,
      "min_height": null,
      "min_width": null,
      "object_fit": null,
      "object_position": null,
      "order": null,
      "overflow": null,
      "overflow_x": null,
      "overflow_y": null,
      "padding": null,
      "right": null,
      "top": null,
      "visibility": null,
      "width": null
     }
    },
    "27e0a8fe49dc4e1b94080582897c5d16": {
     "model_module": "@jupyter-widgets/controls",
     "model_module_version": "1.5.0",
     "model_name": "HBoxModel",
     "state": {
      "_dom_classes": [],
      "_model_module": "@jupyter-widgets/controls",
      "_model_module_version": "1.5.0",
      "_model_name": "HBoxModel",
      "_view_count": null,
      "_view_module": "@jupyter-widgets/controls",
      "_view_module_version": "1.5.0",
      "_view_name": "HBoxView",
      "box_style": "",
      "children": [
       "IPY_MODEL_f22f3672d17948778439524ecd31cab9",
       "IPY_MODEL_ad5b1ec5f918480c9c4aecf61bcff56d",
       "IPY_MODEL_efa7c019b24b49559d2f0ab3ec2b1054"
      ],
      "layout": "IPY_MODEL_fdb1ba393fd9480bb88a7ba3396a9e1f"
     }
    },
    "2b57b22c883947cbb319714efdde4aa5": {
     "model_module": "@jupyter-widgets/controls",
     "model_module_version": "1.5.0",
     "model_name": "HBoxModel",
     "state": {
      "_dom_classes": [],
      "_model_module": "@jupyter-widgets/controls",
      "_model_module_version": "1.5.0",
      "_model_name": "HBoxModel",
      "_view_count": null,
      "_view_module": "@jupyter-widgets/controls",
      "_view_module_version": "1.5.0",
      "_view_name": "HBoxView",
      "box_style": "",
      "children": [
       "IPY_MODEL_dc5c04f97ebf4b68b5ca9dced3a96e64",
       "IPY_MODEL_db921021be254ebcace94d4377be29ea",
       "IPY_MODEL_b25ca7d6dc8440c5b3bc62dd2e6ab336"
      ],
      "layout": "IPY_MODEL_50bdff452ef2452c816655ec46e3bbc3"
     }
    },
    "2f8e4a9583a94ec7bbb1ec37746d3767": {
     "model_module": "@jupyter-widgets/controls",
     "model_module_version": "1.5.0",
     "model_name": "HTMLModel",
     "state": {
      "_dom_classes": [],
      "_model_module": "@jupyter-widgets/controls",
      "_model_module_version": "1.5.0",
      "_model_name": "HTMLModel",
      "_view_count": null,
      "_view_module": "@jupyter-widgets/controls",
      "_view_module_version": "1.5.0",
      "_view_name": "HTMLView",
      "description": "",
      "description_tooltip": null,
      "layout": "IPY_MODEL_18904422031e4bc88af443bb723b3a69",
      "placeholder": "​",
      "style": "IPY_MODEL_80579dbab4e74f97a235b8294814d6ec",
      "value": "Generating test split: 100%"
     }
    },
    "36e4729de12d4bce932217715e65fe3a": {
     "model_module": "@jupyter-widgets/base",
     "model_module_version": "1.2.0",
     "model_name": "LayoutModel",
     "state": {
      "_model_module": "@jupyter-widgets/base",
      "_model_module_version": "1.2.0",
      "_model_name": "LayoutModel",
      "_view_count": null,
      "_view_module": "@jupyter-widgets/base",
      "_view_module_version": "1.2.0",
      "_view_name": "LayoutView",
      "align_content": null,
      "align_items": null,
      "align_self": null,
      "border": null,
      "bottom": null,
      "display": null,
      "flex": null,
      "flex_flow": null,
      "grid_area": null,
      "grid_auto_columns": null,
      "grid_auto_flow": null,
      "grid_auto_rows": null,
      "grid_column": null,
      "grid_gap": null,
      "grid_row": null,
      "grid_template_areas": null,
      "grid_template_columns": null,
      "grid_template_rows": null,
      "height": null,
      "justify_content": null,
      "justify_items": null,
      "left": null,
      "margin": null,
      "max_height": null,
      "max_width": null,
      "min_height": null,
      "min_width": null,
      "object_fit": null,
      "object_position": null,
      "order": null,
      "overflow": null,
      "overflow_x": null,
      "overflow_y": null,
      "padding": null,
      "right": null,
      "top": null,
      "visibility": null,
      "width": null
     }
    },
    "3b89a2debdfb4251b121fda1c7a10386": {
     "model_module": "@jupyter-widgets/controls",
     "model_module_version": "1.5.0",
     "model_name": "DescriptionStyleModel",
     "state": {
      "_model_module": "@jupyter-widgets/controls",
      "_model_module_version": "1.5.0",
      "_model_name": "DescriptionStyleModel",
      "_view_count": null,
      "_view_module": "@jupyter-widgets/base",
      "_view_module_version": "1.2.0",
      "_view_name": "StyleView",
      "description_width": ""
     }
    },
    "3d33ceb2441b47f5a0a3c48b89252169": {
     "model_module": "@jupyter-widgets/controls",
     "model_module_version": "1.5.0",
     "model_name": "ProgressStyleModel",
     "state": {
      "_model_module": "@jupyter-widgets/controls",
      "_model_module_version": "1.5.0",
      "_model_name": "ProgressStyleModel",
      "_view_count": null,
      "_view_module": "@jupyter-widgets/base",
      "_view_module_version": "1.2.0",
      "_view_name": "StyleView",
      "bar_color": null,
      "description_width": ""
     }
    },
    "41db2e15925047feafa2f23b8b38076b": {
     "model_module": "@jupyter-widgets/base",
     "model_module_version": "1.2.0",
     "model_name": "LayoutModel",
     "state": {
      "_model_module": "@jupyter-widgets/base",
      "_model_module_version": "1.2.0",
      "_model_name": "LayoutModel",
      "_view_count": null,
      "_view_module": "@jupyter-widgets/base",
      "_view_module_version": "1.2.0",
      "_view_name": "LayoutView",
      "align_content": null,
      "align_items": null,
      "align_self": null,
      "border": null,
      "bottom": null,
      "display": null,
      "flex": null,
      "flex_flow": null,
      "grid_area": null,
      "grid_auto_columns": null,
      "grid_auto_flow": null,
      "grid_auto_rows": null,
      "grid_column": null,
      "grid_gap": null,
      "grid_row": null,
      "grid_template_areas": null,
      "grid_template_columns": null,
      "grid_template_rows": null,
      "height": null,
      "justify_content": null,
      "justify_items": null,
      "left": null,
      "margin": null,
      "max_height": null,
      "max_width": null,
      "min_height": null,
      "min_width": null,
      "object_fit": null,
      "object_position": null,
      "order": null,
      "overflow": null,
      "overflow_x": null,
      "overflow_y": null,
      "padding": null,
      "right": null,
      "top": null,
      "visibility": null,
      "width": null
     }
    },
    "46c71ba7946343b6bf3bca2413c0eb38": {
     "model_module": "@jupyter-widgets/base",
     "model_module_version": "1.2.0",
     "model_name": "LayoutModel",
     "state": {
      "_model_module": "@jupyter-widgets/base",
      "_model_module_version": "1.2.0",
      "_model_name": "LayoutModel",
      "_view_count": null,
      "_view_module": "@jupyter-widgets/base",
      "_view_module_version": "1.2.0",
      "_view_name": "LayoutView",
      "align_content": null,
      "align_items": null,
      "align_self": null,
      "border": null,
      "bottom": null,
      "display": null,
      "flex": null,
      "flex_flow": null,
      "grid_area": null,
      "grid_auto_columns": null,
      "grid_auto_flow": null,
      "grid_auto_rows": null,
      "grid_column": null,
      "grid_gap": null,
      "grid_row": null,
      "grid_template_areas": null,
      "grid_template_columns": null,
      "grid_template_rows": null,
      "height": null,
      "justify_content": null,
      "justify_items": null,
      "left": null,
      "margin": null,
      "max_height": null,
      "max_width": null,
      "min_height": null,
      "min_width": null,
      "object_fit": null,
      "object_position": null,
      "order": null,
      "overflow": null,
      "overflow_x": null,
      "overflow_y": null,
      "padding": null,
      "right": null,
      "top": null,
      "visibility": null,
      "width": null
     }
    },
    "4860ffa56a324edcb605bbfae516bc76": {
     "model_module": "@jupyter-widgets/base",
     "model_module_version": "1.2.0",
     "model_name": "LayoutModel",
     "state": {
      "_model_module": "@jupyter-widgets/base",
      "_model_module_version": "1.2.0",
      "_model_name": "LayoutModel",
      "_view_count": null,
      "_view_module": "@jupyter-widgets/base",
      "_view_module_version": "1.2.0",
      "_view_name": "LayoutView",
      "align_content": null,
      "align_items": null,
      "align_self": null,
      "border": null,
      "bottom": null,
      "display": null,
      "flex": null,
      "flex_flow": null,
      "grid_area": null,
      "grid_auto_columns": null,
      "grid_auto_flow": null,
      "grid_auto_rows": null,
      "grid_column": null,
      "grid_gap": null,
      "grid_row": null,
      "grid_template_areas": null,
      "grid_template_columns": null,
      "grid_template_rows": null,
      "height": null,
      "justify_content": null,
      "justify_items": null,
      "left": null,
      "margin": null,
      "max_height": null,
      "max_width": null,
      "min_height": null,
      "min_width": null,
      "object_fit": null,
      "object_position": null,
      "order": null,
      "overflow": null,
      "overflow_x": null,
      "overflow_y": null,
      "padding": null,
      "right": null,
      "top": null,
      "visibility": null,
      "width": null
     }
    },
    "50bdff452ef2452c816655ec46e3bbc3": {
     "model_module": "@jupyter-widgets/base",
     "model_module_version": "1.2.0",
     "model_name": "LayoutModel",
     "state": {
      "_model_module": "@jupyter-widgets/base",
      "_model_module_version": "1.2.0",
      "_model_name": "LayoutModel",
      "_view_count": null,
      "_view_module": "@jupyter-widgets/base",
      "_view_module_version": "1.2.0",
      "_view_name": "LayoutView",
      "align_content": null,
      "align_items": null,
      "align_self": null,
      "border": null,
      "bottom": null,
      "display": null,
      "flex": null,
      "flex_flow": null,
      "grid_area": null,
      "grid_auto_columns": null,
      "grid_auto_flow": null,
      "grid_auto_rows": null,
      "grid_column": null,
      "grid_gap": null,
      "grid_row": null,
      "grid_template_areas": null,
      "grid_template_columns": null,
      "grid_template_rows": null,
      "height": null,
      "justify_content": null,
      "justify_items": null,
      "left": null,
      "margin": null,
      "max_height": null,
      "max_width": null,
      "min_height": null,
      "min_width": null,
      "object_fit": null,
      "object_position": null,
      "order": null,
      "overflow": null,
      "overflow_x": null,
      "overflow_y": null,
      "padding": null,
      "right": null,
      "top": null,
      "visibility": null,
      "width": null
     }
    },
    "6f74da4e8ea34314abce2880221227d1": {
     "model_module": "@jupyter-widgets/base",
     "model_module_version": "1.2.0",
     "model_name": "LayoutModel",
     "state": {
      "_model_module": "@jupyter-widgets/base",
      "_model_module_version": "1.2.0",
      "_model_name": "LayoutModel",
      "_view_count": null,
      "_view_module": "@jupyter-widgets/base",
      "_view_module_version": "1.2.0",
      "_view_name": "LayoutView",
      "align_content": null,
      "align_items": null,
      "align_self": null,
      "border": null,
      "bottom": null,
      "display": null,
      "flex": null,
      "flex_flow": null,
      "grid_area": null,
      "grid_auto_columns": null,
      "grid_auto_flow": null,
      "grid_auto_rows": null,
      "grid_column": null,
      "grid_gap": null,
      "grid_row": null,
      "grid_template_areas": null,
      "grid_template_columns": null,
      "grid_template_rows": null,
      "height": null,
      "justify_content": null,
      "justify_items": null,
      "left": null,
      "margin": null,
      "max_height": null,
      "max_width": null,
      "min_height": null,
      "min_width": null,
      "object_fit": null,
      "object_position": null,
      "order": null,
      "overflow": null,
      "overflow_x": null,
      "overflow_y": null,
      "padding": null,
      "right": null,
      "top": null,
      "visibility": null,
      "width": null
     }
    },
    "71f5a742a27c4230b71011ef1a4ecda6": {
     "model_module": "@jupyter-widgets/base",
     "model_module_version": "1.2.0",
     "model_name": "LayoutModel",
     "state": {
      "_model_module": "@jupyter-widgets/base",
      "_model_module_version": "1.2.0",
      "_model_name": "LayoutModel",
      "_view_count": null,
      "_view_module": "@jupyter-widgets/base",
      "_view_module_version": "1.2.0",
      "_view_name": "LayoutView",
      "align_content": null,
      "align_items": null,
      "align_self": null,
      "border": null,
      "bottom": null,
      "display": null,
      "flex": null,
      "flex_flow": null,
      "grid_area": null,
      "grid_auto_columns": null,
      "grid_auto_flow": null,
      "grid_auto_rows": null,
      "grid_column": null,
      "grid_gap": null,
      "grid_row": null,
      "grid_template_areas": null,
      "grid_template_columns": null,
      "grid_template_rows": null,
      "height": null,
      "justify_content": null,
      "justify_items": null,
      "left": null,
      "margin": null,
      "max_height": null,
      "max_width": null,
      "min_height": null,
      "min_width": null,
      "object_fit": null,
      "object_position": null,
      "order": null,
      "overflow": null,
      "overflow_x": null,
      "overflow_y": null,
      "padding": null,
      "right": null,
      "top": null,
      "visibility": null,
      "width": null
     }
    },
    "76fd50acc046442e8765f3ad0cb893a6": {
     "model_module": "@jupyter-widgets/controls",
     "model_module_version": "1.5.0",
     "model_name": "HTMLModel",
     "state": {
      "_dom_classes": [],
      "_model_module": "@jupyter-widgets/controls",
      "_model_module_version": "1.5.0",
      "_model_name": "HTMLModel",
      "_view_count": null,
      "_view_module": "@jupyter-widgets/controls",
      "_view_module_version": "1.5.0",
      "_view_name": "HTMLView",
      "description": "",
      "description_tooltip": null,
      "layout": "IPY_MODEL_4860ffa56a324edcb605bbfae516bc76",
      "placeholder": "​",
      "style": "IPY_MODEL_bf2e0be2b79e4d6fb75a62758532290e",
      "value": "test-00000-of-00001.parquet: 100%"
     }
    },
    "7c68812cc3034b50a5d864bd4f8943c9": {
     "model_module": "@jupyter-widgets/controls",
     "model_module_version": "1.5.0",
     "model_name": "HBoxModel",
     "state": {
      "_dom_classes": [],
      "_model_module": "@jupyter-widgets/controls",
      "_model_module_version": "1.5.0",
      "_model_name": "HBoxModel",
      "_view_count": null,
      "_view_module": "@jupyter-widgets/controls",
      "_view_module_version": "1.5.0",
      "_view_name": "HBoxView",
      "box_style": "",
      "children": [
       "IPY_MODEL_17030a194b14442d90c06e110368df46",
       "IPY_MODEL_f22d8a11cd8840eebaa845faa967f850",
       "IPY_MODEL_0298a32b86ef4b49902695c0b8b90c0b"
      ],
      "layout": "IPY_MODEL_36e4729de12d4bce932217715e65fe3a"
     }
    },
    "80579dbab4e74f97a235b8294814d6ec": {
     "model_module": "@jupyter-widgets/controls",
     "model_module_version": "1.5.0",
     "model_name": "DescriptionStyleModel",
     "state": {
      "_model_module": "@jupyter-widgets/controls",
      "_model_module_version": "1.5.0",
      "_model_name": "DescriptionStyleModel",
      "_view_count": null,
      "_view_module": "@jupyter-widgets/base",
      "_view_module_version": "1.2.0",
      "_view_name": "StyleView",
      "description_width": ""
     }
    },
    "861da783572040c89385119084409fe9": {
     "model_module": "@jupyter-widgets/base",
     "model_module_version": "1.2.0",
     "model_name": "LayoutModel",
     "state": {
      "_model_module": "@jupyter-widgets/base",
      "_model_module_version": "1.2.0",
      "_model_name": "LayoutModel",
      "_view_count": null,
      "_view_module": "@jupyter-widgets/base",
      "_view_module_version": "1.2.0",
      "_view_name": "LayoutView",
      "align_content": null,
      "align_items": null,
      "align_self": null,
      "border": null,
      "bottom": null,
      "display": null,
      "flex": null,
      "flex_flow": null,
      "grid_area": null,
      "grid_auto_columns": null,
      "grid_auto_flow": null,
      "grid_auto_rows": null,
      "grid_column": null,
      "grid_gap": null,
      "grid_row": null,
      "grid_template_areas": null,
      "grid_template_columns": null,
      "grid_template_rows": null,
      "height": null,
      "justify_content": null,
      "justify_items": null,
      "left": null,
      "margin": null,
      "max_height": null,
      "max_width": null,
      "min_height": null,
      "min_width": null,
      "object_fit": null,
      "object_position": null,
      "order": null,
      "overflow": null,
      "overflow_x": null,
      "overflow_y": null,
      "padding": null,
      "right": null,
      "top": null,
      "visibility": null,
      "width": null
     }
    },
    "8bd40fcb122c4a7187bb4fb50dc4bc46": {
     "model_module": "@jupyter-widgets/controls",
     "model_module_version": "1.5.0",
     "model_name": "HTMLModel",
     "state": {
      "_dom_classes": [],
      "_model_module": "@jupyter-widgets/controls",
      "_model_module_version": "1.5.0",
      "_model_name": "HTMLModel",
      "_view_count": null,
      "_view_module": "@jupyter-widgets/controls",
      "_view_module_version": "1.5.0",
      "_view_name": "HTMLView",
      "description": "",
      "description_tooltip": null,
      "layout": "IPY_MODEL_46c71ba7946343b6bf3bca2413c0eb38",
      "placeholder": "​",
      "style": "IPY_MODEL_cff2a3e207454bd4862ccb78a7f6b607",
      "value": " 23.9M/23.9M [00:00&lt;00:00, 103MB/s]"
     }
    },
    "8d3bfe6675ec4f3097a9cf880dd0f0e8": {
     "model_module": "@jupyter-widgets/controls",
     "model_module_version": "1.5.0",
     "model_name": "DescriptionStyleModel",
     "state": {
      "_model_module": "@jupyter-widgets/controls",
      "_model_module_version": "1.5.0",
      "_model_name": "DescriptionStyleModel",
      "_view_count": null,
      "_view_module": "@jupyter-widgets/base",
      "_view_module_version": "1.2.0",
      "_view_name": "StyleView",
      "description_width": ""
     }
    },
    "8f99a293436149899ff65c95704cc69a": {
     "model_module": "@jupyter-widgets/controls",
     "model_module_version": "1.5.0",
     "model_name": "FloatProgressModel",
     "state": {
      "_dom_classes": [],
      "_model_module": "@jupyter-widgets/controls",
      "_model_module_version": "1.5.0",
      "_model_name": "FloatProgressModel",
      "_view_count": null,
      "_view_module": "@jupyter-widgets/controls",
      "_view_module_version": "1.5.0",
      "_view_name": "ProgressView",
      "bar_style": "success",
      "description": "",
      "description_tooltip": null,
      "layout": "IPY_MODEL_12229fb1a6674f84bfcce6e329efcece",
      "max": 10000,
      "min": 0,
      "orientation": "horizontal",
      "style": "IPY_MODEL_a45272074ce147139b91545392cc1dd7",
      "value": 10000
     }
    },
    "90be909ea73b46f189e551fa5384e0d3": {
     "model_module": "@jupyter-widgets/base",
     "model_module_version": "1.2.0",
     "model_name": "LayoutModel",
     "state": {
      "_model_module": "@jupyter-widgets/base",
      "_model_module_version": "1.2.0",
      "_model_name": "LayoutModel",
      "_view_count": null,
      "_view_module": "@jupyter-widgets/base",
      "_view_module_version": "1.2.0",
      "_view_name": "LayoutView",
      "align_content": null,
      "align_items": null,
      "align_self": null,
      "border": null,
      "bottom": null,
      "display": null,
      "flex": null,
      "flex_flow": null,
      "grid_area": null,
      "grid_auto_columns": null,
      "grid_auto_flow": null,
      "grid_auto_rows": null,
      "grid_column": null,
      "grid_gap": null,
      "grid_row": null,
      "grid_template_areas": null,
      "grid_template_columns": null,
      "grid_template_rows": null,
      "height": null,
      "justify_content": null,
      "justify_items": null,
      "left": null,
      "margin": null,
      "max_height": null,
      "max_width": null,
      "min_height": null,
      "min_width": null,
      "object_fit": null,
      "object_position": null,
      "order": null,
      "overflow": null,
      "overflow_x": null,
      "overflow_y": null,
      "padding": null,
      "right": null,
      "top": null,
      "visibility": null,
      "width": null
     }
    },
    "923aaf193669471ba88218461544746e": {
     "model_module": "@jupyter-widgets/controls",
     "model_module_version": "1.5.0",
     "model_name": "HTMLModel",
     "state": {
      "_dom_classes": [],
      "_model_module": "@jupyter-widgets/controls",
      "_model_module_version": "1.5.0",
      "_model_name": "HTMLModel",
      "_view_count": null,
      "_view_module": "@jupyter-widgets/controls",
      "_view_module_version": "1.5.0",
      "_view_name": "HTMLView",
      "description": "",
      "description_tooltip": null,
      "layout": "IPY_MODEL_c587ba95e285400d87d30bdc75fb0420",
      "placeholder": "​",
      "style": "IPY_MODEL_f41780e2839841049de33e0d96c5547c",
      "value": " 10000/10000 [00:00&lt;00:00, 28600.72 examples/s]"
     }
    },
    "983d4cb57e184092a2e94aa3b64c2d33": {
     "model_module": "@jupyter-widgets/controls",
     "model_module_version": "1.5.0",
     "model_name": "DescriptionStyleModel",
     "state": {
      "_model_module": "@jupyter-widgets/controls",
      "_model_module_version": "1.5.0",
      "_model_name": "DescriptionStyleModel",
      "_view_count": null,
      "_view_module": "@jupyter-widgets/base",
      "_view_module_version": "1.2.0",
      "_view_name": "StyleView",
      "description_width": ""
     }
    },
    "a25bae261c674fda8d9571d97942b67e": {
     "model_module": "@jupyter-widgets/controls",
     "model_module_version": "1.5.0",
     "model_name": "ProgressStyleModel",
     "state": {
      "_model_module": "@jupyter-widgets/controls",
      "_model_module_version": "1.5.0",
      "_model_name": "ProgressStyleModel",
      "_view_count": null,
      "_view_module": "@jupyter-widgets/base",
      "_view_module_version": "1.2.0",
      "_view_name": "StyleView",
      "bar_color": null,
      "description_width": ""
     }
    },
    "a45272074ce147139b91545392cc1dd7": {
     "model_module": "@jupyter-widgets/controls",
     "model_module_version": "1.5.0",
     "model_name": "ProgressStyleModel",
     "state": {
      "_model_module": "@jupyter-widgets/controls",
      "_model_module_version": "1.5.0",
      "_model_name": "ProgressStyleModel",
      "_view_count": null,
      "_view_module": "@jupyter-widgets/base",
      "_view_module_version": "1.2.0",
      "_view_name": "StyleView",
      "bar_color": null,
      "description_width": ""
     }
    },
    "a68708c8400941fe8e4c8f67e3727a68": {
     "model_module": "@jupyter-widgets/controls",
     "model_module_version": "1.5.0",
     "model_name": "DescriptionStyleModel",
     "state": {
      "_model_module": "@jupyter-widgets/controls",
      "_model_module_version": "1.5.0",
      "_model_name": "DescriptionStyleModel",
      "_view_count": null,
      "_view_module": "@jupyter-widgets/base",
      "_view_module_version": "1.2.0",
      "_view_name": "StyleView",
      "description_width": ""
     }
    },
    "a76798b3a63b4f9a83376f5cf6b5b099": {
     "model_module": "@jupyter-widgets/base",
     "model_module_version": "1.2.0",
     "model_name": "LayoutModel",
     "state": {
      "_model_module": "@jupyter-widgets/base",
      "_model_module_version": "1.2.0",
      "_model_name": "LayoutModel",
      "_view_count": null,
      "_view_module": "@jupyter-widgets/base",
      "_view_module_version": "1.2.0",
      "_view_name": "LayoutView",
      "align_content": null,
      "align_items": null,
      "align_self": null,
      "border": null,
      "bottom": null,
      "display": null,
      "flex": null,
      "flex_flow": null,
      "grid_area": null,
      "grid_auto_columns": null,
      "grid_auto_flow": null,
      "grid_auto_rows": null,
      "grid_column": null,
      "grid_gap": null,
      "grid_row": null,
      "grid_template_areas": null,
      "grid_template_columns": null,
      "grid_template_rows": null,
      "height": null,
      "justify_content": null,
      "justify_items": null,
      "left": null,
      "margin": null,
      "max_height": null,
      "max_width": null,
      "min_height": null,
      "min_width": null,
      "object_fit": null,
      "object_position": null,
      "order": null,
      "overflow": null,
      "overflow_x": null,
      "overflow_y": null,
      "padding": null,
      "right": null,
      "top": null,
      "visibility": null,
      "width": null
     }
    },
    "ab4a12a6fab5497f8e560ea0c9bacdb7": {
     "model_module": "@jupyter-widgets/controls",
     "model_module_version": "1.5.0",
     "model_name": "DescriptionStyleModel",
     "state": {
      "_model_module": "@jupyter-widgets/controls",
      "_model_module_version": "1.5.0",
      "_model_name": "DescriptionStyleModel",
      "_view_count": null,
      "_view_module": "@jupyter-widgets/base",
      "_view_module_version": "1.2.0",
      "_view_name": "StyleView",
      "description_width": ""
     }
    },
    "ad5b1ec5f918480c9c4aecf61bcff56d": {
     "model_module": "@jupyter-widgets/controls",
     "model_module_version": "1.5.0",
     "model_name": "FloatProgressModel",
     "state": {
      "_dom_classes": [],
      "_model_module": "@jupyter-widgets/controls",
      "_model_module_version": "1.5.0",
      "_model_name": "FloatProgressModel",
      "_view_count": null,
      "_view_module": "@jupyter-widgets/controls",
      "_view_module_version": "1.5.0",
      "_view_name": "ProgressView",
      "bar_style": "success",
      "description": "",
      "description_tooltip": null,
      "layout": "IPY_MODEL_ade9abcaec814450a05b1d48f2d74edc",
      "max": 1,
      "min": 0,
      "orientation": "horizontal",
      "style": "IPY_MODEL_a25bae261c674fda8d9571d97942b67e",
      "value": 1
     }
    },
    "ade9abcaec814450a05b1d48f2d74edc": {
     "model_module": "@jupyter-widgets/base",
     "model_module_version": "1.2.0",
     "model_name": "LayoutModel",
     "state": {
      "_model_module": "@jupyter-widgets/base",
      "_model_module_version": "1.2.0",
      "_model_name": "LayoutModel",
      "_view_count": null,
      "_view_module": "@jupyter-widgets/base",
      "_view_module_version": "1.2.0",
      "_view_name": "LayoutView",
      "align_content": null,
      "align_items": null,
      "align_self": null,
      "border": null,
      "bottom": null,
      "display": null,
      "flex": null,
      "flex_flow": null,
      "grid_area": null,
      "grid_auto_columns": null,
      "grid_auto_flow": null,
      "grid_auto_rows": null,
      "grid_column": null,
      "grid_gap": null,
      "grid_row": null,
      "grid_template_areas": null,
      "grid_template_columns": null,
      "grid_template_rows": null,
      "height": null,
      "justify_content": null,
      "justify_items": null,
      "left": null,
      "margin": null,
      "max_height": null,
      "max_width": null,
      "min_height": null,
      "min_width": null,
      "object_fit": null,
      "object_position": null,
      "order": null,
      "overflow": null,
      "overflow_x": null,
      "overflow_y": null,
      "padding": null,
      "right": null,
      "top": null,
      "visibility": null,
      "width": "20px"
     }
    },
    "b25ca7d6dc8440c5b3bc62dd2e6ab336": {
     "model_module": "@jupyter-widgets/controls",
     "model_module_version": "1.5.0",
     "model_name": "HTMLModel",
     "state": {
      "_dom_classes": [],
      "_model_module": "@jupyter-widgets/controls",
      "_model_module_version": "1.5.0",
      "_model_name": "HTMLModel",
      "_view_count": null,
      "_view_module": "@jupyter-widgets/controls",
      "_view_module_version": "1.5.0",
      "_view_name": "HTMLView",
      "description": "",
      "description_tooltip": null,
      "layout": "IPY_MODEL_71f5a742a27c4230b71011ef1a4ecda6",
      "placeholder": "​",
      "style": "IPY_MODEL_ab4a12a6fab5497f8e560ea0c9bacdb7",
      "value": " 50000/50000 [00:01&lt;00:00, 62778.33 examples/s]"
     }
    },
    "b820c851470f4828b55a22e5573b21a2": {
     "model_module": "@jupyter-widgets/controls",
     "model_module_version": "1.5.0",
     "model_name": "ProgressStyleModel",
     "state": {
      "_model_module": "@jupyter-widgets/controls",
      "_model_module_version": "1.5.0",
      "_model_name": "ProgressStyleModel",
      "_view_count": null,
      "_view_module": "@jupyter-widgets/base",
      "_view_module_version": "1.2.0",
      "_view_name": "StyleView",
      "bar_color": null,
      "description_width": ""
     }
    },
    "bf2e0be2b79e4d6fb75a62758532290e": {
     "model_module": "@jupyter-widgets/controls",
     "model_module_version": "1.5.0",
     "model_name": "DescriptionStyleModel",
     "state": {
      "_model_module": "@jupyter-widgets/controls",
      "_model_module_version": "1.5.0",
      "_model_name": "DescriptionStyleModel",
      "_view_count": null,
      "_view_module": "@jupyter-widgets/base",
      "_view_module_version": "1.2.0",
      "_view_name": "StyleView",
      "description_width": ""
     }
    },
    "c587ba95e285400d87d30bdc75fb0420": {
     "model_module": "@jupyter-widgets/base",
     "model_module_version": "1.2.0",
     "model_name": "LayoutModel",
     "state": {
      "_model_module": "@jupyter-widgets/base",
      "_model_module_version": "1.2.0",
      "_model_name": "LayoutModel",
      "_view_count": null,
      "_view_module": "@jupyter-widgets/base",
      "_view_module_version": "1.2.0",
      "_view_name": "LayoutView",
      "align_content": null,
      "align_items": null,
      "align_self": null,
      "border": null,
      "bottom": null,
      "display": null,
      "flex": null,
      "flex_flow": null,
      "grid_area": null,
      "grid_auto_columns": null,
      "grid_auto_flow": null,
      "grid_auto_rows": null,
      "grid_column": null,
      "grid_gap": null,
      "grid_row": null,
      "grid_template_areas": null,
      "grid_template_columns": null,
      "grid_template_rows": null,
      "height": null,
      "justify_content": null,
      "justify_items": null,
      "left": null,
      "margin": null,
      "max_height": null,
      "max_width": null,
      "min_height": null,
      "min_width": null,
      "object_fit": null,
      "object_position": null,
      "order": null,
      "overflow": null,
      "overflow_x": null,
      "overflow_y": null,
      "padding": null,
      "right": null,
      "top": null,
      "visibility": null,
      "width": null
     }
    },
    "c753d7b346644d12936817ffcdb63068": {
     "model_module": "@jupyter-widgets/controls",
     "model_module_version": "1.5.0",
     "model_name": "DescriptionStyleModel",
     "state": {
      "_model_module": "@jupyter-widgets/controls",
      "_model_module_version": "1.5.0",
      "_model_name": "DescriptionStyleModel",
      "_view_count": null,
      "_view_module": "@jupyter-widgets/base",
      "_view_module_version": "1.2.0",
      "_view_name": "StyleView",
      "description_width": ""
     }
    },
    "cff2a3e207454bd4862ccb78a7f6b607": {
     "model_module": "@jupyter-widgets/controls",
     "model_module_version": "1.5.0",
     "model_name": "DescriptionStyleModel",
     "state": {
      "_model_module": "@jupyter-widgets/controls",
      "_model_module_version": "1.5.0",
      "_model_name": "DescriptionStyleModel",
      "_view_count": null,
      "_view_module": "@jupyter-widgets/base",
      "_view_module_version": "1.2.0",
      "_view_name": "StyleView",
      "description_width": ""
     }
    },
    "d45e72711a1248afaaec8b86e8dc2676": {
     "model_module": "@jupyter-widgets/controls",
     "model_module_version": "1.5.0",
     "model_name": "HBoxModel",
     "state": {
      "_dom_classes": [],
      "_model_module": "@jupyter-widgets/controls",
      "_model_module_version": "1.5.0",
      "_model_name": "HBoxModel",
      "_view_count": null,
      "_view_module": "@jupyter-widgets/controls",
      "_view_module_version": "1.5.0",
      "_view_name": "HBoxView",
      "box_style": "",
      "children": [
       "IPY_MODEL_2f8e4a9583a94ec7bbb1ec37746d3767",
       "IPY_MODEL_8f99a293436149899ff65c95704cc69a",
       "IPY_MODEL_923aaf193669471ba88218461544746e"
      ],
      "layout": "IPY_MODEL_90be909ea73b46f189e551fa5384e0d3"
     }
    },
    "d8f36c4c74a1414797be8e9951e20b59": {
     "model_module": "@jupyter-widgets/base",
     "model_module_version": "1.2.0",
     "model_name": "LayoutModel",
     "state": {
      "_model_module": "@jupyter-widgets/base",
      "_model_module_version": "1.2.0",
      "_model_name": "LayoutModel",
      "_view_count": null,
      "_view_module": "@jupyter-widgets/base",
      "_view_module_version": "1.2.0",
      "_view_name": "LayoutView",
      "align_content": null,
      "align_items": null,
      "align_self": null,
      "border": null,
      "bottom": null,
      "display": null,
      "flex": null,
      "flex_flow": null,
      "grid_area": null,
      "grid_auto_columns": null,
      "grid_auto_flow": null,
      "grid_auto_rows": null,
      "grid_column": null,
      "grid_gap": null,
      "grid_row": null,
      "grid_template_areas": null,
      "grid_template_columns": null,
      "grid_template_rows": null,
      "height": null,
      "justify_content": null,
      "justify_items": null,
      "left": null,
      "margin": null,
      "max_height": null,
      "max_width": null,
      "min_height": null,
      "min_width": null,
      "object_fit": null,
      "object_position": null,
      "order": null,
      "overflow": null,
      "overflow_x": null,
      "overflow_y": null,
      "padding": null,
      "right": null,
      "top": null,
      "visibility": null,
      "width": null
     }
    },
    "db921021be254ebcace94d4377be29ea": {
     "model_module": "@jupyter-widgets/controls",
     "model_module_version": "1.5.0",
     "model_name": "FloatProgressModel",
     "state": {
      "_dom_classes": [],
      "_model_module": "@jupyter-widgets/controls",
      "_model_module_version": "1.5.0",
      "_model_name": "FloatProgressModel",
      "_view_count": null,
      "_view_module": "@jupyter-widgets/controls",
      "_view_module_version": "1.5.0",
      "_view_name": "ProgressView",
      "bar_style": "success",
      "description": "",
      "description_tooltip": null,
      "layout": "IPY_MODEL_1b954015682d4e9eaff9970943a883b2",
      "max": 50000,
      "min": 0,
      "orientation": "horizontal",
      "style": "IPY_MODEL_3d33ceb2441b47f5a0a3c48b89252169",
      "value": 50000
     }
    },
    "dc5c04f97ebf4b68b5ca9dced3a96e64": {
     "model_module": "@jupyter-widgets/controls",
     "model_module_version": "1.5.0",
     "model_name": "HTMLModel",
     "state": {
      "_dom_classes": [],
      "_model_module": "@jupyter-widgets/controls",
      "_model_module_version": "1.5.0",
      "_model_name": "HTMLModel",
      "_view_count": null,
      "_view_module": "@jupyter-widgets/controls",
      "_view_module_version": "1.5.0",
      "_view_name": "HTMLView",
      "description": "",
      "description_tooltip": null,
      "layout": "IPY_MODEL_6f74da4e8ea34314abce2880221227d1",
      "placeholder": "​",
      "style": "IPY_MODEL_3b89a2debdfb4251b121fda1c7a10386",
      "value": "Generating train split: 100%"
     }
    },
    "e2dfe0c1bbaa45a3b7ac3710592a041c": {
     "model_module": "@jupyter-widgets/base",
     "model_module_version": "1.2.0",
     "model_name": "LayoutModel",
     "state": {
      "_model_module": "@jupyter-widgets/base",
      "_model_module_version": "1.2.0",
      "_model_name": "LayoutModel",
      "_view_count": null,
      "_view_module": "@jupyter-widgets/base",
      "_view_module_version": "1.2.0",
      "_view_name": "LayoutView",
      "align_content": null,
      "align_items": null,
      "align_self": null,
      "border": null,
      "bottom": null,
      "display": null,
      "flex": null,
      "flex_flow": null,
      "grid_area": null,
      "grid_auto_columns": null,
      "grid_auto_flow": null,
      "grid_auto_rows": null,
      "grid_column": null,
      "grid_gap": null,
      "grid_row": null,
      "grid_template_areas": null,
      "grid_template_columns": null,
      "grid_template_rows": null,
      "height": null,
      "justify_content": null,
      "justify_items": null,
      "left": null,
      "margin": null,
      "max_height": null,
      "max_width": null,
      "min_height": null,
      "min_width": null,
      "object_fit": null,
      "object_position": null,
      "order": null,
      "overflow": null,
      "overflow_x": null,
      "overflow_y": null,
      "padding": null,
      "right": null,
      "top": null,
      "visibility": null,
      "width": null
     }
    },
    "edf8265c79274db3bf5a06dd6031cd2b": {
     "model_module": "@jupyter-widgets/controls",
     "model_module_version": "1.5.0",
     "model_name": "HBoxModel",
     "state": {
      "_dom_classes": [],
      "_model_module": "@jupyter-widgets/controls",
      "_model_module_version": "1.5.0",
      "_model_name": "HBoxModel",
      "_view_count": null,
      "_view_module": "@jupyter-widgets/controls",
      "_view_module_version": "1.5.0",
      "_view_name": "HBoxView",
      "box_style": "",
      "children": [
       "IPY_MODEL_76fd50acc046442e8765f3ad0cb893a6",
       "IPY_MODEL_044816899f6a48d2aa35b854682cc7b1",
       "IPY_MODEL_8bd40fcb122c4a7187bb4fb50dc4bc46"
      ],
      "layout": "IPY_MODEL_41db2e15925047feafa2f23b8b38076b"
     }
    },
    "efa7c019b24b49559d2f0ab3ec2b1054": {
     "model_module": "@jupyter-widgets/controls",
     "model_module_version": "1.5.0",
     "model_name": "HTMLModel",
     "state": {
      "_dom_classes": [],
      "_model_module": "@jupyter-widgets/controls",
      "_model_module_version": "1.5.0",
      "_model_name": "HTMLModel",
      "_view_count": null,
      "_view_module": "@jupyter-widgets/controls",
      "_view_module_version": "1.5.0",
      "_view_name": "HTMLView",
      "description": "",
      "description_tooltip": null,
      "layout": "IPY_MODEL_861da783572040c89385119084409fe9",
      "placeholder": "​",
      "style": "IPY_MODEL_983d4cb57e184092a2e94aa3b64c2d33",
      "value": " 5.16k/? [00:00&lt;00:00, 50.1kB/s]"
     }
    },
    "f089698042dd46b3a7bca397113d6ed2": {
     "model_module": "@jupyter-widgets/controls",
     "model_module_version": "1.5.0",
     "model_name": "ProgressStyleModel",
     "state": {
      "_model_module": "@jupyter-widgets/controls",
      "_model_module_version": "1.5.0",
      "_model_name": "ProgressStyleModel",
      "_view_count": null,
      "_view_module": "@jupyter-widgets/base",
      "_view_module_version": "1.2.0",
      "_view_name": "StyleView",
      "bar_color": null,
      "description_width": ""
     }
    },
    "f22d8a11cd8840eebaa845faa967f850": {
     "model_module": "@jupyter-widgets/controls",
     "model_module_version": "1.5.0",
     "model_name": "FloatProgressModel",
     "state": {
      "_dom_classes": [],
      "_model_module": "@jupyter-widgets/controls",
      "_model_module_version": "1.5.0",
      "_model_name": "FloatProgressModel",
      "_view_count": null,
      "_view_module": "@jupyter-widgets/controls",
      "_view_module_version": "1.5.0",
      "_view_name": "ProgressView",
      "bar_style": "success",
      "description": "",
      "description_tooltip": null,
      "layout": "IPY_MODEL_d8f36c4c74a1414797be8e9951e20b59",
      "max": 119705255,
      "min": 0,
      "orientation": "horizontal",
      "style": "IPY_MODEL_b820c851470f4828b55a22e5573b21a2",
      "value": 119705255
     }
    },
    "f22f3672d17948778439524ecd31cab9": {
     "model_module": "@jupyter-widgets/controls",
     "model_module_version": "1.5.0",
     "model_name": "HTMLModel",
     "state": {
      "_dom_classes": [],
      "_model_module": "@jupyter-widgets/controls",
      "_model_module_version": "1.5.0",
      "_model_name": "HTMLModel",
      "_view_count": null,
      "_view_module": "@jupyter-widgets/controls",
      "_view_module_version": "1.5.0",
      "_view_name": "HTMLView",
      "description": "",
      "description_tooltip": null,
      "layout": "IPY_MODEL_074b1f07edf543e4b8c48c752aac7bcc",
      "placeholder": "​",
      "style": "IPY_MODEL_c753d7b346644d12936817ffcdb63068",
      "value": "README.md: "
     }
    },
    "f41780e2839841049de33e0d96c5547c": {
     "model_module": "@jupyter-widgets/controls",
     "model_module_version": "1.5.0",
     "model_name": "DescriptionStyleModel",
     "state": {
      "_model_module": "@jupyter-widgets/controls",
      "_model_module_version": "1.5.0",
      "_model_name": "DescriptionStyleModel",
      "_view_count": null,
      "_view_module": "@jupyter-widgets/base",
      "_view_module_version": "1.2.0",
      "_view_name": "StyleView",
      "description_width": ""
     }
    },
    "f81f3aa76ea94547b3f2596d3164dbbf": {
     "model_module": "@jupyter-widgets/base",
     "model_module_version": "1.2.0",
     "model_name": "LayoutModel",
     "state": {
      "_model_module": "@jupyter-widgets/base",
      "_model_module_version": "1.2.0",
      "_model_name": "LayoutModel",
      "_view_count": null,
      "_view_module": "@jupyter-widgets/base",
      "_view_module_version": "1.2.0",
      "_view_name": "LayoutView",
      "align_content": null,
      "align_items": null,
      "align_self": null,
      "border": null,
      "bottom": null,
      "display": null,
      "flex": null,
      "flex_flow": null,
      "grid_area": null,
      "grid_auto_columns": null,
      "grid_auto_flow": null,
      "grid_auto_rows": null,
      "grid_column": null,
      "grid_gap": null,
      "grid_row": null,
      "grid_template_areas": null,
      "grid_template_columns": null,
      "grid_template_rows": null,
      "height": null,
      "justify_content": null,
      "justify_items": null,
      "left": null,
      "margin": null,
      "max_height": null,
      "max_width": null,
      "min_height": null,
      "min_width": null,
      "object_fit": null,
      "object_position": null,
      "order": null,
      "overflow": null,
      "overflow_x": null,
      "overflow_y": null,
      "padding": null,
      "right": null,
      "top": null,
      "visibility": null,
      "width": null
     }
    },
    "fdb1ba393fd9480bb88a7ba3396a9e1f": {
     "model_module": "@jupyter-widgets/base",
     "model_module_version": "1.2.0",
     "model_name": "LayoutModel",
     "state": {
      "_model_module": "@jupyter-widgets/base",
      "_model_module_version": "1.2.0",
      "_model_name": "LayoutModel",
      "_view_count": null,
      "_view_module": "@jupyter-widgets/base",
      "_view_module_version": "1.2.0",
      "_view_name": "LayoutView",
      "align_content": null,
      "align_items": null,
      "align_self": null,
      "border": null,
      "bottom": null,
      "display": null,
      "flex": null,
      "flex_flow": null,
      "grid_area": null,
      "grid_auto_columns": null,
      "grid_auto_flow": null,
      "grid_auto_rows": null,
      "grid_column": null,
      "grid_gap": null,
      "grid_row": null,
      "grid_template_areas": null,
      "grid_template_columns": null,
      "grid_template_rows": null,
      "height": null,
      "justify_content": null,
      "justify_items": null,
      "left": null,
      "margin": null,
      "max_height": null,
      "max_width": null,
      "min_height": null,
      "min_width": null,
      "object_fit": null,
      "object_position": null,
      "order": null,
      "overflow": null,
      "overflow_x": null,
      "overflow_y": null,
      "padding": null,
      "right": null,
      "top": null,
      "visibility": null,
      "width": null
     }
    }
   }
  }
 },
 "nbformat": 4,
 "nbformat_minor": 0
}
